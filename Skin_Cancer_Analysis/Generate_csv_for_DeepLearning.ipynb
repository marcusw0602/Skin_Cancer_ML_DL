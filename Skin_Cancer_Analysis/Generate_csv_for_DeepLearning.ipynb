{
  "nbformat": 4,
  "nbformat_minor": 0,
  "metadata": {
    "colab": {
      "name": "Generate csv for DeepLearning.ipynb",
      "provenance": [],
      "authorship_tag": "ABX9TyMYkYLbT8/30si0x1GqBYT2",
      "include_colab_link": true
    },
    "kernelspec": {
      "name": "python3",
      "display_name": "Python 3"
    },
    "language_info": {
      "name": "python"
    }
  },
  "cells": [
    {
      "cell_type": "markdown",
      "metadata": {
        "id": "view-in-github",
        "colab_type": "text"
      },
      "source": [
        "<a href=\"https://colab.research.google.com/github/yunpengliDataScience/Skin_Cancer_ML_DL/blob/main/Skin_Cancer_Analysis/Generate_csv_for_DeepLearning.ipynb\" target=\"_parent\"><img src=\"https://colab.research.google.com/assets/colab-badge.svg\" alt=\"Open In Colab\"/></a>"
      ]
    },
    {
      "cell_type": "code",
      "metadata": {
        "id": "zOX6glYYsaAk"
      },
      "source": [
        "import sys\n",
        "import os\n",
        "from imageio import imread\n",
        "from PIL import Image\n",
        "from glob import glob\n",
        "import numpy as np\n",
        "import pandas as pd\n",
        "import seaborn as sns\n",
        "import matplotlib.pyplot as plt\n",
        "from matplotlib.pyplot import imshow\n",
        "from sklearn import preprocessing"
      ],
      "execution_count": 1,
      "outputs": []
    },
    {
      "cell_type": "code",
      "metadata": {
        "colab": {
          "base_uri": "https://localhost:8080/"
        },
        "id": "e98zbyQKskCt",
        "outputId": "1bc278f5-5650-40a5-d62a-e0ddfa9d538c"
      },
      "source": [
        "from google.colab import drive\n",
        "drive.mount('/content/gdrive')"
      ],
      "execution_count": 2,
      "outputs": [
        {
          "output_type": "stream",
          "name": "stdout",
          "text": [
            "Mounted at /content/gdrive\n"
          ]
        }
      ]
    },
    {
      "cell_type": "code",
      "metadata": {
        "colab": {
          "base_uri": "https://localhost:8080/"
        },
        "id": "VO8g1bzisj6C",
        "outputId": "689425e7-4eab-42b9-eee9-3867554cbbd7"
      },
      "source": [
        "project_root_path_string = '/content/gdrive/My Drive/Data606/Project/Skin_Cancer_Analysis/'\n",
        "\n",
        "print(\"project_root_path_string:\", project_root_path_string)"
      ],
      "execution_count": 3,
      "outputs": [
        {
          "output_type": "stream",
          "name": "stdout",
          "text": [
            "project_root_path_string: /content/gdrive/My Drive/Data606/Project/Skin_Cancer_Analysis/\n"
          ]
        }
      ]
    },
    {
      "cell_type": "code",
      "metadata": {
        "colab": {
          "base_uri": "https://localhost:8080/"
        },
        "id": "RJLWL3hLsjwV",
        "outputId": "d91cb050-9ff1-4f34-d494-bf35fab8ed1b"
      },
      "source": [
        "sys.path.append(project_root_path_string)\n",
        "\n",
        "sys.path"
      ],
      "execution_count": 4,
      "outputs": [
        {
          "output_type": "execute_result",
          "data": {
            "text/plain": [
              "['',\n",
              " '/content',\n",
              " '/env/python',\n",
              " '/usr/lib/python37.zip',\n",
              " '/usr/lib/python3.7',\n",
              " '/usr/lib/python3.7/lib-dynload',\n",
              " '/usr/local/lib/python3.7/dist-packages',\n",
              " '/usr/lib/python3/dist-packages',\n",
              " '/usr/local/lib/python3.7/dist-packages/IPython/extensions',\n",
              " '/root/.ipython',\n",
              " '/content/gdrive/My Drive/Data606/Project/Skin_Cancer_Analysis/']"
            ]
          },
          "metadata": {},
          "execution_count": 4
        }
      ]
    },
    {
      "cell_type": "code",
      "metadata": {
        "colab": {
          "base_uri": "https://localhost:8080/"
        },
        "id": "pJyF1-t9sji9",
        "outputId": "1526a437-769f-4f02-902e-4f8ac5c5d9df"
      },
      "source": [
        "data_root_path = os.path.join(project_root_path_string, 'data') \n",
        "\n",
        "print(\"data_root_path:\", data_root_path)"
      ],
      "execution_count": 5,
      "outputs": [
        {
          "output_type": "stream",
          "name": "stdout",
          "text": [
            "data_root_path: /content/gdrive/My Drive/Data606/Project/Skin_Cancer_Analysis/data\n"
          ]
        }
      ]
    },
    {
      "cell_type": "code",
      "metadata": {
        "colab": {
          "base_uri": "https://localhost:8080/"
        },
        "id": "qQWI7sxWsvZW",
        "outputId": "31b17f65-71ea-49a5-c1b0-dbc720a40d0d"
      },
      "source": [
        "raw_data_path =  os.path.join(data_root_path, 'raw_image_data') \n",
        "print(\"raw_data_path:\", raw_data_path)"
      ],
      "execution_count": 6,
      "outputs": [
        {
          "output_type": "stream",
          "name": "stdout",
          "text": [
            "raw_data_path: /content/gdrive/My Drive/Data606/Project/Skin_Cancer_Analysis/data/raw_image_data\n"
          ]
        }
      ]
    },
    {
      "cell_type": "code",
      "metadata": {
        "colab": {
          "base_uri": "https://localhost:8080/"
        },
        "id": "drn0NelFsvRR",
        "outputId": "246e202e-c17a-4259-a05f-f4b4de05d4db"
      },
      "source": [
        "tabular_data_path = os.path.join(data_root_path, 'tabular_data') \n",
        "\n",
        "print(\"tabular_data_path:\", tabular_data_path)"
      ],
      "execution_count": 7,
      "outputs": [
        {
          "output_type": "stream",
          "name": "stdout",
          "text": [
            "tabular_data_path: /content/gdrive/My Drive/Data606/Project/Skin_Cancer_Analysis/data/tabular_data\n"
          ]
        }
      ]
    },
    {
      "cell_type": "code",
      "metadata": {
        "id": "nKyk_uyvsvHK"
      },
      "source": [
        "metaData_pd = pd.read_csv(os.path.join(tabular_data_path, 'metadata.csv'))"
      ],
      "execution_count": 8,
      "outputs": []
    },
    {
      "cell_type": "code",
      "metadata": {
        "colab": {
          "base_uri": "https://localhost:8080/",
          "height": 226
        },
        "id": "lrKzWkUDsu6m",
        "outputId": "e13fc695-f9db-4d54-e950-5abed344692f"
      },
      "source": [
        "metaData_pd.head()"
      ],
      "execution_count": null,
      "outputs": [
        {
          "output_type": "execute_result",
          "data": {
            "text/html": [
              "<div>\n",
              "<style scoped>\n",
              "    .dataframe tbody tr th:only-of-type {\n",
              "        vertical-align: middle;\n",
              "    }\n",
              "\n",
              "    .dataframe tbody tr th {\n",
              "        vertical-align: top;\n",
              "    }\n",
              "\n",
              "    .dataframe thead th {\n",
              "        text-align: right;\n",
              "    }\n",
              "</style>\n",
              "<table border=\"1\" class=\"dataframe\">\n",
              "  <thead>\n",
              "    <tr style=\"text-align: right;\">\n",
              "      <th></th>\n",
              "      <th>patient_id</th>\n",
              "      <th>lesion_id</th>\n",
              "      <th>smoke</th>\n",
              "      <th>drink</th>\n",
              "      <th>background_father</th>\n",
              "      <th>background_mother</th>\n",
              "      <th>age</th>\n",
              "      <th>pesticide</th>\n",
              "      <th>gender</th>\n",
              "      <th>skin_cancer_history</th>\n",
              "      <th>cancer_history</th>\n",
              "      <th>has_piped_water</th>\n",
              "      <th>has_sewage_system</th>\n",
              "      <th>fitspatrick</th>\n",
              "      <th>region</th>\n",
              "      <th>diameter_1</th>\n",
              "      <th>diameter_2</th>\n",
              "      <th>diagnostic</th>\n",
              "      <th>itch</th>\n",
              "      <th>grew</th>\n",
              "      <th>hurt</th>\n",
              "      <th>changed</th>\n",
              "      <th>bleed</th>\n",
              "      <th>elevation</th>\n",
              "      <th>img_id</th>\n",
              "      <th>biopsed</th>\n",
              "    </tr>\n",
              "  </thead>\n",
              "  <tbody>\n",
              "    <tr>\n",
              "      <th>0</th>\n",
              "      <td>PAT_1516</td>\n",
              "      <td>1765</td>\n",
              "      <td>NaN</td>\n",
              "      <td>NaN</td>\n",
              "      <td>NaN</td>\n",
              "      <td>NaN</td>\n",
              "      <td>8</td>\n",
              "      <td>NaN</td>\n",
              "      <td>NaN</td>\n",
              "      <td>NaN</td>\n",
              "      <td>NaN</td>\n",
              "      <td>NaN</td>\n",
              "      <td>NaN</td>\n",
              "      <td>NaN</td>\n",
              "      <td>ARM</td>\n",
              "      <td>NaN</td>\n",
              "      <td>NaN</td>\n",
              "      <td>NEV</td>\n",
              "      <td>False</td>\n",
              "      <td>False</td>\n",
              "      <td>False</td>\n",
              "      <td>False</td>\n",
              "      <td>False</td>\n",
              "      <td>False</td>\n",
              "      <td>PAT_1516_1765_530.png</td>\n",
              "      <td>False</td>\n",
              "    </tr>\n",
              "    <tr>\n",
              "      <th>1</th>\n",
              "      <td>PAT_46</td>\n",
              "      <td>881</td>\n",
              "      <td>False</td>\n",
              "      <td>False</td>\n",
              "      <td>POMERANIA</td>\n",
              "      <td>POMERANIA</td>\n",
              "      <td>55</td>\n",
              "      <td>False</td>\n",
              "      <td>FEMALE</td>\n",
              "      <td>True</td>\n",
              "      <td>True</td>\n",
              "      <td>True</td>\n",
              "      <td>True</td>\n",
              "      <td>3.0</td>\n",
              "      <td>NECK</td>\n",
              "      <td>6.0</td>\n",
              "      <td>5.0</td>\n",
              "      <td>BCC</td>\n",
              "      <td>True</td>\n",
              "      <td>True</td>\n",
              "      <td>False</td>\n",
              "      <td>True</td>\n",
              "      <td>True</td>\n",
              "      <td>True</td>\n",
              "      <td>PAT_46_881_939.png</td>\n",
              "      <td>True</td>\n",
              "    </tr>\n",
              "    <tr>\n",
              "      <th>2</th>\n",
              "      <td>PAT_1545</td>\n",
              "      <td>1867</td>\n",
              "      <td>NaN</td>\n",
              "      <td>NaN</td>\n",
              "      <td>NaN</td>\n",
              "      <td>NaN</td>\n",
              "      <td>77</td>\n",
              "      <td>NaN</td>\n",
              "      <td>NaN</td>\n",
              "      <td>NaN</td>\n",
              "      <td>NaN</td>\n",
              "      <td>NaN</td>\n",
              "      <td>NaN</td>\n",
              "      <td>NaN</td>\n",
              "      <td>FACE</td>\n",
              "      <td>NaN</td>\n",
              "      <td>NaN</td>\n",
              "      <td>ACK</td>\n",
              "      <td>True</td>\n",
              "      <td>False</td>\n",
              "      <td>False</td>\n",
              "      <td>False</td>\n",
              "      <td>False</td>\n",
              "      <td>False</td>\n",
              "      <td>PAT_1545_1867_547.png</td>\n",
              "      <td>False</td>\n",
              "    </tr>\n",
              "    <tr>\n",
              "      <th>3</th>\n",
              "      <td>PAT_1989</td>\n",
              "      <td>4061</td>\n",
              "      <td>NaN</td>\n",
              "      <td>NaN</td>\n",
              "      <td>NaN</td>\n",
              "      <td>NaN</td>\n",
              "      <td>75</td>\n",
              "      <td>NaN</td>\n",
              "      <td>NaN</td>\n",
              "      <td>NaN</td>\n",
              "      <td>NaN</td>\n",
              "      <td>NaN</td>\n",
              "      <td>NaN</td>\n",
              "      <td>NaN</td>\n",
              "      <td>HAND</td>\n",
              "      <td>NaN</td>\n",
              "      <td>NaN</td>\n",
              "      <td>ACK</td>\n",
              "      <td>True</td>\n",
              "      <td>False</td>\n",
              "      <td>False</td>\n",
              "      <td>False</td>\n",
              "      <td>False</td>\n",
              "      <td>False</td>\n",
              "      <td>PAT_1989_4061_934.png</td>\n",
              "      <td>False</td>\n",
              "    </tr>\n",
              "    <tr>\n",
              "      <th>4</th>\n",
              "      <td>PAT_684</td>\n",
              "      <td>1302</td>\n",
              "      <td>False</td>\n",
              "      <td>True</td>\n",
              "      <td>POMERANIA</td>\n",
              "      <td>POMERANIA</td>\n",
              "      <td>79</td>\n",
              "      <td>False</td>\n",
              "      <td>MALE</td>\n",
              "      <td>True</td>\n",
              "      <td>False</td>\n",
              "      <td>False</td>\n",
              "      <td>False</td>\n",
              "      <td>1.0</td>\n",
              "      <td>FOREARM</td>\n",
              "      <td>5.0</td>\n",
              "      <td>5.0</td>\n",
              "      <td>BCC</td>\n",
              "      <td>True</td>\n",
              "      <td>True</td>\n",
              "      <td>False</td>\n",
              "      <td>False</td>\n",
              "      <td>True</td>\n",
              "      <td>True</td>\n",
              "      <td>PAT_684_1302_588.png</td>\n",
              "      <td>True</td>\n",
              "    </tr>\n",
              "  </tbody>\n",
              "</table>\n",
              "</div>"
            ],
            "text/plain": [
              "  patient_id  lesion_id  smoke  ... elevation                 img_id biopsed\n",
              "0   PAT_1516       1765    NaN  ...     False  PAT_1516_1765_530.png   False\n",
              "1     PAT_46        881  False  ...      True     PAT_46_881_939.png    True\n",
              "2   PAT_1545       1867    NaN  ...     False  PAT_1545_1867_547.png   False\n",
              "3   PAT_1989       4061    NaN  ...     False  PAT_1989_4061_934.png   False\n",
              "4    PAT_684       1302  False  ...      True   PAT_684_1302_588.png    True\n",
              "\n",
              "[5 rows x 26 columns]"
            ]
          },
          "metadata": {},
          "execution_count": 10
        }
      ]
    },
    {
      "cell_type": "code",
      "metadata": {
        "colab": {
          "base_uri": "https://localhost:8080/"
        },
        "id": "8JXtUrYNs721",
        "outputId": "5ddddefa-03a2-4817-8739-ba10dfce9159"
      },
      "source": [
        "count_nan_in_df = metaData_pd.isnull().sum()\n",
        "print (count_nan_in_df)"
      ],
      "execution_count": null,
      "outputs": [
        {
          "output_type": "stream",
          "name": "stdout",
          "text": [
            "patient_id               0\n",
            "lesion_id                0\n",
            "smoke                  804\n",
            "drink                  804\n",
            "background_father      818\n",
            "background_mother      822\n",
            "age                      0\n",
            "pesticide              804\n",
            "gender                 804\n",
            "skin_cancer_history    804\n",
            "cancer_history         804\n",
            "has_piped_water        804\n",
            "has_sewage_system      804\n",
            "fitspatrick            804\n",
            "region                   0\n",
            "diameter_1             804\n",
            "diameter_2             804\n",
            "diagnostic               0\n",
            "itch                     0\n",
            "grew                     0\n",
            "hurt                     0\n",
            "changed                  0\n",
            "bleed                    0\n",
            "elevation                0\n",
            "img_id                   0\n",
            "biopsed                  0\n",
            "dtype: int64\n"
          ]
        }
      ]
    },
    {
      "cell_type": "code",
      "metadata": {
        "id": "SUQpT-uPs7zd"
      },
      "source": [
        " le = preprocessing.LabelEncoder()"
      ],
      "execution_count": null,
      "outputs": []
    },
    {
      "cell_type": "code",
      "metadata": {
        "colab": {
          "base_uri": "https://localhost:8080/"
        },
        "id": "S_y8U29Rs7uv",
        "outputId": "52707882-fa83-4377-f3a3-a16b4cf7ec20"
      },
      "source": [
        "# categorical features check\n",
        "cat =metaData_pd.select_dtypes(include='O').keys()\n",
        "cat"
      ],
      "execution_count": null,
      "outputs": [
        {
          "output_type": "execute_result",
          "data": {
            "text/plain": [
              "Index(['patient_id', 'smoke', 'drink', 'background_father',\n",
              "       'background_mother', 'pesticide', 'gender', 'skin_cancer_history',\n",
              "       'cancer_history', 'has_piped_water', 'has_sewage_system', 'region',\n",
              "       'diagnostic', 'itch', 'grew', 'hurt', 'changed', 'bleed', 'elevation',\n",
              "       'img_id'],\n",
              "      dtype='object')"
            ]
          },
          "metadata": {},
          "execution_count": 13
        }
      ]
    },
    {
      "cell_type": "code",
      "metadata": {
        "colab": {
          "base_uri": "https://localhost:8080/"
        },
        "id": "aHoCJkaVs7rQ",
        "outputId": "cec01ea1-43a2-451d-8388-8992ef9fb325"
      },
      "source": [
        "# replace the missing for data categorical variable based on the mode function. most frequent value.\n",
        "cat_columns = metaData_pd[['smoke', 'drink', 'background_father', 'background_mother', 'pesticide',\n",
        "       'gender', 'skin_cancer_history', 'cancer_history', 'has_piped_water',\n",
        "       'has_sewage_system', 'region', 'itch', 'grew', 'hurt',\n",
        "       'changed', 'bleed', 'elevation','biopsed']]\n",
        "# cat_columns=cat_columns.fillna(cat_columns.columns.mode())\n",
        "# cat_columns\n",
        "for column in cat_columns.columns:\n",
        "    cat_columns[column].fillna(cat_columns[column].mode()[0], inplace=True)"
      ],
      "execution_count": 28,
      "outputs": [
        {
          "output_type": "stream",
          "name": "stderr",
          "text": [
            "/usr/local/lib/python3.7/dist-packages/pandas/core/series.py:4536: SettingWithCopyWarning: \n",
            "A value is trying to be set on a copy of a slice from a DataFrame\n",
            "\n",
            "See the caveats in the documentation: https://pandas.pydata.org/pandas-docs/stable/user_guide/indexing.html#returning-a-view-versus-a-copy\n",
            "  downcast=downcast,\n"
          ]
        }
      ]
    },
    {
      "cell_type": "code",
      "metadata": {
        "colab": {
          "base_uri": "https://localhost:8080/"
        },
        "id": "BQsDfZMXs7lF",
        "outputId": "d34a41a3-4a0c-4726-d7ee-eee753eed136"
      },
      "source": [
        "cat_columns.info()"
      ],
      "execution_count": 29,
      "outputs": [
        {
          "output_type": "stream",
          "name": "stdout",
          "text": [
            "<class 'pandas.core.frame.DataFrame'>\n",
            "RangeIndex: 2298 entries, 0 to 2297\n",
            "Data columns (total 18 columns):\n",
            " #   Column               Non-Null Count  Dtype \n",
            "---  ------               --------------  ----- \n",
            " 0   smoke                2298 non-null   bool  \n",
            " 1   drink                2298 non-null   bool  \n",
            " 2   background_father    2298 non-null   object\n",
            " 3   background_mother    2298 non-null   object\n",
            " 4   pesticide            2298 non-null   bool  \n",
            " 5   gender               2298 non-null   object\n",
            " 6   skin_cancer_history  2298 non-null   bool  \n",
            " 7   cancer_history       2298 non-null   bool  \n",
            " 8   has_piped_water      2298 non-null   bool  \n",
            " 9   has_sewage_system    2298 non-null   bool  \n",
            " 10  region               2298 non-null   object\n",
            " 11  itch                 2298 non-null   object\n",
            " 12  grew                 2298 non-null   object\n",
            " 13  hurt                 2298 non-null   object\n",
            " 14  changed              2298 non-null   object\n",
            " 15  bleed                2298 non-null   object\n",
            " 16  elevation            2298 non-null   object\n",
            " 17  biopsed              2298 non-null   bool  \n",
            "dtypes: bool(8), object(10)\n",
            "memory usage: 197.6+ KB\n"
          ]
        }
      ]
    },
    {
      "cell_type": "code",
      "metadata": {
        "id": "HSwcIrBxs7ZY",
        "colab": {
          "base_uri": "https://localhost:8080/"
        },
        "outputId": "310d1ad2-b5e8-4555-cc71-99c522de9d52"
      },
      "source": [
        "metaData_le= cat_columns\n",
        "##numeric features impute mean values for nan\n",
        "#Taking care of Missing data\n",
        "col=metaData_pd[['age','fitspatrick','diameter_1','diameter_2']]\n",
        "from sklearn.impute import SimpleImputer  \n",
        "imputer = SimpleImputer(missing_values=np.nan, strategy='mean')\n",
        "imputer = imputer.fit(col)\n",
        "###merge the numeric fields to the categorical fields\n",
        "metaData_le[['age','fitspatrick','diameter_1','diameter_2']]= imputer.transform(col)"
      ],
      "execution_count": 30,
      "outputs": [
        {
          "output_type": "stream",
          "name": "stderr",
          "text": [
            "/usr/local/lib/python3.7/dist-packages/pandas/core/indexing.py:659: SettingWithCopyWarning: \n",
            "A value is trying to be set on a copy of a slice from a DataFrame.\n",
            "Try using .loc[row_indexer,col_indexer] = value instead\n",
            "\n",
            "See the caveats in the documentation: https://pandas.pydata.org/pandas-docs/stable/user_guide/indexing.html#returning-a-view-versus-a-copy\n",
            "  self.obj[k] = np.nan\n",
            "/usr/local/lib/python3.7/dist-packages/ipykernel_launcher.py:9: SettingWithCopyWarning: \n",
            "A value is trying to be set on a copy of a slice from a DataFrame.\n",
            "Try using .loc[row_indexer,col_indexer] = value instead\n",
            "\n",
            "See the caveats in the documentation: https://pandas.pydata.org/pandas-docs/stable/user_guide/indexing.html#returning-a-view-versus-a-copy\n",
            "  if __name__ == '__main__':\n",
            "/usr/local/lib/python3.7/dist-packages/pandas/core/indexing.py:1734: SettingWithCopyWarning: \n",
            "A value is trying to be set on a copy of a slice from a DataFrame.\n",
            "Try using .loc[row_indexer,col_indexer] = value instead\n",
            "\n",
            "See the caveats in the documentation: https://pandas.pydata.org/pandas-docs/stable/user_guide/indexing.html#returning-a-view-versus-a-copy\n",
            "  isetter(loc, value[:, i].tolist())\n"
          ]
        }
      ]
    },
    {
      "cell_type": "code",
      "metadata": {
        "id": "EiG37z2PtQo5",
        "colab": {
          "base_uri": "https://localhost:8080/"
        },
        "outputId": "2d94feed-9bf7-4880-8ffd-857d675688c3"
      },
      "source": [
        "metaData_le.info()"
      ],
      "execution_count": 31,
      "outputs": [
        {
          "output_type": "stream",
          "name": "stdout",
          "text": [
            "<class 'pandas.core.frame.DataFrame'>\n",
            "RangeIndex: 2298 entries, 0 to 2297\n",
            "Data columns (total 22 columns):\n",
            " #   Column               Non-Null Count  Dtype  \n",
            "---  ------               --------------  -----  \n",
            " 0   smoke                2298 non-null   bool   \n",
            " 1   drink                2298 non-null   bool   \n",
            " 2   background_father    2298 non-null   object \n",
            " 3   background_mother    2298 non-null   object \n",
            " 4   pesticide            2298 non-null   bool   \n",
            " 5   gender               2298 non-null   object \n",
            " 6   skin_cancer_history  2298 non-null   bool   \n",
            " 7   cancer_history       2298 non-null   bool   \n",
            " 8   has_piped_water      2298 non-null   bool   \n",
            " 9   has_sewage_system    2298 non-null   bool   \n",
            " 10  region               2298 non-null   object \n",
            " 11  itch                 2298 non-null   object \n",
            " 12  grew                 2298 non-null   object \n",
            " 13  hurt                 2298 non-null   object \n",
            " 14  changed              2298 non-null   object \n",
            " 15  bleed                2298 non-null   object \n",
            " 16  elevation            2298 non-null   object \n",
            " 17  biopsed              2298 non-null   bool   \n",
            " 18  age                  2298 non-null   float64\n",
            " 19  fitspatrick          2298 non-null   float64\n",
            " 20  diameter_1           2298 non-null   float64\n",
            " 21  diameter_2           2298 non-null   float64\n",
            "dtypes: bool(8), float64(4), object(10)\n",
            "memory usage: 269.4+ KB\n"
          ]
        }
      ]
    },
    {
      "cell_type": "code",
      "metadata": {
        "colab": {
          "base_uri": "https://localhost:8080/",
          "height": 226
        },
        "id": "V7vYvtM36RrQ",
        "outputId": "c59ad80e-1125-450c-adbf-0212b519572e"
      },
      "source": [
        "metaData_le=metaData_le.join(metaData_pd['diagnostic'])\n",
        "metaData_le.head()"
      ],
      "execution_count": 32,
      "outputs": [
        {
          "output_type": "execute_result",
          "data": {
            "text/html": [
              "<div>\n",
              "<style scoped>\n",
              "    .dataframe tbody tr th:only-of-type {\n",
              "        vertical-align: middle;\n",
              "    }\n",
              "\n",
              "    .dataframe tbody tr th {\n",
              "        vertical-align: top;\n",
              "    }\n",
              "\n",
              "    .dataframe thead th {\n",
              "        text-align: right;\n",
              "    }\n",
              "</style>\n",
              "<table border=\"1\" class=\"dataframe\">\n",
              "  <thead>\n",
              "    <tr style=\"text-align: right;\">\n",
              "      <th></th>\n",
              "      <th>smoke</th>\n",
              "      <th>drink</th>\n",
              "      <th>background_father</th>\n",
              "      <th>background_mother</th>\n",
              "      <th>pesticide</th>\n",
              "      <th>gender</th>\n",
              "      <th>skin_cancer_history</th>\n",
              "      <th>cancer_history</th>\n",
              "      <th>has_piped_water</th>\n",
              "      <th>has_sewage_system</th>\n",
              "      <th>region</th>\n",
              "      <th>itch</th>\n",
              "      <th>grew</th>\n",
              "      <th>hurt</th>\n",
              "      <th>changed</th>\n",
              "      <th>bleed</th>\n",
              "      <th>elevation</th>\n",
              "      <th>biopsed</th>\n",
              "      <th>age</th>\n",
              "      <th>fitspatrick</th>\n",
              "      <th>diameter_1</th>\n",
              "      <th>diameter_2</th>\n",
              "      <th>diagnostic</th>\n",
              "    </tr>\n",
              "  </thead>\n",
              "  <tbody>\n",
              "    <tr>\n",
              "      <th>0</th>\n",
              "      <td>False</td>\n",
              "      <td>False</td>\n",
              "      <td>POMERANIA</td>\n",
              "      <td>POMERANIA</td>\n",
              "      <td>False</td>\n",
              "      <td>FEMALE</td>\n",
              "      <td>False</td>\n",
              "      <td>True</td>\n",
              "      <td>True</td>\n",
              "      <td>True</td>\n",
              "      <td>ARM</td>\n",
              "      <td>False</td>\n",
              "      <td>False</td>\n",
              "      <td>False</td>\n",
              "      <td>False</td>\n",
              "      <td>False</td>\n",
              "      <td>False</td>\n",
              "      <td>False</td>\n",
              "      <td>8.0</td>\n",
              "      <td>2.26573</td>\n",
              "      <td>11.897055</td>\n",
              "      <td>8.852209</td>\n",
              "      <td>NEV</td>\n",
              "    </tr>\n",
              "    <tr>\n",
              "      <th>1</th>\n",
              "      <td>False</td>\n",
              "      <td>False</td>\n",
              "      <td>POMERANIA</td>\n",
              "      <td>POMERANIA</td>\n",
              "      <td>False</td>\n",
              "      <td>FEMALE</td>\n",
              "      <td>True</td>\n",
              "      <td>True</td>\n",
              "      <td>True</td>\n",
              "      <td>True</td>\n",
              "      <td>NECK</td>\n",
              "      <td>True</td>\n",
              "      <td>True</td>\n",
              "      <td>False</td>\n",
              "      <td>True</td>\n",
              "      <td>True</td>\n",
              "      <td>True</td>\n",
              "      <td>True</td>\n",
              "      <td>55.0</td>\n",
              "      <td>3.00000</td>\n",
              "      <td>6.000000</td>\n",
              "      <td>5.000000</td>\n",
              "      <td>BCC</td>\n",
              "    </tr>\n",
              "    <tr>\n",
              "      <th>2</th>\n",
              "      <td>False</td>\n",
              "      <td>False</td>\n",
              "      <td>POMERANIA</td>\n",
              "      <td>POMERANIA</td>\n",
              "      <td>False</td>\n",
              "      <td>FEMALE</td>\n",
              "      <td>False</td>\n",
              "      <td>True</td>\n",
              "      <td>True</td>\n",
              "      <td>True</td>\n",
              "      <td>FACE</td>\n",
              "      <td>True</td>\n",
              "      <td>False</td>\n",
              "      <td>False</td>\n",
              "      <td>False</td>\n",
              "      <td>False</td>\n",
              "      <td>False</td>\n",
              "      <td>False</td>\n",
              "      <td>77.0</td>\n",
              "      <td>2.26573</td>\n",
              "      <td>11.897055</td>\n",
              "      <td>8.852209</td>\n",
              "      <td>ACK</td>\n",
              "    </tr>\n",
              "    <tr>\n",
              "      <th>3</th>\n",
              "      <td>False</td>\n",
              "      <td>False</td>\n",
              "      <td>POMERANIA</td>\n",
              "      <td>POMERANIA</td>\n",
              "      <td>False</td>\n",
              "      <td>FEMALE</td>\n",
              "      <td>False</td>\n",
              "      <td>True</td>\n",
              "      <td>True</td>\n",
              "      <td>True</td>\n",
              "      <td>HAND</td>\n",
              "      <td>True</td>\n",
              "      <td>False</td>\n",
              "      <td>False</td>\n",
              "      <td>False</td>\n",
              "      <td>False</td>\n",
              "      <td>False</td>\n",
              "      <td>False</td>\n",
              "      <td>75.0</td>\n",
              "      <td>2.26573</td>\n",
              "      <td>11.897055</td>\n",
              "      <td>8.852209</td>\n",
              "      <td>ACK</td>\n",
              "    </tr>\n",
              "    <tr>\n",
              "      <th>4</th>\n",
              "      <td>False</td>\n",
              "      <td>True</td>\n",
              "      <td>POMERANIA</td>\n",
              "      <td>POMERANIA</td>\n",
              "      <td>False</td>\n",
              "      <td>MALE</td>\n",
              "      <td>True</td>\n",
              "      <td>False</td>\n",
              "      <td>False</td>\n",
              "      <td>False</td>\n",
              "      <td>FOREARM</td>\n",
              "      <td>True</td>\n",
              "      <td>True</td>\n",
              "      <td>False</td>\n",
              "      <td>False</td>\n",
              "      <td>True</td>\n",
              "      <td>True</td>\n",
              "      <td>True</td>\n",
              "      <td>79.0</td>\n",
              "      <td>1.00000</td>\n",
              "      <td>5.000000</td>\n",
              "      <td>5.000000</td>\n",
              "      <td>BCC</td>\n",
              "    </tr>\n",
              "  </tbody>\n",
              "</table>\n",
              "</div>"
            ],
            "text/plain": [
              "   smoke  drink background_father  ... diameter_1  diameter_2 diagnostic\n",
              "0  False  False         POMERANIA  ...  11.897055    8.852209        NEV\n",
              "1  False  False         POMERANIA  ...   6.000000    5.000000        BCC\n",
              "2  False  False         POMERANIA  ...  11.897055    8.852209        ACK\n",
              "3  False  False         POMERANIA  ...  11.897055    8.852209        ACK\n",
              "4  False   True         POMERANIA  ...   5.000000    5.000000        BCC\n",
              "\n",
              "[5 rows x 23 columns]"
            ]
          },
          "metadata": {},
          "execution_count": 32
        }
      ]
    },
    {
      "cell_type": "code",
      "metadata": {
        "colab": {
          "base_uri": "https://localhost:8080/"
        },
        "id": "ANip2a6b9DK0",
        "outputId": "b1938178-9bbc-4e84-bb7d-272e0b1dd2b1"
      },
      "source": [
        "metaData_le.columns"
      ],
      "execution_count": 33,
      "outputs": [
        {
          "output_type": "execute_result",
          "data": {
            "text/plain": [
              "Index(['smoke', 'drink', 'background_father', 'background_mother', 'pesticide',\n",
              "       'gender', 'skin_cancer_history', 'cancer_history', 'has_piped_water',\n",
              "       'has_sewage_system', 'region', 'itch', 'grew', 'hurt', 'changed',\n",
              "       'bleed', 'elevation', 'biopsed', 'age', 'fitspatrick', 'diameter_1',\n",
              "       'diameter_2', 'diagnostic'],\n",
              "      dtype='object')"
            ]
          },
          "metadata": {},
          "execution_count": 33
        }
      ]
    },
    {
      "cell_type": "code",
      "metadata": {
        "id": "RY9m9lJ059at"
      },
      "source": [
        "# ordinal encoding\n",
        "from sklearn.preprocessing import OrdinalEncoder\n",
        "# define ordinal encoding\n",
        "encoder = OrdinalEncoder()\n",
        "# transform data\n",
        "data_enc = encoder.fit_transform(metaData_le)\n",
        "# y_enc= encoder.fit_transform(y2.dropna())"
      ],
      "execution_count": 34,
      "outputs": []
    },
    {
      "cell_type": "code",
      "metadata": {
        "colab": {
          "base_uri": "https://localhost:8080/"
        },
        "id": "JdY-3uPW6h7z",
        "outputId": "f732e912-f998-4921-dfec-fccfd294e79a"
      },
      "source": [
        "np.unique(data_enc[:,-1])"
      ],
      "execution_count": 14,
      "outputs": [
        {
          "output_type": "execute_result",
          "data": {
            "text/plain": [
              "array([0., 1., 2., 3., 4., 5.])"
            ]
          },
          "metadata": {},
          "execution_count": 14
        }
      ]
    },
    {
      "cell_type": "code",
      "metadata": {
        "colab": {
          "base_uri": "https://localhost:8080/"
        },
        "id": "aQJVyUSa8eRk",
        "outputId": "f443ecdd-7554-44f7-8e18-f7c1f3ccce9b"
      },
      "source": [
        "# Changing Numpy array to dataframe\n",
        "metaData_le = pd.DataFrame(data_enc, columns = ['smoke', 'drink', 'background_father', 'background_mother', 'pesticide',\n",
        "       'gender', 'skin_cancer_history', 'cancer_history', 'has_piped_water',\n",
        "       'has_sewage_system', 'region', 'itch', 'grew', 'hurt', 'changed',\n",
        "       'bleed', 'elevation', 'biopsed', 'age', 'fitspatrick', 'diameter_1',\n",
        "       'diameter_2', 'target'])\n",
        "\n",
        "print(metaData_le)\n",
        "print(type(metaData_le))"
      ],
      "execution_count": 35,
      "outputs": [
        {
          "output_type": "stream",
          "name": "stdout",
          "text": [
            "      smoke  drink  background_father  ...  diameter_1  diameter_2  target\n",
            "0       0.0    0.0                9.0  ...        13.0        10.0     3.0\n",
            "1       0.0    0.0                9.0  ...         7.0         6.0     1.0\n",
            "2       0.0    0.0                9.0  ...        13.0        10.0     0.0\n",
            "3       0.0    0.0                9.0  ...        13.0        10.0     0.0\n",
            "4       0.0    1.0                9.0  ...         6.0         6.0     1.0\n",
            "...     ...    ...                ...  ...         ...         ...     ...\n",
            "2293    0.0    0.0                9.0  ...        13.0        10.0     0.0\n",
            "2294    0.0    0.0                9.0  ...        15.0        14.0     1.0\n",
            "2295    0.0    0.0                9.0  ...        13.0        10.0     5.0\n",
            "2296    0.0    0.0                9.0  ...         6.0         5.0     1.0\n",
            "2297    0.0    0.0                9.0  ...        13.0        10.0     5.0\n",
            "\n",
            "[2298 rows x 23 columns]\n",
            "<class 'pandas.core.frame.DataFrame'>\n"
          ]
        }
      ]
    },
    {
      "cell_type": "code",
      "metadata": {
        "id": "wDPrNgCztQfN"
      },
      "source": [
        "metaData_le[['img_id','lesion_id']]=metaData_pd[['img_id','lesion_id']]"
      ],
      "execution_count": 36,
      "outputs": []
    },
    {
      "cell_type": "code",
      "metadata": {
        "id": "5UWAEogHtQSK"
      },
      "source": [
        "metaData_le[['diagnostic']] = metaData_pd['diagnostic']"
      ],
      "execution_count": 37,
      "outputs": []
    },
    {
      "cell_type": "code",
      "metadata": {
        "id": "zLTWtxxitp5v"
      },
      "source": [
        "lesion_type_dict = {\n",
        "    'ACK': 'Actinic Keratosis',\n",
        "    'BCC': 'Basal Cell Carcinoma',\n",
        "    'MEL': 'Melanoma',\n",
        "    'NEV': 'Nevus',\n",
        "    'SCC': 'Squamous Cell Carcinoma',\n",
        "    'SEK': 'Seborrheic Keratosis'\n",
        "    \n",
        "}"
      ],
      "execution_count": 38,
      "outputs": []
    },
    {
      "cell_type": "code",
      "metadata": {
        "id": "Vg8F3PzDtptw"
      },
      "source": [
        "skin_image_paths = glob(os.path.join(raw_data_path, '*.png')) #glob patterns specify sets of filenames with wildcard character."
      ],
      "execution_count": 39,
      "outputs": []
    },
    {
      "cell_type": "code",
      "metadata": {
        "id": "_jbIb3aptpjF"
      },
      "source": [
        "image_id_and_path_dict = {os.path.basename(x): x for x in skin_image_paths}"
      ],
      "execution_count": 41,
      "outputs": []
    },
    {
      "cell_type": "code",
      "metadata": {
        "id": "ErxyoPTgtpTc"
      },
      "source": [
        "metaData_le['image_path'] = metaData_le['img_id'].map(image_id_and_path_dict.get)  # image path\n",
        "metaData_le['cell_type'] = metaData_le['diagnostic'].map(lesion_type_dict.get)     # cell type\n",
        "# metaData_le['cell_type_label'] = pd.Categorical(metaData_pd['cell_type']).codes    # cell type class label"
      ],
      "execution_count": 42,
      "outputs": []
    },
    {
      "cell_type": "code",
      "metadata": {
        "colab": {
          "base_uri": "https://localhost:8080/"
        },
        "id": "QSqAtp5Jt4tJ",
        "outputId": "a108c82f-b3f9-43df-c99a-ee7da86e3f96"
      },
      "source": [
        "metaData_le.info()"
      ],
      "execution_count": 43,
      "outputs": [
        {
          "output_type": "stream",
          "name": "stdout",
          "text": [
            "<class 'pandas.core.frame.DataFrame'>\n",
            "RangeIndex: 2298 entries, 0 to 2297\n",
            "Data columns (total 28 columns):\n",
            " #   Column               Non-Null Count  Dtype  \n",
            "---  ------               --------------  -----  \n",
            " 0   smoke                2298 non-null   float64\n",
            " 1   drink                2298 non-null   float64\n",
            " 2   background_father    2298 non-null   float64\n",
            " 3   background_mother    2298 non-null   float64\n",
            " 4   pesticide            2298 non-null   float64\n",
            " 5   gender               2298 non-null   float64\n",
            " 6   skin_cancer_history  2298 non-null   float64\n",
            " 7   cancer_history       2298 non-null   float64\n",
            " 8   has_piped_water      2298 non-null   float64\n",
            " 9   has_sewage_system    2298 non-null   float64\n",
            " 10  region               2298 non-null   float64\n",
            " 11  itch                 2298 non-null   float64\n",
            " 12  grew                 2298 non-null   float64\n",
            " 13  hurt                 2298 non-null   float64\n",
            " 14  changed              2298 non-null   float64\n",
            " 15  bleed                2298 non-null   float64\n",
            " 16  elevation            2298 non-null   float64\n",
            " 17  biopsed              2298 non-null   float64\n",
            " 18  age                  2298 non-null   float64\n",
            " 19  fitspatrick          2298 non-null   float64\n",
            " 20  diameter_1           2298 non-null   float64\n",
            " 21  diameter_2           2298 non-null   float64\n",
            " 22  target               2298 non-null   float64\n",
            " 23  img_id               2298 non-null   object \n",
            " 24  lesion_id            2298 non-null   int64  \n",
            " 25  diagnostic           2298 non-null   object \n",
            " 26  image_path           551 non-null    object \n",
            " 27  cell_type            2298 non-null   object \n",
            "dtypes: float64(23), int64(1), object(4)\n",
            "memory usage: 502.8+ KB\n"
          ]
        }
      ]
    },
    {
      "cell_type": "markdown",
      "metadata": {
        "id": "aLtoGmSz7vMl"
      },
      "source": [
        "**The best predictors we will take for model development are: age, biopsed, grew, region, pesticide, skin_cancer_history, cancer_history, background_father, drink, smoke, itch, bleed, changed, has_sewage_system, elevation**\n"
      ]
    },
    {
      "cell_type": "code",
      "metadata": {
        "id": "W1deeI4u7l0d"
      },
      "source": [
        "#dropping all the unwanted columns from the encoded dataframe\n",
        "#dropping background_mother, gender, has_piped_water, hurt, fitspatrick, diameter1, diameter_2\n",
        "data_exr=np.delete(data_enc,[3,5,8,13,20,21],axis=1)"
      ],
      "execution_count": 26,
      "outputs": []
    },
    {
      "cell_type": "code",
      "metadata": {
        "id": "V_y7N8nC8Pzb"
      },
      "source": [
        "data_exr"
      ],
      "execution_count": null,
      "outputs": []
    },
    {
      "cell_type": "code",
      "metadata": {
        "id": "LzwHsZURt4d6"
      },
      "source": [
        "data_exr.to_csv(\"/content/gdrive/My Drive/Data606/Project/Skin_Cancer_Analysis/data/Tablular_Encoded.csv\")"
      ],
      "execution_count": null,
      "outputs": []
    }
  ]
}