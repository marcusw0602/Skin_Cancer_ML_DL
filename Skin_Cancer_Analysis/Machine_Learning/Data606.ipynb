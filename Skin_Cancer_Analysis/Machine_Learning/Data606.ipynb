{
  "nbformat": 4,
  "nbformat_minor": 0,
  "metadata": {
    "colab": {
      "name": "Data606.ipynb",
      "provenance": [],
      "collapsed_sections": []
    },
    "kernelspec": {
      "name": "python3",
      "display_name": "Python 3"
    },
    "language_info": {
      "name": "python"
    }
  },
  "cells": [
    {
      "cell_type": "code",
      "metadata": {
        "id": "MjqPcg4zjusO"
      },
      "source": [
        "import sys\n",
        "import os\n",
        "from imageio import imread\n",
        "from PIL import Image\n",
        "from glob import glob\n",
        "import numpy as np\n",
        "import pandas as pd\n",
        "import seaborn as sns\n",
        "import matplotlib.pyplot as plt\n",
        "from matplotlib.pyplot import imshow\n",
        "from sklearn.preprocessing import LabelEncoder"
      ],
      "execution_count": null,
      "outputs": []
    },
    {
      "cell_type": "markdown",
      "metadata": {
        "id": "PgHk7EDhOuL8"
      },
      "source": [
        "**Mount Google Drive**"
      ]
    },
    {
      "cell_type": "code",
      "metadata": {
        "colab": {
          "base_uri": "https://localhost:8080/"
        },
        "id": "OmUdKVytjxT5",
        "outputId": "73bf17d0-d7ca-4a04-d575-2f992459da85"
      },
      "source": [
        "from google.colab import drive\n",
        "drive.mount('/content/gdrive')"
      ],
      "execution_count": null,
      "outputs": [
        {
          "output_type": "stream",
          "name": "stdout",
          "text": [
            "Drive already mounted at /content/gdrive; to attempt to forcibly remount, call drive.mount(\"/content/gdrive\", force_remount=True).\n"
          ]
        }
      ]
    },
    {
      "cell_type": "markdown",
      "metadata": {
        "id": "c8EUD6HNO3lK"
      },
      "source": [
        "**Create project root path:**"
      ]
    },
    {
      "cell_type": "code",
      "metadata": {
        "colab": {
          "base_uri": "https://localhost:8080/"
        },
        "id": "5rUjPHZ6j0jB",
        "outputId": "ce69ac5c-b78f-4ae6-c6e7-f5e9f89b36cc"
      },
      "source": [
        "project_root_path_string = '/content/gdrive/My Drive/Data606/Project/Skin_Cancer_Analysis'\n",
        "print(\"project_root_path_string:\", project_root_path_string) "
      ],
      "execution_count": null,
      "outputs": [
        {
          "output_type": "stream",
          "name": "stdout",
          "text": [
            "project_root_path_string: /content/gdrive/My Drive/Data606/Project/Skin_Cancer_Analysis\n"
          ]
        }
      ]
    },
    {
      "cell_type": "code",
      "metadata": {
        "colab": {
          "base_uri": "https://localhost:8080/"
        },
        "id": "DeI0v6ZTpZlq",
        "outputId": "ad588125-fc27-4e30-8490-55ad30d54c01"
      },
      "source": [
        "sys.path.append(project_root_path_string)\n",
        "\n",
        "sys.path"
      ],
      "execution_count": null,
      "outputs": [
        {
          "output_type": "execute_result",
          "data": {
            "text/plain": [
              "['',\n",
              " '/content',\n",
              " '/env/python',\n",
              " '/usr/lib/python37.zip',\n",
              " '/usr/lib/python3.7',\n",
              " '/usr/lib/python3.7/lib-dynload',\n",
              " '/usr/local/lib/python3.7/dist-packages',\n",
              " '/usr/lib/python3/dist-packages',\n",
              " '/usr/local/lib/python3.7/dist-packages/IPython/extensions',\n",
              " '/root/.ipython',\n",
              " '/content/gdrive/My Drive/Data606/Project/Skin_Cancer_Analysis',\n",
              " '/content/gdrive/My Drive/Data606/Project/Skin_Cancer_Analysis',\n",
              " '/content/gdrive/My Drive/Data606/Project/Skin_Cancer_Analysis',\n",
              " '/content/gdrive/My Drive/Data606/Project/Skin_Cancer_Analysis',\n",
              " '/content/gdrive/My Drive/Data606/Project/Skin_Cancer_Analysis',\n",
              " '/content/gdrive/My Drive/Data606/Project/Skin_Cancer_Analysis',\n",
              " '/content/gdrive/My Drive/Data606/Project/Skin_Cancer_Analysis',\n",
              " '/content/gdrive/My Drive/Data606/Project/Skin_Cancer_Analysis',\n",
              " '/content/gdrive/My Drive/Data606/Project/Skin_Cancer_Analysis',\n",
              " '/content/gdrive/My Drive/Data606/Project/Skin_Cancer_Analysis',\n",
              " '/content/gdrive/My Drive/Data606/Project/Skin_Cancer_Analysis',\n",
              " '/content/gdrive/My Drive/Data606/Project/Skin_Cancer_Analysis',\n",
              " '/content/gdrive/My Drive/Data606/Project/Skin_Cancer_Analysis',\n",
              " '/content/gdrive/My Drive/Data606/Project/Skin_Cancer_Analysis',\n",
              " '/content/gdrive/My Drive/Data606/Project/Skin_Cancer_Analysis',\n",
              " '/content/gdrive/My Drive/Data606/Project/Skin_Cancer_Analysis',\n",
              " '/content/gdrive/My Drive/Data606/Project/Skin_Cancer_Analysis',\n",
              " '/content/gdrive/My Drive/Data606/Project/Skin_Cancer_Analysis',\n",
              " '/content/gdrive/My Drive/Data606/Project/Skin_Cancer_Analysis',\n",
              " '/content/gdrive/My Drive/Data606/Project/Skin_Cancer_Analysis',\n",
              " '/content/gdrive/My Drive/Data606/Project/Skin_Cancer_Analysis',\n",
              " '/content/gdrive/My Drive/Data606/Project/Skin_Cancer_Analysis',\n",
              " '/content/gdrive/My Drive/Data606/Project/Skin_Cancer_Analysis',\n",
              " '/content/gdrive/My Drive/Data606/Project/Skin_Cancer_Analysis',\n",
              " '/content/gdrive/My Drive/Data606/Project/Skin_Cancer_Analysis',\n",
              " '/content/gdrive/My Drive/Data606/Project/Skin_Cancer_Analysis',\n",
              " '/content/gdrive/My Drive/Data606/Project/Skin_Cancer_Analysis',\n",
              " '/content/gdrive/My Drive/Data606/Project/Skin_Cancer_Analysis',\n",
              " '/content/gdrive/My Drive/Data606/Project/Skin_Cancer_Analysis']"
            ]
          },
          "metadata": {},
          "execution_count": 2035
        }
      ]
    },
    {
      "cell_type": "markdown",
      "metadata": {
        "id": "QKNYR_uOO_7R"
      },
      "source": [
        "**Get the root data directory:**"
      ]
    },
    {
      "cell_type": "code",
      "metadata": {
        "colab": {
          "base_uri": "https://localhost:8080/"
        },
        "id": "kZFO7ncKpb9v",
        "outputId": "c2949f82-c55b-4968-85c5-b9491a288ca2"
      },
      "source": [
        "data_root_path = os.path.join(project_root_path_string, 'data') \n",
        "\n",
        "print(\"data_root_path:\", data_root_path)"
      ],
      "execution_count": null,
      "outputs": [
        {
          "output_type": "stream",
          "name": "stdout",
          "text": [
            "data_root_path: /content/gdrive/My Drive/Data606/Project/Skin_Cancer_Analysis/data\n"
          ]
        }
      ]
    },
    {
      "cell_type": "markdown",
      "metadata": {
        "id": "JDQBTFV1PEHp"
      },
      "source": [
        "**Get the raw image data directory:**"
      ]
    },
    {
      "cell_type": "code",
      "metadata": {
        "colab": {
          "base_uri": "https://localhost:8080/"
        },
        "id": "AFTZksf9p0LN",
        "outputId": "db54c3ad-d94a-41c0-acf9-22ba2033b6c8"
      },
      "source": [
        "raw_data_path =  os.path.join(data_root_path, 'raw_image_data') \n",
        "print(\"raw_data_path:\", raw_data_path)"
      ],
      "execution_count": null,
      "outputs": [
        {
          "output_type": "stream",
          "name": "stdout",
          "text": [
            "raw_data_path: /content/gdrive/My Drive/Data606/Project/Skin_Cancer_Analysis/data/raw_image_data\n"
          ]
        }
      ]
    },
    {
      "cell_type": "markdown",
      "metadata": {
        "id": "mLVpTOcaPJmQ"
      },
      "source": [
        "**Get the tabular data path:**"
      ]
    },
    {
      "cell_type": "code",
      "metadata": {
        "colab": {
          "base_uri": "https://localhost:8080/"
        },
        "id": "Ho3fER_0qUDw",
        "outputId": "9fbde901-97fd-40dd-d82a-a1e003370252"
      },
      "source": [
        "tabular_data_path = os.path.join(data_root_path, 'tabular_data') \n",
        "\n",
        "print(\"tabular_data_path:\", tabular_data_path)"
      ],
      "execution_count": null,
      "outputs": [
        {
          "output_type": "stream",
          "name": "stdout",
          "text": [
            "tabular_data_path: /content/gdrive/My Drive/Data606/Project/Skin_Cancer_Analysis/data/tabular_data\n"
          ]
        }
      ]
    },
    {
      "cell_type": "code",
      "metadata": {
        "id": "gUYVBO54NpEU"
      },
      "source": [
        "#!pip install fsspec"
      ],
      "execution_count": null,
      "outputs": []
    },
    {
      "cell_type": "markdown",
      "metadata": {
        "id": "uTn-g_PtPOQu"
      },
      "source": [
        "**Read metadata into a panda data frame:**"
      ]
    },
    {
      "cell_type": "code",
      "metadata": {
        "colab": {
          "base_uri": "https://localhost:8080/",
          "height": 224
        },
        "id": "kZmnSSfNqai4",
        "outputId": "0af0679e-41ab-4b96-e015-d889fbc475ca"
      },
      "source": [
        "metaData_pd = pd.read_csv(os.path.join(tabular_data_path, 'metadata.csv'))\n",
        "metaData_pd.head()"
      ],
      "execution_count": null,
      "outputs": [
        {
          "output_type": "execute_result",
          "data": {
            "text/html": [
              "<div>\n",
              "<style scoped>\n",
              "    .dataframe tbody tr th:only-of-type {\n",
              "        vertical-align: middle;\n",
              "    }\n",
              "\n",
              "    .dataframe tbody tr th {\n",
              "        vertical-align: top;\n",
              "    }\n",
              "\n",
              "    .dataframe thead th {\n",
              "        text-align: right;\n",
              "    }\n",
              "</style>\n",
              "<table border=\"1\" class=\"dataframe\">\n",
              "  <thead>\n",
              "    <tr style=\"text-align: right;\">\n",
              "      <th></th>\n",
              "      <th>patient_id</th>\n",
              "      <th>lesion_id</th>\n",
              "      <th>smoke</th>\n",
              "      <th>drink</th>\n",
              "      <th>background_father</th>\n",
              "      <th>background_mother</th>\n",
              "      <th>age</th>\n",
              "      <th>pesticide</th>\n",
              "      <th>gender</th>\n",
              "      <th>skin_cancer_history</th>\n",
              "      <th>cancer_history</th>\n",
              "      <th>has_piped_water</th>\n",
              "      <th>has_sewage_system</th>\n",
              "      <th>fitspatrick</th>\n",
              "      <th>region</th>\n",
              "      <th>diameter_1</th>\n",
              "      <th>diameter_2</th>\n",
              "      <th>diagnostic</th>\n",
              "      <th>itch</th>\n",
              "      <th>grew</th>\n",
              "      <th>hurt</th>\n",
              "      <th>changed</th>\n",
              "      <th>bleed</th>\n",
              "      <th>elevation</th>\n",
              "      <th>img_id</th>\n",
              "      <th>biopsed</th>\n",
              "    </tr>\n",
              "  </thead>\n",
              "  <tbody>\n",
              "    <tr>\n",
              "      <th>0</th>\n",
              "      <td>PAT_1516</td>\n",
              "      <td>1765</td>\n",
              "      <td>NaN</td>\n",
              "      <td>NaN</td>\n",
              "      <td>NaN</td>\n",
              "      <td>NaN</td>\n",
              "      <td>8</td>\n",
              "      <td>NaN</td>\n",
              "      <td>NaN</td>\n",
              "      <td>NaN</td>\n",
              "      <td>NaN</td>\n",
              "      <td>NaN</td>\n",
              "      <td>NaN</td>\n",
              "      <td>NaN</td>\n",
              "      <td>ARM</td>\n",
              "      <td>NaN</td>\n",
              "      <td>NaN</td>\n",
              "      <td>NEV</td>\n",
              "      <td>False</td>\n",
              "      <td>False</td>\n",
              "      <td>False</td>\n",
              "      <td>False</td>\n",
              "      <td>False</td>\n",
              "      <td>False</td>\n",
              "      <td>PAT_1516_1765_530.png</td>\n",
              "      <td>False</td>\n",
              "    </tr>\n",
              "    <tr>\n",
              "      <th>1</th>\n",
              "      <td>PAT_46</td>\n",
              "      <td>881</td>\n",
              "      <td>False</td>\n",
              "      <td>False</td>\n",
              "      <td>POMERANIA</td>\n",
              "      <td>POMERANIA</td>\n",
              "      <td>55</td>\n",
              "      <td>False</td>\n",
              "      <td>FEMALE</td>\n",
              "      <td>True</td>\n",
              "      <td>True</td>\n",
              "      <td>True</td>\n",
              "      <td>True</td>\n",
              "      <td>3.0</td>\n",
              "      <td>NECK</td>\n",
              "      <td>6.0</td>\n",
              "      <td>5.0</td>\n",
              "      <td>BCC</td>\n",
              "      <td>True</td>\n",
              "      <td>True</td>\n",
              "      <td>False</td>\n",
              "      <td>True</td>\n",
              "      <td>True</td>\n",
              "      <td>True</td>\n",
              "      <td>PAT_46_881_939.png</td>\n",
              "      <td>True</td>\n",
              "    </tr>\n",
              "    <tr>\n",
              "      <th>2</th>\n",
              "      <td>PAT_1545</td>\n",
              "      <td>1867</td>\n",
              "      <td>NaN</td>\n",
              "      <td>NaN</td>\n",
              "      <td>NaN</td>\n",
              "      <td>NaN</td>\n",
              "      <td>77</td>\n",
              "      <td>NaN</td>\n",
              "      <td>NaN</td>\n",
              "      <td>NaN</td>\n",
              "      <td>NaN</td>\n",
              "      <td>NaN</td>\n",
              "      <td>NaN</td>\n",
              "      <td>NaN</td>\n",
              "      <td>FACE</td>\n",
              "      <td>NaN</td>\n",
              "      <td>NaN</td>\n",
              "      <td>ACK</td>\n",
              "      <td>True</td>\n",
              "      <td>False</td>\n",
              "      <td>False</td>\n",
              "      <td>False</td>\n",
              "      <td>False</td>\n",
              "      <td>False</td>\n",
              "      <td>PAT_1545_1867_547.png</td>\n",
              "      <td>False</td>\n",
              "    </tr>\n",
              "    <tr>\n",
              "      <th>3</th>\n",
              "      <td>PAT_1989</td>\n",
              "      <td>4061</td>\n",
              "      <td>NaN</td>\n",
              "      <td>NaN</td>\n",
              "      <td>NaN</td>\n",
              "      <td>NaN</td>\n",
              "      <td>75</td>\n",
              "      <td>NaN</td>\n",
              "      <td>NaN</td>\n",
              "      <td>NaN</td>\n",
              "      <td>NaN</td>\n",
              "      <td>NaN</td>\n",
              "      <td>NaN</td>\n",
              "      <td>NaN</td>\n",
              "      <td>HAND</td>\n",
              "      <td>NaN</td>\n",
              "      <td>NaN</td>\n",
              "      <td>ACK</td>\n",
              "      <td>True</td>\n",
              "      <td>False</td>\n",
              "      <td>False</td>\n",
              "      <td>False</td>\n",
              "      <td>False</td>\n",
              "      <td>False</td>\n",
              "      <td>PAT_1989_4061_934.png</td>\n",
              "      <td>False</td>\n",
              "    </tr>\n",
              "    <tr>\n",
              "      <th>4</th>\n",
              "      <td>PAT_684</td>\n",
              "      <td>1302</td>\n",
              "      <td>False</td>\n",
              "      <td>True</td>\n",
              "      <td>POMERANIA</td>\n",
              "      <td>POMERANIA</td>\n",
              "      <td>79</td>\n",
              "      <td>False</td>\n",
              "      <td>MALE</td>\n",
              "      <td>True</td>\n",
              "      <td>False</td>\n",
              "      <td>False</td>\n",
              "      <td>False</td>\n",
              "      <td>1.0</td>\n",
              "      <td>FOREARM</td>\n",
              "      <td>5.0</td>\n",
              "      <td>5.0</td>\n",
              "      <td>BCC</td>\n",
              "      <td>True</td>\n",
              "      <td>True</td>\n",
              "      <td>False</td>\n",
              "      <td>False</td>\n",
              "      <td>True</td>\n",
              "      <td>True</td>\n",
              "      <td>PAT_684_1302_588.png</td>\n",
              "      <td>True</td>\n",
              "    </tr>\n",
              "  </tbody>\n",
              "</table>\n",
              "</div>"
            ],
            "text/plain": [
              "  patient_id  lesion_id  smoke  ... elevation                 img_id biopsed\n",
              "0   PAT_1516       1765    NaN  ...     False  PAT_1516_1765_530.png   False\n",
              "1     PAT_46        881  False  ...      True     PAT_46_881_939.png    True\n",
              "2   PAT_1545       1867    NaN  ...     False  PAT_1545_1867_547.png   False\n",
              "3   PAT_1989       4061    NaN  ...     False  PAT_1989_4061_934.png   False\n",
              "4    PAT_684       1302  False  ...      True   PAT_684_1302_588.png    True\n",
              "\n",
              "[5 rows x 26 columns]"
            ]
          },
          "metadata": {},
          "execution_count": 2040
        }
      ]
    },
    {
      "cell_type": "code",
      "metadata": {
        "id": "QXGYbD6usgMG"
      },
      "source": [
        "#df=pd.read_csv('/content/drive/MyDrive/Data606 Project /tabular_data-20211004T230135Z-001.zip')"
      ],
      "execution_count": null,
      "outputs": []
    },
    {
      "cell_type": "markdown",
      "metadata": {
        "id": "YVfCWZI6PkpY"
      },
      "source": [
        "**Checking the null values in the dataframe:**\n"
      ]
    },
    {
      "cell_type": "code",
      "metadata": {
        "colab": {
          "base_uri": "https://localhost:8080/"
        },
        "id": "yPii8g-ERksq",
        "outputId": "5a918bd4-fcf9-4e1a-b7cb-ab9e84f5aad1"
      },
      "source": [
        "metaData_pd.isnull().sum()       "
      ],
      "execution_count": null,
      "outputs": [
        {
          "output_type": "execute_result",
          "data": {
            "text/plain": [
              "patient_id               0\n",
              "lesion_id                0\n",
              "smoke                  804\n",
              "drink                  804\n",
              "background_father      818\n",
              "background_mother      822\n",
              "age                      0\n",
              "pesticide              804\n",
              "gender                 804\n",
              "skin_cancer_history    804\n",
              "cancer_history         804\n",
              "has_piped_water        804\n",
              "has_sewage_system      804\n",
              "fitspatrick            804\n",
              "region                   0\n",
              "diameter_1             804\n",
              "diameter_2             804\n",
              "diagnostic               0\n",
              "itch                     0\n",
              "grew                     0\n",
              "hurt                     0\n",
              "changed                  0\n",
              "bleed                    0\n",
              "elevation                0\n",
              "img_id                   0\n",
              "biopsed                  0\n",
              "dtype: int64"
            ]
          },
          "metadata": {},
          "execution_count": 2042
        }
      ]
    },
    {
      "cell_type": "code",
      "metadata": {
        "colab": {
          "base_uri": "https://localhost:8080/"
        },
        "id": "eAwLvzZGR0aB",
        "outputId": "712304c2-53f0-429d-eca2-2082165a7e95"
      },
      "source": [
        "metaData_pd.info()"
      ],
      "execution_count": null,
      "outputs": [
        {
          "output_type": "stream",
          "name": "stdout",
          "text": [
            "<class 'pandas.core.frame.DataFrame'>\n",
            "RangeIndex: 2298 entries, 0 to 2297\n",
            "Data columns (total 26 columns):\n",
            " #   Column               Non-Null Count  Dtype  \n",
            "---  ------               --------------  -----  \n",
            " 0   patient_id           2298 non-null   object \n",
            " 1   lesion_id            2298 non-null   int64  \n",
            " 2   smoke                1494 non-null   object \n",
            " 3   drink                1494 non-null   object \n",
            " 4   background_father    1480 non-null   object \n",
            " 5   background_mother    1476 non-null   object \n",
            " 6   age                  2298 non-null   int64  \n",
            " 7   pesticide            1494 non-null   object \n",
            " 8   gender               1494 non-null   object \n",
            " 9   skin_cancer_history  1494 non-null   object \n",
            " 10  cancer_history       1494 non-null   object \n",
            " 11  has_piped_water      1494 non-null   object \n",
            " 12  has_sewage_system    1494 non-null   object \n",
            " 13  fitspatrick          1494 non-null   float64\n",
            " 14  region               2298 non-null   object \n",
            " 15  diameter_1           1494 non-null   float64\n",
            " 16  diameter_2           1494 non-null   float64\n",
            " 17  diagnostic           2298 non-null   object \n",
            " 18  itch                 2298 non-null   object \n",
            " 19  grew                 2298 non-null   object \n",
            " 20  hurt                 2298 non-null   object \n",
            " 21  changed              2298 non-null   object \n",
            " 22  bleed                2298 non-null   object \n",
            " 23  elevation            2298 non-null   object \n",
            " 24  img_id               2298 non-null   object \n",
            " 25  biopsed              2298 non-null   bool   \n",
            "dtypes: bool(1), float64(3), int64(2), object(20)\n",
            "memory usage: 451.2+ KB\n"
          ]
        }
      ]
    },
    {
      "cell_type": "code",
      "metadata": {
        "id": "E4Ff2KJXR27-",
        "colab": {
          "base_uri": "https://localhost:8080/",
          "height": 410
        },
        "outputId": "44e94dfe-1d8c-42f5-ebfb-8970c44c268b"
      },
      "source": [
        "metaData_pd.describe(include='all')"
      ],
      "execution_count": null,
      "outputs": [
        {
          "output_type": "execute_result",
          "data": {
            "text/html": [
              "<div>\n",
              "<style scoped>\n",
              "    .dataframe tbody tr th:only-of-type {\n",
              "        vertical-align: middle;\n",
              "    }\n",
              "\n",
              "    .dataframe tbody tr th {\n",
              "        vertical-align: top;\n",
              "    }\n",
              "\n",
              "    .dataframe thead th {\n",
              "        text-align: right;\n",
              "    }\n",
              "</style>\n",
              "<table border=\"1\" class=\"dataframe\">\n",
              "  <thead>\n",
              "    <tr style=\"text-align: right;\">\n",
              "      <th></th>\n",
              "      <th>patient_id</th>\n",
              "      <th>lesion_id</th>\n",
              "      <th>smoke</th>\n",
              "      <th>drink</th>\n",
              "      <th>background_father</th>\n",
              "      <th>background_mother</th>\n",
              "      <th>age</th>\n",
              "      <th>pesticide</th>\n",
              "      <th>gender</th>\n",
              "      <th>skin_cancer_history</th>\n",
              "      <th>cancer_history</th>\n",
              "      <th>has_piped_water</th>\n",
              "      <th>has_sewage_system</th>\n",
              "      <th>fitspatrick</th>\n",
              "      <th>region</th>\n",
              "      <th>diameter_1</th>\n",
              "      <th>diameter_2</th>\n",
              "      <th>diagnostic</th>\n",
              "      <th>itch</th>\n",
              "      <th>grew</th>\n",
              "      <th>hurt</th>\n",
              "      <th>changed</th>\n",
              "      <th>bleed</th>\n",
              "      <th>elevation</th>\n",
              "      <th>img_id</th>\n",
              "      <th>biopsed</th>\n",
              "    </tr>\n",
              "  </thead>\n",
              "  <tbody>\n",
              "    <tr>\n",
              "      <th>count</th>\n",
              "      <td>2298</td>\n",
              "      <td>2298.000000</td>\n",
              "      <td>1494</td>\n",
              "      <td>1494</td>\n",
              "      <td>1480</td>\n",
              "      <td>1476</td>\n",
              "      <td>2298.000000</td>\n",
              "      <td>1494</td>\n",
              "      <td>1494</td>\n",
              "      <td>1494</td>\n",
              "      <td>1494</td>\n",
              "      <td>1494</td>\n",
              "      <td>1494</td>\n",
              "      <td>1494.000000</td>\n",
              "      <td>2298</td>\n",
              "      <td>1494.000000</td>\n",
              "      <td>1494.000000</td>\n",
              "      <td>2298</td>\n",
              "      <td>2298</td>\n",
              "      <td>2298</td>\n",
              "      <td>2298</td>\n",
              "      <td>2298</td>\n",
              "      <td>2298</td>\n",
              "      <td>2298</td>\n",
              "      <td>2298</td>\n",
              "      <td>2298</td>\n",
              "    </tr>\n",
              "    <tr>\n",
              "      <th>unique</th>\n",
              "      <td>1373</td>\n",
              "      <td>NaN</td>\n",
              "      <td>2</td>\n",
              "      <td>2</td>\n",
              "      <td>13</td>\n",
              "      <td>11</td>\n",
              "      <td>NaN</td>\n",
              "      <td>2</td>\n",
              "      <td>2</td>\n",
              "      <td>2</td>\n",
              "      <td>2</td>\n",
              "      <td>2</td>\n",
              "      <td>2</td>\n",
              "      <td>NaN</td>\n",
              "      <td>14</td>\n",
              "      <td>NaN</td>\n",
              "      <td>NaN</td>\n",
              "      <td>6</td>\n",
              "      <td>3</td>\n",
              "      <td>3</td>\n",
              "      <td>3</td>\n",
              "      <td>3</td>\n",
              "      <td>3</td>\n",
              "      <td>3</td>\n",
              "      <td>2298</td>\n",
              "      <td>2</td>\n",
              "    </tr>\n",
              "    <tr>\n",
              "      <th>top</th>\n",
              "      <td>PAT_330</td>\n",
              "      <td>NaN</td>\n",
              "      <td>False</td>\n",
              "      <td>False</td>\n",
              "      <td>POMERANIA</td>\n",
              "      <td>POMERANIA</td>\n",
              "      <td>NaN</td>\n",
              "      <td>False</td>\n",
              "      <td>FEMALE</td>\n",
              "      <td>False</td>\n",
              "      <td>True</td>\n",
              "      <td>True</td>\n",
              "      <td>True</td>\n",
              "      <td>NaN</td>\n",
              "      <td>FACE</td>\n",
              "      <td>NaN</td>\n",
              "      <td>NaN</td>\n",
              "      <td>BCC</td>\n",
              "      <td>True</td>\n",
              "      <td>False</td>\n",
              "      <td>False</td>\n",
              "      <td>False</td>\n",
              "      <td>False</td>\n",
              "      <td>True</td>\n",
              "      <td>PAT_798_1771_240.png</td>\n",
              "      <td>True</td>\n",
              "    </tr>\n",
              "    <tr>\n",
              "      <th>freq</th>\n",
              "      <td>10</td>\n",
              "      <td>NaN</td>\n",
              "      <td>1292</td>\n",
              "      <td>1126</td>\n",
              "      <td>530</td>\n",
              "      <td>533</td>\n",
              "      <td>NaN</td>\n",
              "      <td>897</td>\n",
              "      <td>753</td>\n",
              "      <td>813</td>\n",
              "      <td>779</td>\n",
              "      <td>923</td>\n",
              "      <td>846</td>\n",
              "      <td>NaN</td>\n",
              "      <td>570</td>\n",
              "      <td>NaN</td>\n",
              "      <td>NaN</td>\n",
              "      <td>845</td>\n",
              "      <td>1455</td>\n",
              "      <td>971</td>\n",
              "      <td>1891</td>\n",
              "      <td>1700</td>\n",
              "      <td>1678</td>\n",
              "      <td>1433</td>\n",
              "      <td>1</td>\n",
              "      <td>1342</td>\n",
              "    </tr>\n",
              "    <tr>\n",
              "      <th>mean</th>\n",
              "      <td>NaN</td>\n",
              "      <td>1529.933856</td>\n",
              "      <td>NaN</td>\n",
              "      <td>NaN</td>\n",
              "      <td>NaN</td>\n",
              "      <td>NaN</td>\n",
              "      <td>60.464752</td>\n",
              "      <td>NaN</td>\n",
              "      <td>NaN</td>\n",
              "      <td>NaN</td>\n",
              "      <td>NaN</td>\n",
              "      <td>NaN</td>\n",
              "      <td>NaN</td>\n",
              "      <td>2.265730</td>\n",
              "      <td>NaN</td>\n",
              "      <td>11.897055</td>\n",
              "      <td>8.852209</td>\n",
              "      <td>NaN</td>\n",
              "      <td>NaN</td>\n",
              "      <td>NaN</td>\n",
              "      <td>NaN</td>\n",
              "      <td>NaN</td>\n",
              "      <td>NaN</td>\n",
              "      <td>NaN</td>\n",
              "      <td>NaN</td>\n",
              "      <td>NaN</td>\n",
              "    </tr>\n",
              "    <tr>\n",
              "      <th>std</th>\n",
              "      <td>NaN</td>\n",
              "      <td>1196.285644</td>\n",
              "      <td>NaN</td>\n",
              "      <td>NaN</td>\n",
              "      <td>NaN</td>\n",
              "      <td>NaN</td>\n",
              "      <td>15.894866</td>\n",
              "      <td>NaN</td>\n",
              "      <td>NaN</td>\n",
              "      <td>NaN</td>\n",
              "      <td>NaN</td>\n",
              "      <td>NaN</td>\n",
              "      <td>NaN</td>\n",
              "      <td>0.729029</td>\n",
              "      <td>NaN</td>\n",
              "      <td>8.634492</td>\n",
              "      <td>5.797036</td>\n",
              "      <td>NaN</td>\n",
              "      <td>NaN</td>\n",
              "      <td>NaN</td>\n",
              "      <td>NaN</td>\n",
              "      <td>NaN</td>\n",
              "      <td>NaN</td>\n",
              "      <td>NaN</td>\n",
              "      <td>NaN</td>\n",
              "      <td>NaN</td>\n",
              "    </tr>\n",
              "    <tr>\n",
              "      <th>min</th>\n",
              "      <td>NaN</td>\n",
              "      <td>6.000000</td>\n",
              "      <td>NaN</td>\n",
              "      <td>NaN</td>\n",
              "      <td>NaN</td>\n",
              "      <td>NaN</td>\n",
              "      <td>6.000000</td>\n",
              "      <td>NaN</td>\n",
              "      <td>NaN</td>\n",
              "      <td>NaN</td>\n",
              "      <td>NaN</td>\n",
              "      <td>NaN</td>\n",
              "      <td>NaN</td>\n",
              "      <td>1.000000</td>\n",
              "      <td>NaN</td>\n",
              "      <td>0.000000</td>\n",
              "      <td>0.000000</td>\n",
              "      <td>NaN</td>\n",
              "      <td>NaN</td>\n",
              "      <td>NaN</td>\n",
              "      <td>NaN</td>\n",
              "      <td>NaN</td>\n",
              "      <td>NaN</td>\n",
              "      <td>NaN</td>\n",
              "      <td>NaN</td>\n",
              "      <td>NaN</td>\n",
              "    </tr>\n",
              "    <tr>\n",
              "      <th>25%</th>\n",
              "      <td>NaN</td>\n",
              "      <td>720.500000</td>\n",
              "      <td>NaN</td>\n",
              "      <td>NaN</td>\n",
              "      <td>NaN</td>\n",
              "      <td>NaN</td>\n",
              "      <td>52.000000</td>\n",
              "      <td>NaN</td>\n",
              "      <td>NaN</td>\n",
              "      <td>NaN</td>\n",
              "      <td>NaN</td>\n",
              "      <td>NaN</td>\n",
              "      <td>NaN</td>\n",
              "      <td>2.000000</td>\n",
              "      <td>NaN</td>\n",
              "      <td>7.000000</td>\n",
              "      <td>5.000000</td>\n",
              "      <td>NaN</td>\n",
              "      <td>NaN</td>\n",
              "      <td>NaN</td>\n",
              "      <td>NaN</td>\n",
              "      <td>NaN</td>\n",
              "      <td>NaN</td>\n",
              "      <td>NaN</td>\n",
              "      <td>NaN</td>\n",
              "      <td>NaN</td>\n",
              "    </tr>\n",
              "    <tr>\n",
              "      <th>50%</th>\n",
              "      <td>NaN</td>\n",
              "      <td>1297.000000</td>\n",
              "      <td>NaN</td>\n",
              "      <td>NaN</td>\n",
              "      <td>NaN</td>\n",
              "      <td>NaN</td>\n",
              "      <td>62.000000</td>\n",
              "      <td>NaN</td>\n",
              "      <td>NaN</td>\n",
              "      <td>NaN</td>\n",
              "      <td>NaN</td>\n",
              "      <td>NaN</td>\n",
              "      <td>NaN</td>\n",
              "      <td>2.000000</td>\n",
              "      <td>NaN</td>\n",
              "      <td>10.000000</td>\n",
              "      <td>8.000000</td>\n",
              "      <td>NaN</td>\n",
              "      <td>NaN</td>\n",
              "      <td>NaN</td>\n",
              "      <td>NaN</td>\n",
              "      <td>NaN</td>\n",
              "      <td>NaN</td>\n",
              "      <td>NaN</td>\n",
              "      <td>NaN</td>\n",
              "      <td>NaN</td>\n",
              "    </tr>\n",
              "    <tr>\n",
              "      <th>75%</th>\n",
              "      <td>NaN</td>\n",
              "      <td>1782.750000</td>\n",
              "      <td>NaN</td>\n",
              "      <td>NaN</td>\n",
              "      <td>NaN</td>\n",
              "      <td>NaN</td>\n",
              "      <td>72.000000</td>\n",
              "      <td>NaN</td>\n",
              "      <td>NaN</td>\n",
              "      <td>NaN</td>\n",
              "      <td>NaN</td>\n",
              "      <td>NaN</td>\n",
              "      <td>NaN</td>\n",
              "      <td>3.000000</td>\n",
              "      <td>NaN</td>\n",
              "      <td>15.000000</td>\n",
              "      <td>10.000000</td>\n",
              "      <td>NaN</td>\n",
              "      <td>NaN</td>\n",
              "      <td>NaN</td>\n",
              "      <td>NaN</td>\n",
              "      <td>NaN</td>\n",
              "      <td>NaN</td>\n",
              "      <td>NaN</td>\n",
              "      <td>NaN</td>\n",
              "      <td>NaN</td>\n",
              "    </tr>\n",
              "    <tr>\n",
              "      <th>max</th>\n",
              "      <td>NaN</td>\n",
              "      <td>4820.000000</td>\n",
              "      <td>NaN</td>\n",
              "      <td>NaN</td>\n",
              "      <td>NaN</td>\n",
              "      <td>NaN</td>\n",
              "      <td>94.000000</td>\n",
              "      <td>NaN</td>\n",
              "      <td>NaN</td>\n",
              "      <td>NaN</td>\n",
              "      <td>NaN</td>\n",
              "      <td>NaN</td>\n",
              "      <td>NaN</td>\n",
              "      <td>6.000000</td>\n",
              "      <td>NaN</td>\n",
              "      <td>100.000000</td>\n",
              "      <td>70.000000</td>\n",
              "      <td>NaN</td>\n",
              "      <td>NaN</td>\n",
              "      <td>NaN</td>\n",
              "      <td>NaN</td>\n",
              "      <td>NaN</td>\n",
              "      <td>NaN</td>\n",
              "      <td>NaN</td>\n",
              "      <td>NaN</td>\n",
              "      <td>NaN</td>\n",
              "    </tr>\n",
              "  </tbody>\n",
              "</table>\n",
              "</div>"
            ],
            "text/plain": [
              "       patient_id    lesion_id  smoke  ... elevation                img_id biopsed\n",
              "count        2298  2298.000000   1494  ...      2298                  2298    2298\n",
              "unique       1373          NaN      2  ...         3                  2298       2\n",
              "top       PAT_330          NaN  False  ...      True  PAT_798_1771_240.png    True\n",
              "freq           10          NaN   1292  ...      1433                     1    1342\n",
              "mean          NaN  1529.933856    NaN  ...       NaN                   NaN     NaN\n",
              "std           NaN  1196.285644    NaN  ...       NaN                   NaN     NaN\n",
              "min           NaN     6.000000    NaN  ...       NaN                   NaN     NaN\n",
              "25%           NaN   720.500000    NaN  ...       NaN                   NaN     NaN\n",
              "50%           NaN  1297.000000    NaN  ...       NaN                   NaN     NaN\n",
              "75%           NaN  1782.750000    NaN  ...       NaN                   NaN     NaN\n",
              "max           NaN  4820.000000    NaN  ...       NaN                   NaN     NaN\n",
              "\n",
              "[11 rows x 26 columns]"
            ]
          },
          "metadata": {},
          "execution_count": 2044
        }
      ]
    },
    {
      "cell_type": "markdown",
      "metadata": {
        "id": "ycTlFlijP4Li"
      },
      "source": [
        "**Bar plot for skin lesion category:**"
      ]
    },
    {
      "cell_type": "code",
      "metadata": {
        "colab": {
          "base_uri": "https://localhost:8080/",
          "height": 530
        },
        "id": "Fh9_CTO-RbIe",
        "outputId": "2c684432-481d-499f-c7ce-61a81fe27a1d"
      },
      "source": [
        "metaData_pd['diagnostic'].value_counts().plot(kind='bar', figsize=(14, 8), rot=0)\n",
        "plt.xlabel('Diagnosis Type')\n",
        "plt.ylabel('Count of Image')\n",
        "plt.title('Number of images by cancer diagnosis type')  "
      ],
      "execution_count": null,
      "outputs": [
        {
          "output_type": "execute_result",
          "data": {
            "text/plain": [
              "Text(0.5, 1.0, 'Number of images by cancer diagnosis type')"
            ]
          },
          "metadata": {},
          "execution_count": 2045
        },
        {
          "output_type": "display_data",
          "data": {
            "image/png": "[encoded data removed]",
            "text/plain": [
              "<Figure size 1008x576 with 1 Axes>"
            ]
          },
          "metadata": {
            "needs_background": "light"
          }
        }
      ]
    },
    {
      "cell_type": "markdown",
      "metadata": {
        "id": "NRueL6XpQGq5"
      },
      "source": [
        "**Checking the value count of columns for imputation:**"
      ]
    },
    {
      "cell_type": "code",
      "metadata": {
        "colab": {
          "base_uri": "https://localhost:8080/"
        },
        "id": "jQ-PnedUbiwF",
        "outputId": "24bb41d6-5693-4783-e818-c6cef2a1e6b8"
      },
      "source": [
        "metaData_pd['biopsed'].value_counts()"
      ],
      "execution_count": null,
      "outputs": [
        {
          "output_type": "execute_result",
          "data": {
            "text/plain": [
              "True     1342\n",
              "False     956\n",
              "Name: biopsed, dtype: int64"
            ]
          },
          "metadata": {},
          "execution_count": 2046
        }
      ]
    },
    {
      "cell_type": "code",
      "metadata": {
        "colab": {
          "base_uri": "https://localhost:8080/"
        },
        "id": "lr3dhl7ohy9O",
        "outputId": "227cf459-7f75-465b-b55a-4a7f04f8b21b"
      },
      "source": [
        "metaData_pd['smoke'].value_counts()"
      ],
      "execution_count": null,
      "outputs": [
        {
          "output_type": "execute_result",
          "data": {
            "text/plain": [
              "False    1292\n",
              "True      202\n",
              "Name: smoke, dtype: int64"
            ]
          },
          "metadata": {},
          "execution_count": 2047
        }
      ]
    },
    {
      "cell_type": "code",
      "metadata": {
        "colab": {
          "base_uri": "https://localhost:8080/"
        },
        "id": "kYHHn7LPiAkV",
        "outputId": "a5af8c40-2641-4f8b-cc47-b105b4ae9d23"
      },
      "source": [
        "metaData_pd['drink'].value_counts()"
      ],
      "execution_count": null,
      "outputs": [
        {
          "output_type": "execute_result",
          "data": {
            "text/plain": [
              "False    1126\n",
              "True      368\n",
              "Name: drink, dtype: int64"
            ]
          },
          "metadata": {},
          "execution_count": 2048
        }
      ]
    },
    {
      "cell_type": "code",
      "metadata": {
        "colab": {
          "base_uri": "https://localhost:8080/"
        },
        "id": "mL5aSGZEiIae",
        "outputId": "7202900d-cd17-4359-a298-bcf7471d06d7"
      },
      "source": [
        "metaData_pd['background_father'].value_counts()"
      ],
      "execution_count": null,
      "outputs": [
        {
          "output_type": "execute_result",
          "data": {
            "text/plain": [
              "POMERANIA      530\n",
              "GERMANY        466\n",
              "ITALY          250\n",
              "UNK             95\n",
              "BRAZIL          89\n",
              "NETHERLANDS     19\n",
              "PORTUGAL        15\n",
              "POLAND           7\n",
              "CZECH            3\n",
              "BRASIL           3\n",
              "AUSTRIA          1\n",
              "ISRAEL           1\n",
              "SPAIN            1\n",
              "Name: background_father, dtype: int64"
            ]
          },
          "metadata": {},
          "execution_count": 2049
        }
      ]
    },
    {
      "cell_type": "code",
      "metadata": {
        "colab": {
          "base_uri": "https://localhost:8080/"
        },
        "id": "cWO6Ji_0iRd0",
        "outputId": "4c6ba873-f771-4bca-9770-97d788a08612"
      },
      "source": [
        "metaData_pd['background_mother'].value_counts()"
      ],
      "execution_count": null,
      "outputs": [
        {
          "output_type": "execute_result",
          "data": {
            "text/plain": [
              "POMERANIA      533\n",
              "GERMANY        482\n",
              "ITALY          236\n",
              "UNK             84\n",
              "BRAZIL          81\n",
              "PORTUGAL        20\n",
              "NETHERLANDS     20\n",
              "POLAND           9\n",
              "NORWAY           7\n",
              "FRANCE           2\n",
              "SPAIN            2\n",
              "Name: background_mother, dtype: int64"
            ]
          },
          "metadata": {},
          "execution_count": 2050
        }
      ]
    },
    {
      "cell_type": "code",
      "metadata": {
        "colab": {
          "base_uri": "https://localhost:8080/"
        },
        "id": "NHV1srUuiZn2",
        "outputId": "a3e918f0-75ce-4a03-8f91-31f0bafbf85c"
      },
      "source": [
        "metaData_pd['gender'].value_counts()"
      ],
      "execution_count": null,
      "outputs": [
        {
          "output_type": "execute_result",
          "data": {
            "text/plain": [
              "FEMALE    753\n",
              "MALE      741\n",
              "Name: gender, dtype: int64"
            ]
          },
          "metadata": {},
          "execution_count": 2051
        }
      ]
    },
    {
      "cell_type": "code",
      "metadata": {
        "colab": {
          "base_uri": "https://localhost:8080/"
        },
        "id": "2HRpwXNho4Tq",
        "outputId": "1a07a3b4-6725-40c9-ee39-aaee4c024b57"
      },
      "source": [
        "metaData_pd['skin_cancer_history'].value_counts()"
      ],
      "execution_count": null,
      "outputs": [
        {
          "output_type": "execute_result",
          "data": {
            "text/plain": [
              "False    813\n",
              "True     681\n",
              "Name: skin_cancer_history, dtype: int64"
            ]
          },
          "metadata": {},
          "execution_count": 2052
        }
      ]
    },
    {
      "cell_type": "code",
      "metadata": {
        "colab": {
          "base_uri": "https://localhost:8080/"
        },
        "id": "-TryVXOS-Iu5",
        "outputId": "16830ac9-15ec-4d14-f916-212d92006640"
      },
      "source": [
        "metaData_pd['cancer_history'].value_counts()"
      ],
      "execution_count": null,
      "outputs": [
        {
          "output_type": "execute_result",
          "data": {
            "text/plain": [
              "True     779\n",
              "False    715\n",
              "Name: cancer_history, dtype: int64"
            ]
          },
          "metadata": {},
          "execution_count": 2053
        }
      ]
    },
    {
      "cell_type": "code",
      "metadata": {
        "id": "q0t5WnUk9rXX"
      },
      "source": [
        "#metaData_pd[['pesticide','smoke','drink','skin_cancer_history']]=metaData_pd[['pesticide','smoke','drink','skin_cancer_history']].replace(np.nan,\"False\",inplace=True)"
      ],
      "execution_count": null,
      "outputs": []
    },
    {
      "cell_type": "code",
      "metadata": {
        "id": "fIduYKbcBG_s"
      },
      "source": [
        "#metaData_pd[['fitspatrick','diameter_1','diameter_2']]=metaData_pd[['fitspatrick','diameter_1','diameter_2']].fillna(metaData_pd[['fitspatrick','diameter_1','diameter_2']].mean())"
      ],
      "execution_count": null,
      "outputs": []
    },
    {
      "cell_type": "markdown",
      "metadata": {
        "id": "pRZ3sua4Qypq"
      },
      "source": [
        "**Imputation:**"
      ]
    },
    {
      "cell_type": "code",
      "metadata": {
        "id": "Pbd0BRoiN97m"
      },
      "source": [
        "category_columns=metaData_pd[['smoke', 'drink', 'background_father', 'background_mother', 'pesticide',\n",
        "       'gender', 'skin_cancer_history', 'cancer_history', 'has_piped_water',\n",
        "       'has_sewage_system', 'region', 'itch', 'grew', 'hurt',\n",
        "       'changed', 'bleed', 'elevation','biopsed']]\n",
        "numeric_columns=metaData_pd[['age','fitspatrick','diameter_1','diameter_2']]"
      ],
      "execution_count": null,
      "outputs": []
    },
    {
      "cell_type": "code",
      "metadata": {
        "id": "3jsnjxPrOxmo"
      },
      "source": [
        "#for column in metaData_pd:\n",
        " #   if metaData_pd[column].isnull().any():\n",
        "  #      if(column in category_columns):\n",
        "   #         metaData_pd[column]=metaData_pd[column].fillna(metaData_pd[column].mode()[0],inplace=True)\n",
        "     #     else:\n",
        "       #     metaData_pd[column]=metaData_pd[column].fillna(metaData_pd[column].mean)"
      ],
      "execution_count": null,
      "outputs": []
    },
    {
      "cell_type": "code",
      "metadata": {
        "colab": {
          "base_uri": "https://localhost:8080/"
        },
        "id": "DS4sQNV0VHyS",
        "outputId": "67d78f2c-ee01-403e-e133-ba7c4768d515"
      },
      "source": [
        "#imputing the null values in categorical columns with mode\n",
        "for column in category_columns.columns:\n",
        "    category_columns[column].fillna(category_columns[column].mode()[0], inplace=True)"
      ],
      "execution_count": null,
      "outputs": [
        {
          "output_type": "stream",
          "name": "stderr",
          "text": [
            "/usr/local/lib/python3.7/dist-packages/pandas/core/series.py:4536: SettingWithCopyWarning: \n",
            "A value is trying to be set on a copy of a slice from a DataFrame\n",
            "\n",
            "See the caveats in the documentation: https://pandas.pydata.org/pandas-docs/stable/user_guide/indexing.html#returning-a-view-versus-a-copy\n",
            "  downcast=downcast,\n"
          ]
        }
      ]
    },
    {
      "cell_type": "code",
      "metadata": {
        "colab": {
          "base_uri": "https://localhost:8080/"
        },
        "id": "_URGm9GIWgqm",
        "outputId": "94051e44-42dc-4e6a-b146-dd99be23c948"
      },
      "source": [
        "#imputing the null values in numerical columns with mean\n",
        "for column in numeric_columns.columns:\n",
        "    numeric_columns[column].fillna(numeric_columns[column].mean(),inplace=True)"
      ],
      "execution_count": null,
      "outputs": [
        {
          "output_type": "stream",
          "name": "stderr",
          "text": [
            "/usr/local/lib/python3.7/dist-packages/pandas/core/series.py:4536: SettingWithCopyWarning: \n",
            "A value is trying to be set on a copy of a slice from a DataFrame\n",
            "\n",
            "See the caveats in the documentation: https://pandas.pydata.org/pandas-docs/stable/user_guide/indexing.html#returning-a-view-versus-a-copy\n",
            "  downcast=downcast,\n"
          ]
        }
      ]
    },
    {
      "cell_type": "code",
      "metadata": {
        "id": "LH0ScPblCiza"
      },
      "source": [
        "#dropping the columns as it is not necessary\n",
        "metaData_pd = metaData_pd.drop(columns=['patient_id','img_id','lesion_id'])"
      ],
      "execution_count": null,
      "outputs": []
    },
    {
      "cell_type": "code",
      "metadata": {
        "colab": {
          "base_uri": "https://localhost:8080/"
        },
        "id": "_FOI_sVdW8D9",
        "outputId": "f1b3d9dc-8ac1-4bc6-be71-6d8af68154eb"
      },
      "source": [
        "category_columns.info()"
      ],
      "execution_count": null,
      "outputs": [
        {
          "output_type": "stream",
          "name": "stdout",
          "text": [
            "<class 'pandas.core.frame.DataFrame'>\n",
            "RangeIndex: 2298 entries, 0 to 2297\n",
            "Data columns (total 18 columns):\n",
            " #   Column               Non-Null Count  Dtype \n",
            "---  ------               --------------  ----- \n",
            " 0   smoke                2298 non-null   bool  \n",
            " 1   drink                2298 non-null   bool  \n",
            " 2   background_father    2298 non-null   object\n",
            " 3   background_mother    2298 non-null   object\n",
            " 4   pesticide            2298 non-null   bool  \n",
            " 5   gender               2298 non-null   object\n",
            " 6   skin_cancer_history  2298 non-null   bool  \n",
            " 7   cancer_history       2298 non-null   bool  \n",
            " 8   has_piped_water      2298 non-null   bool  \n",
            " 9   has_sewage_system    2298 non-null   bool  \n",
            " 10  region               2298 non-null   object\n",
            " 11  itch                 2298 non-null   object\n",
            " 12  grew                 2298 non-null   object\n",
            " 13  hurt                 2298 non-null   object\n",
            " 14  changed              2298 non-null   object\n",
            " 15  bleed                2298 non-null   object\n",
            " 16  elevation            2298 non-null   object\n",
            " 17  biopsed              2298 non-null   bool  \n",
            "dtypes: bool(8), object(10)\n",
            "memory usage: 197.6+ KB\n"
          ]
        }
      ]
    },
    {
      "cell_type": "code",
      "metadata": {
        "colab": {
          "base_uri": "https://localhost:8080/"
        },
        "id": "AuOzdO8pXiGu",
        "outputId": "25138a44-5246-4f75-e231-5b69b3872f4e"
      },
      "source": [
        "#There are no null values left\n",
        "numeric_columns.isnull().sum()"
      ],
      "execution_count": null,
      "outputs": [
        {
          "output_type": "stream",
          "name": "stderr",
          "text": [
            "/usr/local/lib/python3.7/dist-packages/IPython/core/displayhook.py:260: UserWarning: Output cache limit (currently 1000 entries) hit.\n",
            "Flushing oldest 200 entries.\n",
            "  'Flushing oldest {cull_count} entries.'.format(sz=sz, cull_count=cull_count))\n"
          ]
        },
        {
          "output_type": "execute_result",
          "data": {
            "text/plain": [
              "age            0\n",
              "fitspatrick    0\n",
              "diameter_1     0\n",
              "diameter_2     0\n",
              "dtype: int64"
            ]
          },
          "metadata": {},
          "execution_count": 2062
        }
      ]
    },
    {
      "cell_type": "code",
      "metadata": {
        "colab": {
          "base_uri": "https://localhost:8080/",
          "height": 224
        },
        "id": "Ud-YQHrWfEka",
        "outputId": "15b54807-f20f-48f5-fc49-135a793b1433"
      },
      "source": [
        "#joining the columns\n",
        "df1=category_columns.join(numeric_columns)\n",
        "df1.head()"
      ],
      "execution_count": null,
      "outputs": [
        {
          "output_type": "execute_result",
          "data": {
            "text/html": [
              "<div>\n",
              "<style scoped>\n",
              "    .dataframe tbody tr th:only-of-type {\n",
              "        vertical-align: middle;\n",
              "    }\n",
              "\n",
              "    .dataframe tbody tr th {\n",
              "        vertical-align: top;\n",
              "    }\n",
              "\n",
              "    .dataframe thead th {\n",
              "        text-align: right;\n",
              "    }\n",
              "</style>\n",
              "<table border=\"1\" class=\"dataframe\">\n",
              "  <thead>\n",
              "    <tr style=\"text-align: right;\">\n",
              "      <th></th>\n",
              "      <th>smoke</th>\n",
              "      <th>drink</th>\n",
              "      <th>background_father</th>\n",
              "      <th>background_mother</th>\n",
              "      <th>pesticide</th>\n",
              "      <th>gender</th>\n",
              "      <th>skin_cancer_history</th>\n",
              "      <th>cancer_history</th>\n",
              "      <th>has_piped_water</th>\n",
              "      <th>has_sewage_system</th>\n",
              "      <th>region</th>\n",
              "      <th>itch</th>\n",
              "      <th>grew</th>\n",
              "      <th>hurt</th>\n",
              "      <th>changed</th>\n",
              "      <th>bleed</th>\n",
              "      <th>elevation</th>\n",
              "      <th>biopsed</th>\n",
              "      <th>age</th>\n",
              "      <th>fitspatrick</th>\n",
              "      <th>diameter_1</th>\n",
              "      <th>diameter_2</th>\n",
              "    </tr>\n",
              "  </thead>\n",
              "  <tbody>\n",
              "    <tr>\n",
              "      <th>0</th>\n",
              "      <td>False</td>\n",
              "      <td>False</td>\n",
              "      <td>POMERANIA</td>\n",
              "      <td>POMERANIA</td>\n",
              "      <td>False</td>\n",
              "      <td>FEMALE</td>\n",
              "      <td>False</td>\n",
              "      <td>True</td>\n",
              "      <td>True</td>\n",
              "      <td>True</td>\n",
              "      <td>ARM</td>\n",
              "      <td>False</td>\n",
              "      <td>False</td>\n",
              "      <td>False</td>\n",
              "      <td>False</td>\n",
              "      <td>False</td>\n",
              "      <td>False</td>\n",
              "      <td>False</td>\n",
              "      <td>8</td>\n",
              "      <td>2.26573</td>\n",
              "      <td>11.897055</td>\n",
              "      <td>8.852209</td>\n",
              "    </tr>\n",
              "    <tr>\n",
              "      <th>1</th>\n",
              "      <td>False</td>\n",
              "      <td>False</td>\n",
              "      <td>POMERANIA</td>\n",
              "      <td>POMERANIA</td>\n",
              "      <td>False</td>\n",
              "      <td>FEMALE</td>\n",
              "      <td>True</td>\n",
              "      <td>True</td>\n",
              "      <td>True</td>\n",
              "      <td>True</td>\n",
              "      <td>NECK</td>\n",
              "      <td>True</td>\n",
              "      <td>True</td>\n",
              "      <td>False</td>\n",
              "      <td>True</td>\n",
              "      <td>True</td>\n",
              "      <td>True</td>\n",
              "      <td>True</td>\n",
              "      <td>55</td>\n",
              "      <td>3.00000</td>\n",
              "      <td>6.000000</td>\n",
              "      <td>5.000000</td>\n",
              "    </tr>\n",
              "    <tr>\n",
              "      <th>2</th>\n",
              "      <td>False</td>\n",
              "      <td>False</td>\n",
              "      <td>POMERANIA</td>\n",
              "      <td>POMERANIA</td>\n",
              "      <td>False</td>\n",
              "      <td>FEMALE</td>\n",
              "      <td>False</td>\n",
              "      <td>True</td>\n",
              "      <td>True</td>\n",
              "      <td>True</td>\n",
              "      <td>FACE</td>\n",
              "      <td>True</td>\n",
              "      <td>False</td>\n",
              "      <td>False</td>\n",
              "      <td>False</td>\n",
              "      <td>False</td>\n",
              "      <td>False</td>\n",
              "      <td>False</td>\n",
              "      <td>77</td>\n",
              "      <td>2.26573</td>\n",
              "      <td>11.897055</td>\n",
              "      <td>8.852209</td>\n",
              "    </tr>\n",
              "    <tr>\n",
              "      <th>3</th>\n",
              "      <td>False</td>\n",
              "      <td>False</td>\n",
              "      <td>POMERANIA</td>\n",
              "      <td>POMERANIA</td>\n",
              "      <td>False</td>\n",
              "      <td>FEMALE</td>\n",
              "      <td>False</td>\n",
              "      <td>True</td>\n",
              "      <td>True</td>\n",
              "      <td>True</td>\n",
              "      <td>HAND</td>\n",
              "      <td>True</td>\n",
              "      <td>False</td>\n",
              "      <td>False</td>\n",
              "      <td>False</td>\n",
              "      <td>False</td>\n",
              "      <td>False</td>\n",
              "      <td>False</td>\n",
              "      <td>75</td>\n",
              "      <td>2.26573</td>\n",
              "      <td>11.897055</td>\n",
              "      <td>8.852209</td>\n",
              "    </tr>\n",
              "    <tr>\n",
              "      <th>4</th>\n",
              "      <td>False</td>\n",
              "      <td>True</td>\n",
              "      <td>POMERANIA</td>\n",
              "      <td>POMERANIA</td>\n",
              "      <td>False</td>\n",
              "      <td>MALE</td>\n",
              "      <td>True</td>\n",
              "      <td>False</td>\n",
              "      <td>False</td>\n",
              "      <td>False</td>\n",
              "      <td>FOREARM</td>\n",
              "      <td>True</td>\n",
              "      <td>True</td>\n",
              "      <td>False</td>\n",
              "      <td>False</td>\n",
              "      <td>True</td>\n",
              "      <td>True</td>\n",
              "      <td>True</td>\n",
              "      <td>79</td>\n",
              "      <td>1.00000</td>\n",
              "      <td>5.000000</td>\n",
              "      <td>5.000000</td>\n",
              "    </tr>\n",
              "  </tbody>\n",
              "</table>\n",
              "</div>"
            ],
            "text/plain": [
              "   smoke  drink background_father  ... fitspatrick  diameter_1 diameter_2\n",
              "0  False  False         POMERANIA  ...     2.26573   11.897055   8.852209\n",
              "1  False  False         POMERANIA  ...     3.00000    6.000000   5.000000\n",
              "2  False  False         POMERANIA  ...     2.26573   11.897055   8.852209\n",
              "3  False  False         POMERANIA  ...     2.26573   11.897055   8.852209\n",
              "4  False   True         POMERANIA  ...     1.00000    5.000000   5.000000\n",
              "\n",
              "[5 rows x 22 columns]"
            ]
          },
          "metadata": {},
          "execution_count": 2063
        }
      ]
    },
    {
      "cell_type": "code",
      "metadata": {
        "colab": {
          "base_uri": "https://localhost:8080/",
          "height": 224
        },
        "id": "cHWWKCqhfykD",
        "outputId": "b29d4e2e-e875-413f-d3e7-61c8aef12237"
      },
      "source": [
        "df1=df1.join(metaData_pd['diagnostic'])\n",
        "df1.head()"
      ],
      "execution_count": null,
      "outputs": [
        {
          "output_type": "execute_result",
          "data": {
            "text/html": [
              "<div>\n",
              "<style scoped>\n",
              "    .dataframe tbody tr th:only-of-type {\n",
              "        vertical-align: middle;\n",
              "    }\n",
              "\n",
              "    .dataframe tbody tr th {\n",
              "        vertical-align: top;\n",
              "    }\n",
              "\n",
              "    .dataframe thead th {\n",
              "        text-align: right;\n",
              "    }\n",
              "</style>\n",
              "<table border=\"1\" class=\"dataframe\">\n",
              "  <thead>\n",
              "    <tr style=\"text-align: right;\">\n",
              "      <th></th>\n",
              "      <th>smoke</th>\n",
              "      <th>drink</th>\n",
              "      <th>background_father</th>\n",
              "      <th>background_mother</th>\n",
              "      <th>pesticide</th>\n",
              "      <th>gender</th>\n",
              "      <th>skin_cancer_history</th>\n",
              "      <th>cancer_history</th>\n",
              "      <th>has_piped_water</th>\n",
              "      <th>has_sewage_system</th>\n",
              "      <th>region</th>\n",
              "      <th>itch</th>\n",
              "      <th>grew</th>\n",
              "      <th>hurt</th>\n",
              "      <th>changed</th>\n",
              "      <th>bleed</th>\n",
              "      <th>elevation</th>\n",
              "      <th>biopsed</th>\n",
              "      <th>age</th>\n",
              "      <th>fitspatrick</th>\n",
              "      <th>diameter_1</th>\n",
              "      <th>diameter_2</th>\n",
              "      <th>diagnostic</th>\n",
              "    </tr>\n",
              "  </thead>\n",
              "  <tbody>\n",
              "    <tr>\n",
              "      <th>0</th>\n",
              "      <td>False</td>\n",
              "      <td>False</td>\n",
              "      <td>POMERANIA</td>\n",
              "      <td>POMERANIA</td>\n",
              "      <td>False</td>\n",
              "      <td>FEMALE</td>\n",
              "      <td>False</td>\n",
              "      <td>True</td>\n",
              "      <td>True</td>\n",
              "      <td>True</td>\n",
              "      <td>ARM</td>\n",
              "      <td>False</td>\n",
              "      <td>False</td>\n",
              "      <td>False</td>\n",
              "      <td>False</td>\n",
              "      <td>False</td>\n",
              "      <td>False</td>\n",
              "      <td>False</td>\n",
              "      <td>8</td>\n",
              "      <td>2.26573</td>\n",
              "      <td>11.897055</td>\n",
              "      <td>8.852209</td>\n",
              "      <td>NEV</td>\n",
              "    </tr>\n",
              "    <tr>\n",
              "      <th>1</th>\n",
              "      <td>False</td>\n",
              "      <td>False</td>\n",
              "      <td>POMERANIA</td>\n",
              "      <td>POMERANIA</td>\n",
              "      <td>False</td>\n",
              "      <td>FEMALE</td>\n",
              "      <td>True</td>\n",
              "      <td>True</td>\n",
              "      <td>True</td>\n",
              "      <td>True</td>\n",
              "      <td>NECK</td>\n",
              "      <td>True</td>\n",
              "      <td>True</td>\n",
              "      <td>False</td>\n",
              "      <td>True</td>\n",
              "      <td>True</td>\n",
              "      <td>True</td>\n",
              "      <td>True</td>\n",
              "      <td>55</td>\n",
              "      <td>3.00000</td>\n",
              "      <td>6.000000</td>\n",
              "      <td>5.000000</td>\n",
              "      <td>BCC</td>\n",
              "    </tr>\n",
              "    <tr>\n",
              "      <th>2</th>\n",
              "      <td>False</td>\n",
              "      <td>False</td>\n",
              "      <td>POMERANIA</td>\n",
              "      <td>POMERANIA</td>\n",
              "      <td>False</td>\n",
              "      <td>FEMALE</td>\n",
              "      <td>False</td>\n",
              "      <td>True</td>\n",
              "      <td>True</td>\n",
              "      <td>True</td>\n",
              "      <td>FACE</td>\n",
              "      <td>True</td>\n",
              "      <td>False</td>\n",
              "      <td>False</td>\n",
              "      <td>False</td>\n",
              "      <td>False</td>\n",
              "      <td>False</td>\n",
              "      <td>False</td>\n",
              "      <td>77</td>\n",
              "      <td>2.26573</td>\n",
              "      <td>11.897055</td>\n",
              "      <td>8.852209</td>\n",
              "      <td>ACK</td>\n",
              "    </tr>\n",
              "    <tr>\n",
              "      <th>3</th>\n",
              "      <td>False</td>\n",
              "      <td>False</td>\n",
              "      <td>POMERANIA</td>\n",
              "      <td>POMERANIA</td>\n",
              "      <td>False</td>\n",
              "      <td>FEMALE</td>\n",
              "      <td>False</td>\n",
              "      <td>True</td>\n",
              "      <td>True</td>\n",
              "      <td>True</td>\n",
              "      <td>HAND</td>\n",
              "      <td>True</td>\n",
              "      <td>False</td>\n",
              "      <td>False</td>\n",
              "      <td>False</td>\n",
              "      <td>False</td>\n",
              "      <td>False</td>\n",
              "      <td>False</td>\n",
              "      <td>75</td>\n",
              "      <td>2.26573</td>\n",
              "      <td>11.897055</td>\n",
              "      <td>8.852209</td>\n",
              "      <td>ACK</td>\n",
              "    </tr>\n",
              "    <tr>\n",
              "      <th>4</th>\n",
              "      <td>False</td>\n",
              "      <td>True</td>\n",
              "      <td>POMERANIA</td>\n",
              "      <td>POMERANIA</td>\n",
              "      <td>False</td>\n",
              "      <td>MALE</td>\n",
              "      <td>True</td>\n",
              "      <td>False</td>\n",
              "      <td>False</td>\n",
              "      <td>False</td>\n",
              "      <td>FOREARM</td>\n",
              "      <td>True</td>\n",
              "      <td>True</td>\n",
              "      <td>False</td>\n",
              "      <td>False</td>\n",
              "      <td>True</td>\n",
              "      <td>True</td>\n",
              "      <td>True</td>\n",
              "      <td>79</td>\n",
              "      <td>1.00000</td>\n",
              "      <td>5.000000</td>\n",
              "      <td>5.000000</td>\n",
              "      <td>BCC</td>\n",
              "    </tr>\n",
              "  </tbody>\n",
              "</table>\n",
              "</div>"
            ],
            "text/plain": [
              "   smoke  drink background_father  ... diameter_1  diameter_2 diagnostic\n",
              "0  False  False         POMERANIA  ...  11.897055    8.852209        NEV\n",
              "1  False  False         POMERANIA  ...   6.000000    5.000000        BCC\n",
              "2  False  False         POMERANIA  ...  11.897055    8.852209        ACK\n",
              "3  False  False         POMERANIA  ...  11.897055    8.852209        ACK\n",
              "4  False   True         POMERANIA  ...   5.000000    5.000000        BCC\n",
              "\n",
              "[5 rows x 23 columns]"
            ]
          },
          "metadata": {},
          "execution_count": 2064
        }
      ]
    },
    {
      "cell_type": "code",
      "metadata": {
        "colab": {
          "base_uri": "https://localhost:8080/"
        },
        "id": "W0_15Ke8Vjkb",
        "outputId": "fa1873f1-da2d-4f7e-a8fd-65508d387248"
      },
      "source": [
        "df1.shape"
      ],
      "execution_count": null,
      "outputs": [
        {
          "output_type": "execute_result",
          "data": {
            "text/plain": [
              "(2298, 23)"
            ]
          },
          "metadata": {},
          "execution_count": 2065
        }
      ]
    },
    {
      "cell_type": "code",
      "metadata": {
        "colab": {
          "base_uri": "https://localhost:8080/",
          "height": 441
        },
        "id": "IH04BCpDLz5A",
        "outputId": "56261722-3204-462b-c607-2d591510f66e"
      },
      "source": [
        "#checking correlation between the independent variables\n",
        "df1.corr()"
      ],
      "execution_count": null,
      "outputs": [
        {
          "output_type": "execute_result",
          "data": {
            "text/html": [
              "<div>\n",
              "<style scoped>\n",
              "    .dataframe tbody tr th:only-of-type {\n",
              "        vertical-align: middle;\n",
              "    }\n",
              "\n",
              "    .dataframe tbody tr th {\n",
              "        vertical-align: top;\n",
              "    }\n",
              "\n",
              "    .dataframe thead th {\n",
              "        text-align: right;\n",
              "    }\n",
              "</style>\n",
              "<table border=\"1\" class=\"dataframe\">\n",
              "  <thead>\n",
              "    <tr style=\"text-align: right;\">\n",
              "      <th></th>\n",
              "      <th>smoke</th>\n",
              "      <th>drink</th>\n",
              "      <th>pesticide</th>\n",
              "      <th>skin_cancer_history</th>\n",
              "      <th>cancer_history</th>\n",
              "      <th>has_piped_water</th>\n",
              "      <th>has_sewage_system</th>\n",
              "      <th>biopsed</th>\n",
              "      <th>age</th>\n",
              "      <th>fitspatrick</th>\n",
              "      <th>diameter_1</th>\n",
              "      <th>diameter_2</th>\n",
              "    </tr>\n",
              "  </thead>\n",
              "  <tbody>\n",
              "    <tr>\n",
              "      <th>smoke</th>\n",
              "      <td>1.000000</td>\n",
              "      <td>0.233215</td>\n",
              "      <td>0.159537</td>\n",
              "      <td>0.061045</td>\n",
              "      <td>-0.123322</td>\n",
              "      <td>-0.038437</td>\n",
              "      <td>-0.058197</td>\n",
              "      <td>0.233957</td>\n",
              "      <td>0.124379</td>\n",
              "      <td>-0.020079</td>\n",
              "      <td>0.024024</td>\n",
              "      <td>0.024620</td>\n",
              "    </tr>\n",
              "    <tr>\n",
              "      <th>drink</th>\n",
              "      <td>0.233215</td>\n",
              "      <td>1.000000</td>\n",
              "      <td>0.304132</td>\n",
              "      <td>0.129781</td>\n",
              "      <td>-0.137123</td>\n",
              "      <td>-0.196497</td>\n",
              "      <td>-0.172014</td>\n",
              "      <td>0.279479</td>\n",
              "      <td>-0.022552</td>\n",
              "      <td>0.026678</td>\n",
              "      <td>-0.021331</td>\n",
              "      <td>0.008224</td>\n",
              "    </tr>\n",
              "    <tr>\n",
              "      <th>pesticide</th>\n",
              "      <td>0.159537</td>\n",
              "      <td>0.304132</td>\n",
              "      <td>1.000000</td>\n",
              "      <td>0.252260</td>\n",
              "      <td>-0.204164</td>\n",
              "      <td>-0.300045</td>\n",
              "      <td>-0.292554</td>\n",
              "      <td>0.391303</td>\n",
              "      <td>-0.030564</td>\n",
              "      <td>0.042825</td>\n",
              "      <td>0.047289</td>\n",
              "      <td>0.047663</td>\n",
              "    </tr>\n",
              "    <tr>\n",
              "      <th>skin_cancer_history</th>\n",
              "      <td>0.061045</td>\n",
              "      <td>0.129781</td>\n",
              "      <td>0.252260</td>\n",
              "      <td>1.000000</td>\n",
              "      <td>-0.214307</td>\n",
              "      <td>-0.226671</td>\n",
              "      <td>-0.262545</td>\n",
              "      <td>0.406600</td>\n",
              "      <td>0.051781</td>\n",
              "      <td>-0.014533</td>\n",
              "      <td>-0.059000</td>\n",
              "      <td>-0.032295</td>\n",
              "    </tr>\n",
              "    <tr>\n",
              "      <th>cancer_history</th>\n",
              "      <td>-0.123322</td>\n",
              "      <td>-0.137123</td>\n",
              "      <td>-0.204164</td>\n",
              "      <td>-0.214307</td>\n",
              "      <td>1.000000</td>\n",
              "      <td>0.242181</td>\n",
              "      <td>0.257737</td>\n",
              "      <td>-0.435655</td>\n",
              "      <td>-0.095330</td>\n",
              "      <td>0.019190</td>\n",
              "      <td>-0.068447</td>\n",
              "      <td>-0.061731</td>\n",
              "    </tr>\n",
              "    <tr>\n",
              "      <th>has_piped_water</th>\n",
              "      <td>-0.038437</td>\n",
              "      <td>-0.196497</td>\n",
              "      <td>-0.300045</td>\n",
              "      <td>-0.226671</td>\n",
              "      <td>0.242181</td>\n",
              "      <td>1.000000</td>\n",
              "      <td>0.798930</td>\n",
              "      <td>-0.350474</td>\n",
              "      <td>-0.047946</td>\n",
              "      <td>0.086939</td>\n",
              "      <td>-0.008679</td>\n",
              "      <td>-0.002929</td>\n",
              "    </tr>\n",
              "    <tr>\n",
              "      <th>has_sewage_system</th>\n",
              "      <td>-0.058197</td>\n",
              "      <td>-0.172014</td>\n",
              "      <td>-0.292554</td>\n",
              "      <td>-0.262545</td>\n",
              "      <td>0.257737</td>\n",
              "      <td>0.798930</td>\n",
              "      <td>1.000000</td>\n",
              "      <td>-0.401395</td>\n",
              "      <td>-0.045207</td>\n",
              "      <td>0.123750</td>\n",
              "      <td>-0.020275</td>\n",
              "      <td>-0.021312</td>\n",
              "    </tr>\n",
              "    <tr>\n",
              "      <th>biopsed</th>\n",
              "      <td>0.233957</td>\n",
              "      <td>0.279479</td>\n",
              "      <td>0.391303</td>\n",
              "      <td>0.406600</td>\n",
              "      <td>-0.435655</td>\n",
              "      <td>-0.350474</td>\n",
              "      <td>-0.401395</td>\n",
              "      <td>1.000000</td>\n",
              "      <td>0.181797</td>\n",
              "      <td>-0.014437</td>\n",
              "      <td>0.028840</td>\n",
              "      <td>0.040535</td>\n",
              "    </tr>\n",
              "    <tr>\n",
              "      <th>age</th>\n",
              "      <td>0.124379</td>\n",
              "      <td>-0.022552</td>\n",
              "      <td>-0.030564</td>\n",
              "      <td>0.051781</td>\n",
              "      <td>-0.095330</td>\n",
              "      <td>-0.047946</td>\n",
              "      <td>-0.045207</td>\n",
              "      <td>0.181797</td>\n",
              "      <td>1.000000</td>\n",
              "      <td>-0.117449</td>\n",
              "      <td>-0.000386</td>\n",
              "      <td>0.040258</td>\n",
              "    </tr>\n",
              "    <tr>\n",
              "      <th>fitspatrick</th>\n",
              "      <td>-0.020079</td>\n",
              "      <td>0.026678</td>\n",
              "      <td>0.042825</td>\n",
              "      <td>-0.014533</td>\n",
              "      <td>0.019190</td>\n",
              "      <td>0.086939</td>\n",
              "      <td>0.123750</td>\n",
              "      <td>-0.014437</td>\n",
              "      <td>-0.117449</td>\n",
              "      <td>1.000000</td>\n",
              "      <td>-0.042682</td>\n",
              "      <td>-0.051401</td>\n",
              "    </tr>\n",
              "    <tr>\n",
              "      <th>diameter_1</th>\n",
              "      <td>0.024024</td>\n",
              "      <td>-0.021331</td>\n",
              "      <td>0.047289</td>\n",
              "      <td>-0.059000</td>\n",
              "      <td>-0.068447</td>\n",
              "      <td>-0.008679</td>\n",
              "      <td>-0.020275</td>\n",
              "      <td>0.028840</td>\n",
              "      <td>-0.000386</td>\n",
              "      <td>-0.042682</td>\n",
              "      <td>1.000000</td>\n",
              "      <td>0.858215</td>\n",
              "    </tr>\n",
              "    <tr>\n",
              "      <th>diameter_2</th>\n",
              "      <td>0.024620</td>\n",
              "      <td>0.008224</td>\n",
              "      <td>0.047663</td>\n",
              "      <td>-0.032295</td>\n",
              "      <td>-0.061731</td>\n",
              "      <td>-0.002929</td>\n",
              "      <td>-0.021312</td>\n",
              "      <td>0.040535</td>\n",
              "      <td>0.040258</td>\n",
              "      <td>-0.051401</td>\n",
              "      <td>0.858215</td>\n",
              "      <td>1.000000</td>\n",
              "    </tr>\n",
              "  </tbody>\n",
              "</table>\n",
              "</div>"
            ],
            "text/plain": [
              "                        smoke     drink  ...  diameter_1  diameter_2\n",
              "smoke                1.000000  0.233215  ...    0.024024    0.024620\n",
              "drink                0.233215  1.000000  ...   -0.021331    0.008224\n",
              "pesticide            0.159537  0.304132  ...    0.047289    0.047663\n",
              "skin_cancer_history  0.061045  0.129781  ...   -0.059000   -0.032295\n",
              "cancer_history      -0.123322 -0.137123  ...   -0.068447   -0.061731\n",
              "has_piped_water     -0.038437 -0.196497  ...   -0.008679   -0.002929\n",
              "has_sewage_system   -0.058197 -0.172014  ...   -0.020275   -0.021312\n",
              "biopsed              0.233957  0.279479  ...    0.028840    0.040535\n",
              "age                  0.124379 -0.022552  ...   -0.000386    0.040258\n",
              "fitspatrick         -0.020079  0.026678  ...   -0.042682   -0.051401\n",
              "diameter_1           0.024024 -0.021331  ...    1.000000    0.858215\n",
              "diameter_2           0.024620  0.008224  ...    0.858215    1.000000\n",
              "\n",
              "[12 rows x 12 columns]"
            ]
          },
          "metadata": {},
          "execution_count": 2066
        }
      ]
    },
    {
      "cell_type": "markdown",
      "metadata": {
        "id": "2SpGmwHVSjyp"
      },
      "source": [
        "**Ordinal Encoding:**"
      ]
    },
    {
      "cell_type": "code",
      "metadata": {
        "id": "qPbOUG1CFgvT"
      },
      "source": [
        "from sklearn.preprocessing import OrdinalEncoder\n",
        "encoder = OrdinalEncoder()\n",
        "data_enc = encoder.fit_transform(df1)"
      ],
      "execution_count": null,
      "outputs": []
    },
    {
      "cell_type": "code",
      "metadata": {
        "colab": {
          "base_uri": "https://localhost:8080/"
        },
        "id": "lfmAyBwYF8CQ",
        "outputId": "b7e7cc84-4c09-4332-863c-9290216cdbb9"
      },
      "source": [
        "data_enc"
      ],
      "execution_count": null,
      "outputs": [
        {
          "output_type": "execute_result",
          "data": {
            "text/plain": [
              "array([[ 0.,  0.,  9., ..., 13., 10.,  3.],\n",
              "       [ 0.,  0.,  9., ...,  7.,  6.,  1.],\n",
              "       [ 0.,  0.,  9., ..., 13., 10.,  0.],\n",
              "       ...,\n",
              "       [ 0.,  0.,  9., ..., 13., 10.,  5.],\n",
              "       [ 0.,  0.,  9., ...,  6.,  5.,  1.],\n",
              "       [ 0.,  0.,  9., ..., 13., 10.,  5.]])"
            ]
          },
          "metadata": {},
          "execution_count": 2068
        }
      ]
    },
    {
      "cell_type": "code",
      "metadata": {
        "colab": {
          "base_uri": "https://localhost:8080/"
        },
        "id": "GJe1VjQuVeuw",
        "outputId": "dc86d846-32d4-4506-f4fc-33a68146fa90"
      },
      "source": [
        "data_enc.shape"
      ],
      "execution_count": null,
      "outputs": [
        {
          "output_type": "execute_result",
          "data": {
            "text/plain": [
              "(2298, 23)"
            ]
          },
          "metadata": {},
          "execution_count": 2069
        }
      ]
    },
    {
      "cell_type": "code",
      "metadata": {
        "id": "nslcr5X3G9_-"
      },
      "source": [
        "#getting column header\n",
        "y2=df1[['diagnostic']]\n",
        "x2=df1.drop(columns=['diagnostic'])"
      ],
      "execution_count": null,
      "outputs": []
    },
    {
      "cell_type": "code",
      "metadata": {
        "id": "rv58WRTMIcB4"
      },
      "source": [
        "#Creating a dataframe from the encoded numpy array\n",
        "x_enc = pd.DataFrame(data=data_enc[:, :-1], columns=x2.columns) # for all but last column\n",
        "y_enc = pd.DataFrame(data=data_enc[:, -1], columns=y2.columns)# for last column"
      ],
      "execution_count": null,
      "outputs": []
    },
    {
      "cell_type": "markdown",
      "metadata": {
        "id": "rA0xDEzoT6aq"
      },
      "source": [
        "**Determining the chi2 score for features**"
      ]
    },
    {
      "cell_type": "markdown",
      "metadata": {
        "id": "FzE38cI9Uf48"
      },
      "source": [
        "The highest value for the chi-squared stat indicate higher relevance and importance in predicting diagnostic and may be included in predictive model development."
      ]
    },
    {
      "cell_type": "code",
      "metadata": {
        "colab": {
          "base_uri": "https://localhost:8080/"
        },
        "id": "WmTl2V2IG7Rm",
        "outputId": "fb872a3a-b214-41ef-8075-b7006257c3e6"
      },
      "source": [
        "from sklearn.feature_selection import SelectKBest, chi2 \n",
        "\n",
        "sf = SelectKBest(chi2, k='all')\n",
        "sf_fit = sf.fit(x_enc, y_enc)\n",
        "for i in range(len(sf_fit.scores_)):\n",
        "    print(' %s: %f' % (x_enc.columns[i], sf_fit.scores_[i]))"
      ],
      "execution_count": null,
      "outputs": [
        {
          "output_type": "stream",
          "name": "stdout",
          "text": [
            " smoke: 129.364969\n",
            " drink: 124.056784\n",
            " background_father: 259.449196\n",
            " background_mother: 387.070310\n",
            " pesticide: 217.131971\n",
            " gender: 254.365572\n",
            " skin_cancer_history: 215.465226\n",
            " cancer_history: 88.942515\n",
            " has_piped_water: 58.949159\n",
            " has_sewage_system: 82.074732\n",
            " region: 105.452255\n",
            " itch: 232.420979\n",
            " grew: 537.236444\n",
            " hurt: 276.618891\n",
            " changed: 629.976932\n",
            " bleed: 427.057099\n",
            " elevation: 233.440734\n",
            " biopsed: 623.995996\n",
            " age: 3448.582874\n",
            " fitspatrick: 71.561837\n",
            " diameter_1: 67.381549\n",
            " diameter_2: 73.623881\n"
          ]
        }
      ]
    },
    {
      "cell_type": "markdown",
      "metadata": {
        "id": "6DeUE7exVBU4"
      },
      "source": [
        "**Stepwise Regression:**"
      ]
    },
    {
      "cell_type": "markdown",
      "metadata": {
        "id": "K0-idhRUX3W7"
      },
      "source": [
        "It builds a model by adding or removing predictor variables, usually via a series of F-tests or T-tests."
      ]
    },
    {
      "cell_type": "code",
      "metadata": {
        "colab": {
          "base_uri": "https://localhost:8080/"
        },
        "id": "XpjHiawTW_VE",
        "outputId": "4c5cb21d-77c4-4072-e1c9-4fbaec44c6f4"
      },
      "source": [
        "import pandas as pd\n",
        "import numpy as np\n",
        "import statsmodels.api as sm\n",
        "\n",
        "def get_stats():\n",
        "    results = sm.OLS(y_enc, x_enc).fit()\n",
        "    print(results.summary())\n",
        "get_stats()\n",
        "\n",
        "\n",
        "#Stepwise regression Forward and Backward\n",
        "\n",
        "\n",
        "def forward_regression(X, Y,\n",
        "                       threshold_in\n",
        "                      ):\n",
        "    initial_list = []\n",
        "    included = list(initial_list)\n",
        "    while True:\n",
        "        changed=False\n",
        "        excluded = list(set(X.columns)-set(included))\n",
        "        new_pval = pd.Series(index=excluded,dtype='float64')\n",
        "        for new_column in excluded:\n",
        "            model = sm.OLS(Y, sm.add_constant(pd.DataFrame(X[included+[new_column]]))).fit()\n",
        "            new_pval[new_column] = model.pvalues[new_column]\n",
        "        best_pval = new_pval.min()\n",
        "    \n",
        "        if best_pval < threshold_in:\n",
        "            best_feature = new_pval.idxmin()\n",
        "            included.append(best_feature)\n",
        "            changed=True\n",
        "            \n",
        "            print('Included variables  {:30} with p-value {:.6}'.format(best_feature,format( best_pval,'.4f')))\n",
        "\n",
        "        if not changed:\n",
        "            break\n",
        "\n",
        "    return included\n",
        "\n",
        "\n",
        "forward_regression(X=x_enc,Y=y_enc,threshold_in=0.05)\n",
        "\n"
      ],
      "execution_count": null,
      "outputs": [
        {
          "output_type": "stream",
          "name": "stdout",
          "text": [
            "                                 OLS Regression Results                                \n",
            "=======================================================================================\n",
            "Dep. Variable:             diagnostic   R-squared (uncentered):                   0.597\n",
            "Model:                            OLS   Adj. R-squared (uncentered):              0.594\n",
            "Method:                 Least Squares   F-statistic:                              153.5\n",
            "Date:                Sun, 24 Oct 2021   Prob (F-statistic):                        0.00\n",
            "Time:                        10:45:01   Log-Likelihood:                         -4133.1\n",
            "No. Observations:                2298   AIC:                                      8310.\n",
            "Df Residuals:                    2276   BIC:                                      8436.\n",
            "Df Model:                          22                                                  \n",
            "Covariance Type:            nonrobust                                                  \n",
            "=======================================================================================\n",
            "                          coef    std err          t      P>|t|      [0.025      0.975]\n",
            "---------------------------------------------------------------------------------------\n",
            "smoke                   0.1462      0.116      1.263      0.207      -0.081       0.373\n",
            "drink                  -0.1414      0.097     -1.456      0.146      -0.332       0.049\n",
            "background_father       0.0379      0.021      1.821      0.069      -0.003       0.079\n",
            "background_mother       0.0175      0.022      0.783      0.434      -0.026       0.061\n",
            "pesticide              -0.1174      0.084     -1.401      0.161      -0.282       0.047\n",
            "gender                  0.0620      0.086      0.719      0.472      -0.107       0.231\n",
            "skin_cancer_history     0.1095      0.075      1.466      0.143      -0.037       0.256\n",
            "cancer_history          0.2541      0.071      3.562      0.000       0.114       0.394\n",
            "has_piped_water         0.2141      0.119      1.802      0.072      -0.019       0.447\n",
            "has_sewage_system       0.0035      0.119      0.030      0.976      -0.229       0.236\n",
            "region                 -0.0418      0.010     -4.388      0.000      -0.060      -0.023\n",
            "itch                   -1.0054      0.071    -14.199      0.000      -1.144      -0.867\n",
            "grew                    0.7273      0.075      9.752      0.000       0.581       0.874\n",
            "hurt                    0.0230      0.093      0.247      0.805      -0.160       0.206\n",
            "changed                -0.2323      0.068     -3.425      0.001      -0.365      -0.099\n",
            "bleed                  -0.3072      0.086     -3.589      0.000      -0.475      -0.139\n",
            "elevation               0.8878      0.070     12.658      0.000       0.750       1.025\n",
            "biopsed                -0.3605      0.097     -3.735      0.000      -0.550      -0.171\n",
            "age                     0.0114      0.002      5.985      0.000       0.008       0.015\n",
            "fitspatrick             0.0884      0.033      2.674      0.008       0.024       0.153\n",
            "diameter_1              0.0038      0.012      0.312      0.755      -0.020       0.027\n",
            "diameter_2              0.0206      0.015      1.383      0.167      -0.009       0.050\n",
            "==============================================================================\n",
            "Omnibus:                      178.451   Durbin-Watson:                   1.991\n",
            "Prob(Omnibus):                  0.000   Jarque-Bera (JB):              221.575\n",
            "Skew:                           0.759   Prob(JB):                     7.69e-49\n",
            "Kurtosis:                       2.914   Cond. No.                         292.\n",
            "==============================================================================\n",
            "\n",
            "Warnings:\n",
            "[1] Standard Errors assume that the covariance matrix of the errors is correctly specified.\n",
            "Included variables  itch                           with p-value 0.0000\n",
            "Included variables  elevation                      with p-value 0.0000\n",
            "Included variables  grew                           with p-value 0.0000\n",
            "Included variables  biopsed                        with p-value 0.0000\n",
            "Included variables  region                         with p-value 0.0000\n",
            "Included variables  age                            with p-value 0.0006\n",
            "Included variables  bleed                          with p-value 0.0033\n",
            "Included variables  changed                        with p-value 0.0048\n",
            "Included variables  drink                          with p-value 0.0159\n"
          ]
        },
        {
          "output_type": "execute_result",
          "data": {
            "text/plain": [
              "['itch',\n",
              " 'elevation',\n",
              " 'grew',\n",
              " 'biopsed',\n",
              " 'region',\n",
              " 'age',\n",
              " 'bleed',\n",
              " 'changed',\n",
              " 'drink']"
            ]
          },
          "metadata": {},
          "execution_count": 2073
        }
      ]
    },
    {
      "cell_type": "code",
      "metadata": {
        "colab": {
          "base_uri": "https://localhost:8080/"
        },
        "id": "13pY5TXOIVlA",
        "outputId": "65cb7942-c9cf-4982-a085-32b3512079d2"
      },
      "source": [
        "def backward_regression(X, Y,\n",
        "                           threshold_out\n",
        "                           ):\n",
        "    included=list(X.columns)\n",
        "    while True:\n",
        "        changed=False\n",
        "        model = sm.OLS(Y, sm.add_constant(pd.DataFrame(X[included]))).fit()\n",
        "        # use all coefs except intercept\n",
        "        pvalues = model.pvalues.iloc[1:]\n",
        "        worst_pval = pvalues.max() # null if pvalues is empty\n",
        "        \n",
        "        if worst_pval > threshold_out:\n",
        "            #print(worst_pval)\n",
        "            changed=True\n",
        "            worst_feature = pvalues.idxmax()\n",
        "            included.remove(worst_feature)\n",
        "            print('Removed variable {:30} with p-value {:.6}'.format(worst_feature, format(worst_pval, '.4f')))\n",
        "        if not changed:\n",
        "            break\n",
        "    return included\n",
        "\n",
        "backward_regression(X=x_enc,Y=y_enc,threshold_out=.05)"
      ],
      "execution_count": null,
      "outputs": [
        {
          "output_type": "stream",
          "name": "stdout",
          "text": [
            "Removed variable has_sewage_system              with p-value 0.8566\n",
            "Removed variable background_father              with p-value 0.8113\n",
            "Removed variable gender                         with p-value 0.6862\n",
            "Removed variable diameter_1                     with p-value 0.6645\n",
            "Removed variable hurt                           with p-value 0.6348\n",
            "Removed variable skin_cancer_history            with p-value 0.4198\n",
            "Removed variable background_mother              with p-value 0.3367\n",
            "Removed variable has_piped_water                with p-value 0.3601\n",
            "Removed variable fitspatrick                    with p-value 0.1909\n",
            "Removed variable smoke                          with p-value 0.1446\n",
            "Removed variable cancer_history                 with p-value 0.0891\n",
            "Removed variable diameter_2                     with p-value 0.0934\n",
            "Removed variable pesticide                      with p-value 0.0577\n"
          ]
        },
        {
          "output_type": "execute_result",
          "data": {
            "text/plain": [
              "['drink',\n",
              " 'region',\n",
              " 'itch',\n",
              " 'grew',\n",
              " 'changed',\n",
              " 'bleed',\n",
              " 'elevation',\n",
              " 'biopsed',\n",
              " 'age']"
            ]
          },
          "metadata": {},
          "execution_count": 2074
        }
      ]
    },
    {
      "cell_type": "code",
      "metadata": {
        "colab": {
          "base_uri": "https://localhost:8080/"
        },
        "id": "6lPSEPh9bPr0",
        "outputId": "5c735397-09d8-492f-866a-22659a392707"
      },
      "source": [
        "pip install dython"
      ],
      "execution_count": null,
      "outputs": [
        {
          "output_type": "stream",
          "name": "stdout",
          "text": [
            "Requirement already satisfied: dython in /usr/local/lib/python3.7/dist-packages (0.6.8)\n",
            "Requirement already satisfied: numpy in /usr/local/lib/python3.7/dist-packages (from dython) (1.19.5)\n",
            "Requirement already satisfied: scikit-learn in /usr/local/lib/python3.7/dist-packages (from dython) (0.22.2.post1)\n",
            "Requirement already satisfied: pandas>=0.23.4 in /usr/local/lib/python3.7/dist-packages (from dython) (1.1.5)\n",
            "Requirement already satisfied: matplotlib in /usr/local/lib/python3.7/dist-packages (from dython) (3.2.2)\n",
            "Requirement already satisfied: scipy in /usr/local/lib/python3.7/dist-packages (from dython) (1.4.1)\n",
            "Requirement already satisfied: seaborn in /usr/local/lib/python3.7/dist-packages (from dython) (0.11.2)\n",
            "Requirement already satisfied: scikit-plot>=0.3.7 in /usr/local/lib/python3.7/dist-packages (from dython) (0.3.7)\n",
            "Requirement already satisfied: python-dateutil>=2.7.3 in /usr/local/lib/python3.7/dist-packages (from pandas>=0.23.4->dython) (2.8.2)\n",
            "Requirement already satisfied: pytz>=2017.2 in /usr/local/lib/python3.7/dist-packages (from pandas>=0.23.4->dython) (2018.9)\n",
            "Requirement already satisfied: six>=1.5 in /usr/local/lib/python3.7/dist-packages (from python-dateutil>=2.7.3->pandas>=0.23.4->dython) (1.15.0)\n",
            "Requirement already satisfied: joblib>=0.10 in /usr/local/lib/python3.7/dist-packages (from scikit-plot>=0.3.7->dython) (1.0.1)\n",
            "Requirement already satisfied: kiwisolver>=1.0.1 in /usr/local/lib/python3.7/dist-packages (from matplotlib->dython) (1.3.2)\n",
            "Requirement already satisfied: cycler>=0.10 in /usr/local/lib/python3.7/dist-packages (from matplotlib->dython) (0.10.0)\n",
            "Requirement already satisfied: pyparsing!=2.0.4,!=2.1.2,!=2.1.6,>=2.0.1 in /usr/local/lib/python3.7/dist-packages (from matplotlib->dython) (2.4.7)\n"
          ]
        }
      ]
    },
    {
      "cell_type": "code",
      "metadata": {
        "colab": {
          "base_uri": "https://localhost:8080/",
          "height": 1000
        },
        "id": "Vcd3bRD-Z2cj",
        "outputId": "7a2155fa-a4bf-48dc-ac3d-b1cd2237108c"
      },
      "source": [
        "\n",
        "#correlation matrix\n",
        "from dython.nominal import associations\n",
        "num_cols = len(df1.columns)\n",
        "associations(df1, nom_nom_assoc='theil', figsize=(num_cols, num_cols))"
      ],
      "execution_count": null,
      "outputs": [
        {
          "output_type": "display_data",
          "data": {
            "image/png": "[encoded data removed]",
            "text/plain": [
              "<Figure size 1656x1656 with 2 Axes>"
            ]
          },
          "metadata": {
            "needs_background": "light"
          }
        },
        {
          "output_type": "execute_result",
          "data": {
            "text/plain": [
              "{'ax': <matplotlib.axes._subplots.AxesSubplot at 0x7fa34e58f490>,\n",
              " 'corr':                         smoke     drink  ...  diameter_2  diagnostic\n",
              " smoke                1.000000  0.233215  ...    0.024620    0.248435\n",
              " drink                0.233215  1.000000  ...    0.008224    0.253531\n",
              " background_father    0.266881  0.228301  ...    0.115915    0.084996\n",
              " background_mother    0.270764  0.220465  ...    0.126946    0.084213\n",
              " pesticide            0.159537  0.304132  ...    0.047663    0.357281\n",
              " gender               0.275741  0.460341  ...    0.061908    0.057554\n",
              " skin_cancer_history  0.061045  0.129781  ...   -0.032295    0.365034\n",
              " cancer_history      -0.123322 -0.137123  ...   -0.061731    0.352697\n",
              " has_piped_water     -0.038437 -0.196497  ...   -0.002929    0.321307\n",
              " has_sewage_system   -0.058197 -0.172014  ...   -0.021312    0.355891\n",
              " region               0.104501  0.086299  ...    0.212692    0.133337\n",
              " itch                 0.088727  0.075766  ...    0.061020    0.096347\n",
              " grew                 0.126064  0.173656  ...    0.035720    0.136241\n",
              " hurt                 0.099548  0.117872  ...    0.111848    0.059182\n",
              " changed              0.114130  0.149305  ...    0.031880    0.094028\n",
              " bleed                0.098861  0.125275  ...    0.070221    0.094332\n",
              " elevation            0.120740  0.134763  ...    0.025238    0.095172\n",
              " biopsed              0.233957  0.279479  ...    0.040535    0.807908\n",
              " age                  0.124379 -0.022552  ...    0.040258    0.553937\n",
              " fitspatrick         -0.020079  0.026678  ...   -0.051401    0.108013\n",
              " diameter_1           0.024024 -0.021331  ...    0.858215    0.081868\n",
              " diameter_2           0.024620  0.008224  ...    1.000000    0.102313\n",
              " diagnostic           0.248435  0.253531  ...    0.102313    1.000000\n",
              " \n",
              " [23 rows x 23 columns]}"
            ]
          },
          "metadata": {},
          "execution_count": 2076
        }
      ]
    },
    {
      "cell_type": "code",
      "metadata": {
        "id": "x2tw7oY0knQL"
      },
      "source": [
        "#chisqt = pd.crosstab(df1['background_father'], df1['diagnostic'], margins=True)\n",
        "#value = np.array([chisqt.iloc[0][0:5].values,\n",
        " #                 chisqt.iloc[1][0:5].values])\n",
        "#print(chi2_contingency(value)[0:3])"
      ],
      "execution_count": null,
      "outputs": []
    },
    {
      "cell_type": "code",
      "metadata": {
        "id": "B5ThTXnCxb8u"
      },
      "source": [
        "#labelencoder = LabelEncoder()\n",
        "#metaData_num=pd.get_dummies(df1,drop_first=True)\n",
        "#metaData_num['target']=labelencoder.fit_transform(metaData_pd['diagnostic'])"
      ],
      "execution_count": null,
      "outputs": []
    },
    {
      "cell_type": "code",
      "metadata": {
        "id": "z9Cl9YncicM9"
      },
      "source": [
        "#metaData_num=pd.get_dummies(category_columns, columns=['smoke', 'drink', 'background_father', 'background_mother', 'pesticide',\n",
        "#       'gender', 'skin_cancer_history', 'cancer_history', 'has_piped_water',\n",
        "#       'has_sewage_system', 'region', 'itch', 'grew', 'hurt',\n",
        "#       'changed', 'bleed', 'elevation','biopsed'])\n",
        "#metaData_num['target']=labelencoder.fit_transform(metaData_pd['diagnostic'])"
      ],
      "execution_count": null,
      "outputs": []
    },
    {
      "cell_type": "code",
      "metadata": {
        "id": "fz7hHfhbcQRl"
      },
      "source": [
        "#df=metaData_num.join(numeric_columns)"
      ],
      "execution_count": null,
      "outputs": []
    },
    {
      "cell_type": "markdown",
      "metadata": {
        "id": "6Xo_BOzoZNzE"
      },
      "source": [
        "**The best predictors we will take for model development are: age, biopsed, grew, region, pesticide, skin_cancer_history, cancer_history, background_father, drink, smoke, itch, bleed, has_sewage_system, elevation, fitspatrick.**\n"
      ]
    },
    {
      "cell_type": "code",
      "metadata": {
        "id": "Kn5F9r6siNkz"
      },
      "source": [
        "#dropping all the unwanted columns from the encoded dataframe\n",
        "#dropping background_mother, gender, has_piped_water, hurt, changed, diameter1, diameter_2\n",
        "data_enc=np.delete(data_enc,[3,5,8,13,14,20,21],axis=1)"
      ],
      "execution_count": null,
      "outputs": []
    },
    {
      "cell_type": "code",
      "metadata": {
        "colab": {
          "base_uri": "https://localhost:8080/"
        },
        "id": "9t4-z7nSigj5",
        "outputId": "dd69776f-8c70-4cda-8f66-081dd1ba1b20"
      },
      "source": [
        "data_enc.shape"
      ],
      "execution_count": null,
      "outputs": [
        {
          "output_type": "execute_result",
          "data": {
            "text/plain": [
              "(2298, 16)"
            ]
          },
          "metadata": {},
          "execution_count": 2082
        }
      ]
    },
    {
      "cell_type": "code",
      "metadata": {
        "id": "E2UEnPYUYKNC"
      },
      "source": [
        "X = data_enc[:, :-1]\n",
        "Y = data_enc[:, -1]"
      ],
      "execution_count": null,
      "outputs": []
    },
    {
      "cell_type": "code",
      "metadata": {
        "colab": {
          "base_uri": "https://localhost:8080/"
        },
        "id": "zHSCMAzW1fh3",
        "outputId": "6ae94d62-287a-43ab-ef8a-38b3ae09f6df"
      },
      "source": [
        "X.shape"
      ],
      "execution_count": null,
      "outputs": [
        {
          "output_type": "execute_result",
          "data": {
            "text/plain": [
              "(2298, 15)"
            ]
          },
          "metadata": {},
          "execution_count": 2084
        }
      ]
    },
    {
      "cell_type": "code",
      "metadata": {
        "colab": {
          "base_uri": "https://localhost:8080/"
        },
        "id": "u5rgwijw1Dhs",
        "outputId": "f3011ec1-fc10-4a5e-a175-5312ec88f4e8"
      },
      "source": [
        "from sklearn.preprocessing import StandardScaler\n",
        "# define standard scaler\n",
        "scaler = StandardScaler()\n",
        "# transform data\n",
        "scaled = scaler.fit_transform(X)\n",
        "print(scaled)"
      ],
      "execution_count": null,
      "outputs": [
        {
          "output_type": "stream",
          "name": "stdout",
          "text": [
            "[[-0.31044169 -0.43666185  0.61113095 ... -1.18480618 -3.13566166\n",
            "   0.29046167]\n",
            " [-0.31044169 -0.43666185  0.61113095 ...  0.8440199  -0.34828433\n",
            "   1.34660234]\n",
            " [-0.31044169 -0.43666185  0.61113095 ... -1.18480618  1.04540434\n",
            "   0.29046167]\n",
            " ...\n",
            " [-0.31044169 -0.43666185  0.61113095 ... -1.18480618  0.85535588\n",
            "   0.29046167]\n",
            " [-0.31044169 -0.43666185  0.61113095 ...  0.8440199  -0.15823588\n",
            "   1.34660234]\n",
            " [-0.31044169 -0.43666185  0.61113095 ... -1.18480618 -1.23517712\n",
            "   0.29046167]]\n"
          ]
        }
      ]
    },
    {
      "cell_type": "code",
      "metadata": {
        "id": "D-wmojgesiOL"
      },
      "source": [
        "from sklearn.model_selection import train_test_split\n",
        "X_train, X_test, Y_train, Y_test = train_test_split(X, Y, test_size = 0.2, random_state=0)"
      ],
      "execution_count": null,
      "outputs": []
    },
    {
      "cell_type": "code",
      "metadata": {
        "colab": {
          "base_uri": "https://localhost:8080/"
        },
        "id": "GfYEFhhzWJYp",
        "outputId": "34d4b2e3-db0d-4195-a392-c24bf1a96062"
      },
      "source": [
        "pip install scikit-multilearn"
      ],
      "execution_count": null,
      "outputs": [
        {
          "output_type": "stream",
          "name": "stdout",
          "text": [
            "Requirement already satisfied: scikit-multilearn in /usr/local/lib/python3.7/dist-packages (0.2.0)\n"
          ]
        }
      ]
    },
    {
      "cell_type": "code",
      "metadata": {
        "id": "jeLue3fnngtr"
      },
      "source": [
        "from sklearn.model_selection import cross_val_score\n",
        "from sklearn.model_selection import RepeatedStratifiedKFold\n",
        "from sklearn.linear_model import LogisticRegression\n",
        "from sklearn.neighbors import KNeighborsClassifier\n",
        "from sklearn.naive_bayes import MultinomialNB\n",
        "from sklearn.linear_model import SGDClassifier \n",
        "from sklearn.ensemble import  RandomForestClassifier\n",
        "from sklearn.tree import DecisionTreeClassifier\n",
        "from numpy import mean\n",
        "from numpy import std\n",
        "from sklearn import metrics\n",
        "from sklearn.metrics import confusion_matrix, classification_report, accuracy_score, mean_squared_error"
      ],
      "execution_count": null,
      "outputs": []
    },
    {
      "cell_type": "markdown",
      "metadata": {
        "id": "z7dbEebyHD-U"
      },
      "source": [
        "**Multinomial Logistic Regression**"
      ]
    },
    {
      "cell_type": "code",
      "metadata": {
        "colab": {
          "base_uri": "https://localhost:8080/"
        },
        "id": "d_P2CtVJj0Ao",
        "outputId": "469fcd1a-5846-4d02-dd80-78d3c3e48335"
      },
      "source": [
        "lm = LogisticRegression(random_state=0, multi_class='multinomial', solver='newton-cg')\n",
        "lm.fit(X_train, Y_train)"
      ],
      "execution_count": null,
      "outputs": [
        {
          "output_type": "execute_result",
          "data": {
            "text/plain": [
              "LogisticRegression(C=1.0, class_weight=None, dual=False, fit_intercept=True,\n",
              "                   intercept_scaling=1, l1_ratio=None, max_iter=100,\n",
              "                   multi_class='multinomial', n_jobs=None, penalty='l2',\n",
              "                   random_state=0, solver='newton-cg', tol=0.0001, verbose=0,\n",
              "                   warm_start=False)"
            ]
          },
          "metadata": {},
          "execution_count": 2089
        }
      ]
    },
    {
      "cell_type": "code",
      "metadata": {
        "id": "f4z_KQdFj0DW"
      },
      "source": [
        "Y_pred=lm.predict(X_test)"
      ],
      "execution_count": null,
      "outputs": []
    },
    {
      "cell_type": "code",
      "metadata": {
        "colab": {
          "base_uri": "https://localhost:8080/"
        },
        "id": "zFrGxpfgj0Gj",
        "outputId": "d733aad8-5340-4532-a9f8-cf5c0d7bdb8d"
      },
      "source": [
        "score=lm.score(X_test, Y_test)\n",
        "print('Test score is:',score)\n",
        "score=lm.score(X_train,Y_train)\n",
        "print('Train score is:',score)"
      ],
      "execution_count": null,
      "outputs": [
        {
          "output_type": "stream",
          "name": "stdout",
          "text": [
            "Test score is: 0.7304347826086957\n",
            "Train score is: 0.7606093579978237\n"
          ]
        }
      ]
    },
    {
      "cell_type": "code",
      "metadata": {
        "colab": {
          "base_uri": "https://localhost:8080/"
        },
        "id": "YlS-2yZ41mOR",
        "outputId": "ba7789f0-c955-489f-973a-f865a0331bbd"
      },
      "source": [
        "cr = classification_report(Y_test, Y_pred)\n",
        "print(cr)"
      ],
      "execution_count": null,
      "outputs": [
        {
          "output_type": "stream",
          "name": "stdout",
          "text": [
            "              precision    recall  f1-score   support\n",
            "\n",
            "         0.0       0.78      0.80      0.79       136\n",
            "         1.0       0.71      0.91      0.80       188\n",
            "         2.0       1.00      0.20      0.33        10\n",
            "         3.0       0.71      0.71      0.71        41\n",
            "         4.0       0.25      0.03      0.05        39\n",
            "         5.0       0.77      0.52      0.62        46\n",
            "\n",
            "    accuracy                           0.73       460\n",
            "   macro avg       0.70      0.53      0.55       460\n",
            "weighted avg       0.70      0.73      0.70       460\n",
            "\n"
          ]
        }
      ]
    },
    {
      "cell_type": "code",
      "metadata": {
        "colab": {
          "base_uri": "https://localhost:8080/"
        },
        "id": "zb17bJw6x2z-",
        "outputId": "30496354-c80f-4538-c8d5-70c680b6e531"
      },
      "source": [
        "from sklearn.metrics import multilabel_confusion_matrix\n",
        "y_unique = np.unique(Y_test)\n",
        "\n",
        "mcm= multilabel_confusion_matrix(Y_test, Y_pred, labels = y_unique)\n",
        "mcm"
      ],
      "execution_count": null,
      "outputs": [
        {
          "output_type": "execute_result",
          "data": {
            "text/plain": [
              "array([[[293,  31],\n",
              "        [ 27, 109]],\n",
              "\n",
              "       [[201,  71],\n",
              "        [ 17, 171]],\n",
              "\n",
              "       [[450,   0],\n",
              "        [  8,   2]],\n",
              "\n",
              "       [[407,  12],\n",
              "        [ 12,  29]],\n",
              "\n",
              "       [[418,   3],\n",
              "        [ 38,   1]],\n",
              "\n",
              "       [[407,   7],\n",
              "        [ 22,  24]]])"
            ]
          },
          "metadata": {},
          "execution_count": 2093
        }
      ]
    },
    {
      "cell_type": "code",
      "metadata": {
        "colab": {
          "base_uri": "https://localhost:8080/"
        },
        "id": "xU4jt4fyj0Jb",
        "outputId": "dadc2324-105c-478d-8d97-9e56188b0d48"
      },
      "source": [
        "y_unique = np.unique(Y_test)\n",
        "\n",
        "cm = confusion_matrix(Y_test, Y_pred, labels = y_unique)\n",
        "cm\n"
      ],
      "execution_count": null,
      "outputs": [
        {
          "output_type": "execute_result",
          "data": {
            "text/plain": [
              "array([[109,  20,   0,   3,   0,   4],\n",
              "       [ 11, 171,   0,   3,   3,   0],\n",
              "       [  1,   6,   2,   1,   0,   0],\n",
              "       [  4,   5,   0,  29,   0,   3],\n",
              "       [  2,  36,   0,   0,   1,   0],\n",
              "       [ 13,   4,   0,   5,   0,  24]])"
            ]
          },
          "metadata": {},
          "execution_count": 2094
        }
      ]
    },
    {
      "cell_type": "code",
      "metadata": {
        "colab": {
          "base_uri": "https://localhost:8080/",
          "height": 235
        },
        "id": "EVxqw7IQ0Qik",
        "outputId": "2e5dd427-2afc-49ab-cf79-9a4b7113a639"
      },
      "source": [
        "#creating dataframe from confusion matrix array\n",
        "pd.DataFrame(cm, index=['ACK','BCC', 'MEL','NEV','SCC','SEK'],\n",
        "columns=['Predicted_ACK', 'Predicted_BCC', 'Predicted_MEL','Predicted_NEV','Predicted_SCC','Predicted_SEK'])"
      ],
      "execution_count": null,
      "outputs": [
        {
          "output_type": "execute_result",
          "data": {
            "text/html": [
              "<div>\n",
              "<style scoped>\n",
              "    .dataframe tbody tr th:only-of-type {\n",
              "        vertical-align: middle;\n",
              "    }\n",
              "\n",
              "    .dataframe tbody tr th {\n",
              "        vertical-align: top;\n",
              "    }\n",
              "\n",
              "    .dataframe thead th {\n",
              "        text-align: right;\n",
              "    }\n",
              "</style>\n",
              "<table border=\"1\" class=\"dataframe\">\n",
              "  <thead>\n",
              "    <tr style=\"text-align: right;\">\n",
              "      <th></th>\n",
              "      <th>Predicted_ACK</th>\n",
              "      <th>Predicted_BCC</th>\n",
              "      <th>Predicted_MEL</th>\n",
              "      <th>Predicted_NEV</th>\n",
              "      <th>Predicted_SCC</th>\n",
              "      <th>Predicted_SEK</th>\n",
              "    </tr>\n",
              "  </thead>\n",
              "  <tbody>\n",
              "    <tr>\n",
              "      <th>ACK</th>\n",
              "      <td>109</td>\n",
              "      <td>20</td>\n",
              "      <td>0</td>\n",
              "      <td>3</td>\n",
              "      <td>0</td>\n",
              "      <td>4</td>\n",
              "    </tr>\n",
              "    <tr>\n",
              "      <th>BCC</th>\n",
              "      <td>11</td>\n",
              "      <td>171</td>\n",
              "      <td>0</td>\n",
              "      <td>3</td>\n",
              "      <td>3</td>\n",
              "      <td>0</td>\n",
              "    </tr>\n",
              "    <tr>\n",
              "      <th>MEL</th>\n",
              "      <td>1</td>\n",
              "      <td>6</td>\n",
              "      <td>2</td>\n",
              "      <td>1</td>\n",
              "      <td>0</td>\n",
              "      <td>0</td>\n",
              "    </tr>\n",
              "    <tr>\n",
              "      <th>NEV</th>\n",
              "      <td>4</td>\n",
              "      <td>5</td>\n",
              "      <td>0</td>\n",
              "      <td>29</td>\n",
              "      <td>0</td>\n",
              "      <td>3</td>\n",
              "    </tr>\n",
              "    <tr>\n",
              "      <th>SCC</th>\n",
              "      <td>2</td>\n",
              "      <td>36</td>\n",
              "      <td>0</td>\n",
              "      <td>0</td>\n",
              "      <td>1</td>\n",
              "      <td>0</td>\n",
              "    </tr>\n",
              "    <tr>\n",
              "      <th>SEK</th>\n",
              "      <td>13</td>\n",
              "      <td>4</td>\n",
              "      <td>0</td>\n",
              "      <td>5</td>\n",
              "      <td>0</td>\n",
              "      <td>24</td>\n",
              "    </tr>\n",
              "  </tbody>\n",
              "</table>\n",
              "</div>"
            ],
            "text/plain": [
              "     Predicted_ACK  Predicted_BCC  ...  Predicted_SCC  Predicted_SEK\n",
              "ACK            109             20  ...              0              4\n",
              "BCC             11            171  ...              3              0\n",
              "MEL              1              6  ...              0              0\n",
              "NEV              4              5  ...              0              3\n",
              "SCC              2             36  ...              1              0\n",
              "SEK             13              4  ...              0             24\n",
              "\n",
              "[6 rows x 6 columns]"
            ]
          },
          "metadata": {},
          "execution_count": 2095
        }
      ]
    },
    {
      "cell_type": "code",
      "metadata": {
        "colab": {
          "base_uri": "https://localhost:8080/"
        },
        "id": "NFi0bkmwMOjT",
        "outputId": "a6b46af0-9937-4210-c021-ab916c411def"
      },
      "source": [
        "mean_squared_error(Y_pred,Y_test)"
      ],
      "execution_count": null,
      "outputs": [
        {
          "output_type": "execute_result",
          "data": {
            "text/plain": [
              "2.2630434782608697"
            ]
          },
          "metadata": {},
          "execution_count": 2096
        }
      ]
    },
    {
      "cell_type": "markdown",
      "metadata": {
        "id": "Qf2Lit9wcCbJ"
      },
      "source": [
        "**K Nearest Neighbors**"
      ]
    },
    {
      "cell_type": "code",
      "metadata": {
        "id": "HoNVt3wpQKqX",
        "colab": {
          "base_uri": "https://localhost:8080/"
        },
        "outputId": "822e859e-b4ec-40b1-bf1a-7549a519ea23"
      },
      "source": [
        "knn_clf=KNeighborsClassifier(n_neighbors = 15, metric = 'minkowski', p = 2)\n",
        "knn_clf.fit(X_train,Y_train)"
      ],
      "execution_count": null,
      "outputs": [
        {
          "output_type": "execute_result",
          "data": {
            "text/plain": [
              "KNeighborsClassifier(algorithm='auto', leaf_size=30, metric='minkowski',\n",
              "                     metric_params=None, n_jobs=None, n_neighbors=15, p=2,\n",
              "                     weights='uniform')"
            ]
          },
          "metadata": {},
          "execution_count": 2176
        }
      ]
    },
    {
      "cell_type": "code",
      "metadata": {
        "id": "RZSbSIHIW_mU"
      },
      "source": [
        "ypred=knn_clf.predict(X_test)"
      ],
      "execution_count": null,
      "outputs": []
    },
    {
      "cell_type": "code",
      "metadata": {
        "colab": {
          "base_uri": "https://localhost:8080/"
        },
        "id": "SQNHWjvRXc4n",
        "outputId": "06cd80cc-8e0a-48bb-d57d-b0b3a58f8410"
      },
      "source": [
        "result = accuracy_score(Y_test,ypred)\n",
        "result"
      ],
      "execution_count": null,
      "outputs": [
        {
          "output_type": "execute_result",
          "data": {
            "text/plain": [
              "0.6304347826086957"
            ]
          },
          "metadata": {},
          "execution_count": 2178
        }
      ]
    },
    {
      "cell_type": "code",
      "metadata": {
        "colab": {
          "base_uri": "https://localhost:8080/"
        },
        "id": "z5Y4Lvc3XuqT",
        "outputId": "478af47c-cb4c-4c57-dfcf-206a7b85410e"
      },
      "source": [
        "result1 = classification_report(Y_test, ypred)\n",
        "print(result1)"
      ],
      "execution_count": null,
      "outputs": [
        {
          "output_type": "stream",
          "name": "stdout",
          "text": [
            "              precision    recall  f1-score   support\n",
            "\n",
            "         0.0       0.61      0.73      0.66       136\n",
            "         1.0       0.66      0.81      0.73       188\n",
            "         2.0       1.00      0.10      0.18        10\n",
            "         3.0       0.64      0.56      0.60        41\n",
            "         4.0       1.00      0.05      0.10        39\n",
            "         5.0       0.48      0.26      0.34        46\n",
            "\n",
            "    accuracy                           0.63       460\n",
            "   macro avg       0.73      0.42      0.43       460\n",
            "weighted avg       0.66      0.63      0.59       460\n",
            "\n"
          ]
        }
      ]
    },
    {
      "cell_type": "code",
      "metadata": {
        "colab": {
          "base_uri": "https://localhost:8080/"
        },
        "id": "qVhN5kd3X2nJ",
        "outputId": "934b9aa2-2d19-4f0e-f4c5-1fe8cc76d375"
      },
      "source": [
        "mean_squared_error(Y_test,ypred)"
      ],
      "execution_count": null,
      "outputs": [
        {
          "output_type": "execute_result",
          "data": {
            "text/plain": [
              "3.367391304347826"
            ]
          },
          "metadata": {},
          "execution_count": 2180
        }
      ]
    },
    {
      "cell_type": "code",
      "metadata": {
        "colab": {
          "base_uri": "https://localhost:8080/"
        },
        "id": "0wMGWoCbYBu7",
        "outputId": "46f34343-e6c8-4cd7-8de2-d000126fcd06"
      },
      "source": [
        "y_unique = np.unique(Y_test)\n",
        "\n",
        "mcm= multilabel_confusion_matrix(Y_test, ypred, labels = y_unique)\n",
        "mcm"
      ],
      "execution_count": null,
      "outputs": [
        {
          "output_type": "execute_result",
          "data": {
            "text/plain": [
              "array([[[260,  64],\n",
              "        [ 37,  99]],\n",
              "\n",
              "       [[192,  80],\n",
              "        [ 35, 153]],\n",
              "\n",
              "       [[450,   0],\n",
              "        [  9,   1]],\n",
              "\n",
              "       [[406,  13],\n",
              "        [ 18,  23]],\n",
              "\n",
              "       [[421,   0],\n",
              "        [ 37,   2]],\n",
              "\n",
              "       [[401,  13],\n",
              "        [ 34,  12]]])"
            ]
          },
          "metadata": {},
          "execution_count": 2181
        }
      ]
    },
    {
      "cell_type": "markdown",
      "metadata": {
        "id": "IormFAX7cMlr"
      },
      "source": [
        "**Multinomial Naive Bayes**"
      ]
    },
    {
      "cell_type": "code",
      "metadata": {
        "id": "udHgMGikYOIH"
      },
      "source": [
        "clf=MultinomialNB(alpha=1)\n",
        "clf.fit(X_train,Y_train)\n",
        "clf_pred=clf.predict(X_test)"
      ],
      "execution_count": null,
      "outputs": []
    },
    {
      "cell_type": "code",
      "metadata": {
        "colab": {
          "base_uri": "https://localhost:8080/"
        },
        "id": "A5QmKBwibAIK",
        "outputId": "e89d0e61-a860-47b4-fd68-6fea462e4492"
      },
      "source": [
        "results=accuracy_score(Y_test,clf_pred)\n",
        "results"
      ],
      "execution_count": null,
      "outputs": [
        {
          "output_type": "execute_result",
          "data": {
            "text/plain": [
              "0.691304347826087"
            ]
          },
          "metadata": {},
          "execution_count": 2104
        }
      ]
    },
    {
      "cell_type": "code",
      "metadata": {
        "colab": {
          "base_uri": "https://localhost:8080/"
        },
        "id": "E2nXSRgGbgB2",
        "outputId": "a19bc069-3464-43a4-8892-7e11b61457c4"
      },
      "source": [
        "result2 = classification_report(Y_test, clf_pred)\n",
        "print(result2)"
      ],
      "execution_count": null,
      "outputs": [
        {
          "output_type": "stream",
          "name": "stdout",
          "text": [
            "              precision    recall  f1-score   support\n",
            "\n",
            "         0.0       0.75      0.69      0.72       136\n",
            "         1.0       0.66      0.93      0.77       188\n",
            "         2.0       1.00      0.10      0.18        10\n",
            "         3.0       0.68      0.66      0.67        41\n",
            "         4.0       0.00      0.00      0.00        39\n",
            "         5.0       0.73      0.48      0.58        46\n",
            "\n",
            "    accuracy                           0.69       460\n",
            "   macro avg       0.64      0.48      0.49       460\n",
            "weighted avg       0.65      0.69      0.65       460\n",
            "\n"
          ]
        },
        {
          "output_type": "stream",
          "name": "stderr",
          "text": [
            "/usr/local/lib/python3.7/dist-packages/sklearn/metrics/_classification.py:1272: UndefinedMetricWarning: Precision and F-score are ill-defined and being set to 0.0 in labels with no predicted samples. Use `zero_division` parameter to control this behavior.\n",
            "  _warn_prf(average, modifier, msg_start, len(result))\n"
          ]
        }
      ]
    },
    {
      "cell_type": "code",
      "metadata": {
        "colab": {
          "base_uri": "https://localhost:8080/"
        },
        "id": "bFb-HpAbboPg",
        "outputId": "2b6e35ac-f316-48fc-d09e-6c58e90a1d6f"
      },
      "source": [
        "mean_squared_error(Y_test,clf_pred)"
      ],
      "execution_count": null,
      "outputs": [
        {
          "output_type": "execute_result",
          "data": {
            "text/plain": [
              "2.393478260869565"
            ]
          },
          "metadata": {},
          "execution_count": 2106
        }
      ]
    },
    {
      "cell_type": "code",
      "metadata": {
        "colab": {
          "base_uri": "https://localhost:8080/"
        },
        "id": "9dFLSMDgb1jL",
        "outputId": "faf26a66-7a5b-4fc3-8463-5fab3a87d0b6"
      },
      "source": [
        "y_unique = np.unique(Y_test)\n",
        "\n",
        "mcm= multilabel_confusion_matrix(Y_test, clf_pred, labels = y_unique)\n",
        "mcm"
      ],
      "execution_count": null,
      "outputs": [
        {
          "output_type": "execute_result",
          "data": {
            "text/plain": [
              "array([[[293,  31],\n",
              "        [ 42,  94]],\n",
              "\n",
              "       [[182,  90],\n",
              "        [ 14, 174]],\n",
              "\n",
              "       [[450,   0],\n",
              "        [  9,   1]],\n",
              "\n",
              "       [[406,  13],\n",
              "        [ 14,  27]],\n",
              "\n",
              "       [[421,   0],\n",
              "        [ 39,   0]],\n",
              "\n",
              "       [[406,   8],\n",
              "        [ 24,  22]]])"
            ]
          },
          "metadata": {},
          "execution_count": 2107
        }
      ]
    },
    {
      "cell_type": "markdown",
      "metadata": {
        "id": "D8HJiU9p-Twj"
      },
      "source": [
        "**SGD Classifier**"
      ]
    },
    {
      "cell_type": "code",
      "metadata": {
        "id": "elVdXDpKb58k",
        "colab": {
          "base_uri": "https://localhost:8080/"
        },
        "outputId": "4e76bdf6-27d7-430f-d309-e417cb42f91e"
      },
      "source": [
        "sgd_clf = SGDClassifier()\n",
        "sgd_clf.fit(X_train, Y_train)"
      ],
      "execution_count": null,
      "outputs": [
        {
          "output_type": "execute_result",
          "data": {
            "text/plain": [
              "SGDClassifier(alpha=0.0001, average=False, class_weight=None,\n",
              "              early_stopping=False, epsilon=0.1, eta0=0.0, fit_intercept=True,\n",
              "              l1_ratio=0.15, learning_rate='optimal', loss='hinge',\n",
              "              max_iter=1000, n_iter_no_change=5, n_jobs=None, penalty='l2',\n",
              "              power_t=0.5, random_state=None, shuffle=True, tol=0.001,\n",
              "              validation_fraction=0.1, verbose=0, warm_start=False)"
            ]
          },
          "metadata": {},
          "execution_count": 2109
        }
      ]
    },
    {
      "cell_type": "code",
      "metadata": {
        "id": "gbm2xdyA5wYQ"
      },
      "source": [
        "sgd_pred = sgd_clf.predict(X_test)"
      ],
      "execution_count": null,
      "outputs": []
    },
    {
      "cell_type": "code",
      "metadata": {
        "colab": {
          "base_uri": "https://localhost:8080/"
        },
        "id": "baHu7Zyu6A32",
        "outputId": "61ad30a4-175a-4dd1-d697-0a1477cbe28b"
      },
      "source": [
        "sgd_score= accuracy_score(Y_test,sgd_pred)\n",
        "sgd_score"
      ],
      "execution_count": null,
      "outputs": [
        {
          "output_type": "execute_result",
          "data": {
            "text/plain": [
              "0.6369565217391304"
            ]
          },
          "metadata": {},
          "execution_count": 2116
        }
      ]
    },
    {
      "cell_type": "code",
      "metadata": {
        "colab": {
          "base_uri": "https://localhost:8080/"
        },
        "id": "HK5acN236t9F",
        "outputId": "30bd9cfe-411a-4505-86cf-351836e0415c"
      },
      "source": [
        "cr= classification_report(Y_test, sgd_pred)\n",
        "print(cr)"
      ],
      "execution_count": null,
      "outputs": [
        {
          "output_type": "stream",
          "name": "stdout",
          "text": [
            "              precision    recall  f1-score   support\n",
            "\n",
            "         0.0       0.95      0.46      0.62       136\n",
            "         1.0       0.58      0.99      0.73       188\n",
            "         2.0       0.00      0.00      0.00        10\n",
            "         3.0       0.52      0.80      0.63        41\n",
            "         4.0       0.00      0.00      0.00        39\n",
            "         5.0       1.00      0.22      0.36        46\n",
            "\n",
            "    accuracy                           0.64       460\n",
            "   macro avg       0.51      0.41      0.39       460\n",
            "weighted avg       0.67      0.64      0.58       460\n",
            "\n"
          ]
        },
        {
          "output_type": "stream",
          "name": "stderr",
          "text": [
            "/usr/local/lib/python3.7/dist-packages/sklearn/metrics/_classification.py:1272: UndefinedMetricWarning: Precision and F-score are ill-defined and being set to 0.0 in labels with no predicted samples. Use `zero_division` parameter to control this behavior.\n",
            "  _warn_prf(average, modifier, msg_start, len(result))\n"
          ]
        }
      ]
    },
    {
      "cell_type": "code",
      "metadata": {
        "colab": {
          "base_uri": "https://localhost:8080/"
        },
        "id": "60AXZQMc7MLB",
        "outputId": "79a1d439-b1d1-49b4-9500-6171a421ee9e"
      },
      "source": [
        "mcm= multilabel_confusion_matrix(Y_test, sgd_pred, labels = y_unique)\n",
        "mcm"
      ],
      "execution_count": null,
      "outputs": [
        {
          "output_type": "execute_result",
          "data": {
            "text/plain": [
              "array([[[321,   3],\n",
              "        [ 73,  63]],\n",
              "\n",
              "       [[138, 134],\n",
              "        [  1, 187]],\n",
              "\n",
              "       [[450,   0],\n",
              "        [ 10,   0]],\n",
              "\n",
              "       [[389,  30],\n",
              "        [  8,  33]],\n",
              "\n",
              "       [[421,   0],\n",
              "        [ 39,   0]],\n",
              "\n",
              "       [[414,   0],\n",
              "        [ 36,  10]]])"
            ]
          },
          "metadata": {},
          "execution_count": 2118
        }
      ]
    },
    {
      "cell_type": "markdown",
      "metadata": {
        "id": "sxFHcuYD-Yte"
      },
      "source": [
        "**Random Forest Classifier**"
      ]
    },
    {
      "cell_type": "code",
      "metadata": {
        "colab": {
          "base_uri": "https://localhost:8080/"
        },
        "id": "DcmeaxNl8ayR",
        "outputId": "6cd398cd-77f5-4dae-d7d3-02b0da2d9bb7"
      },
      "source": [
        "rf_clf = RandomForestClassifier()\n",
        "rf_clf.fit(X_train,Y_train)"
      ],
      "execution_count": null,
      "outputs": [
        {
          "output_type": "execute_result",
          "data": {
            "text/plain": [
              "RandomForestClassifier(bootstrap=True, ccp_alpha=0.0, class_weight=None,\n",
              "                       criterion='gini', max_depth=None, max_features='auto',\n",
              "                       max_leaf_nodes=None, max_samples=None,\n",
              "                       min_impurity_decrease=0.0, min_impurity_split=None,\n",
              "                       min_samples_leaf=1, min_samples_split=2,\n",
              "                       min_weight_fraction_leaf=0.0, n_estimators=100,\n",
              "                       n_jobs=None, oob_score=False, random_state=None,\n",
              "                       verbose=0, warm_start=False)"
            ]
          },
          "metadata": {},
          "execution_count": 2129
        }
      ]
    },
    {
      "cell_type": "code",
      "metadata": {
        "id": "nQpGRr6V8mvF"
      },
      "source": [
        "Y_pred_rf=rf_clf.predict(X_test)"
      ],
      "execution_count": null,
      "outputs": []
    },
    {
      "cell_type": "code",
      "metadata": {
        "colab": {
          "base_uri": "https://localhost:8080/"
        },
        "id": "y_5glj3N8xPl",
        "outputId": "503660da-bcf3-46a5-8b14-b86560f583d8"
      },
      "source": [
        "rf_score= accuracy_score(Y_test,Y_pred_rf)\n",
        "print('rf_testscore is :',rf_score)"
      ],
      "execution_count": null,
      "outputs": [
        {
          "output_type": "stream",
          "name": "stdout",
          "text": [
            "rf_testscore is : 0.8043478260869565\n"
          ]
        }
      ]
    },
    {
      "cell_type": "code",
      "metadata": {
        "colab": {
          "base_uri": "https://localhost:8080/"
        },
        "id": "thFpCLN0_gci",
        "outputId": "56ce8e3a-991b-4c65-96e3-188ecc67b45a"
      },
      "source": [
        "cr= classification_report(Y_test, Y_pred_rf)\n",
        "print(cr)"
      ],
      "execution_count": null,
      "outputs": [
        {
          "output_type": "stream",
          "name": "stdout",
          "text": [
            "              precision    recall  f1-score   support\n",
            "\n",
            "         0.0       0.84      0.83      0.84       136\n",
            "         1.0       0.80      0.91      0.86       188\n",
            "         2.0       0.75      0.60      0.67        10\n",
            "         3.0       0.76      0.83      0.79        41\n",
            "         4.0       0.68      0.49      0.57        39\n",
            "         5.0       0.84      0.57      0.68        46\n",
            "\n",
            "    accuracy                           0.80       460\n",
            "   macro avg       0.78      0.70      0.73       460\n",
            "weighted avg       0.80      0.80      0.80       460\n",
            "\n"
          ]
        }
      ]
    },
    {
      "cell_type": "code",
      "metadata": {
        "colab": {
          "base_uri": "https://localhost:8080/"
        },
        "id": "DSxoRMDC_psp",
        "outputId": "b18b1559-e9b6-4cd6-fdfb-d54d5982f844"
      },
      "source": [
        "mcm= multilabel_confusion_matrix(Y_test, Y_pred_rf, labels = y_unique)\n",
        "mcm"
      ],
      "execution_count": null,
      "outputs": [
        {
          "output_type": "execute_result",
          "data": {
            "text/plain": [
              "array([[[303,  21],\n",
              "        [ 23, 113]],\n",
              "\n",
              "       [[230,  42],\n",
              "        [ 16, 172]],\n",
              "\n",
              "       [[448,   2],\n",
              "        [  4,   6]],\n",
              "\n",
              "       [[408,  11],\n",
              "        [  7,  34]],\n",
              "\n",
              "       [[412,   9],\n",
              "        [ 20,  19]],\n",
              "\n",
              "       [[409,   5],\n",
              "        [ 20,  26]]])"
            ]
          },
          "metadata": {},
          "execution_count": 2193
        }
      ]
    },
    {
      "cell_type": "markdown",
      "metadata": {
        "id": "QkqALttg_-tP"
      },
      "source": [
        "**Decision Tree Classifier**"
      ]
    },
    {
      "cell_type": "code",
      "metadata": {
        "colab": {
          "base_uri": "https://localhost:8080/"
        },
        "id": "8Mwfl8mF9ei7",
        "outputId": "ee2ce894-6b95-4170-cd38-614296606082"
      },
      "source": [
        "dt_clf = DecisionTreeClassifier()\n",
        "dt_clf.fit(X_train, Y_train)\n",
        "dt_pred=dt_clf.predict(X_test)\n",
        "\n",
        "dt_score=accuracy_score(Y_test,dt_pred)\n",
        "print('DT test score',dt_score)"
      ],
      "execution_count": null,
      "outputs": [
        {
          "output_type": "stream",
          "name": "stdout",
          "text": [
            "DT test score 0.7543478260869565\n"
          ]
        }
      ]
    },
    {
      "cell_type": "code",
      "metadata": {
        "colab": {
          "base_uri": "https://localhost:8080/"
        },
        "id": "sSY-yieo-gi0",
        "outputId": "dd6a9a1d-ff32-46f3-c3eb-835e305071f1"
      },
      "source": [
        "cr= classification_report(Y_test,dt_pred)\n",
        "print(cr)"
      ],
      "execution_count": null,
      "outputs": [
        {
          "output_type": "stream",
          "name": "stdout",
          "text": [
            "              precision    recall  f1-score   support\n",
            "\n",
            "         0.0       0.82      0.80      0.81       136\n",
            "         1.0       0.82      0.78      0.80       188\n",
            "         2.0       0.53      0.80      0.64        10\n",
            "         3.0       0.67      0.80      0.73        41\n",
            "         4.0       0.45      0.62      0.52        39\n",
            "         5.0       0.82      0.59      0.68        46\n",
            "\n",
            "    accuracy                           0.75       460\n",
            "   macro avg       0.69      0.73      0.70       460\n",
            "weighted avg       0.77      0.75      0.76       460\n",
            "\n"
          ]
        }
      ]
    },
    {
      "cell_type": "code",
      "metadata": {
        "colab": {
          "base_uri": "https://localhost:8080/"
        },
        "id": "rYh35bBb_2o9",
        "outputId": "c99af611-6651-4b4f-b055-3b8bc7640480"
      },
      "source": [
        "mcm= multilabel_confusion_matrix(Y_test, dt_pred, labels = y_unique)\n",
        "mcm"
      ],
      "execution_count": null,
      "outputs": [
        {
          "output_type": "execute_result",
          "data": {
            "text/plain": [
              "array([[[300,  24],\n",
              "        [ 27, 109]],\n",
              "\n",
              "       [[241,  31],\n",
              "        [ 42, 146]],\n",
              "\n",
              "       [[443,   7],\n",
              "        [  2,   8]],\n",
              "\n",
              "       [[403,  16],\n",
              "        [  8,  33]],\n",
              "\n",
              "       [[392,  29],\n",
              "        [ 15,  24]],\n",
              "\n",
              "       [[408,   6],\n",
              "        [ 19,  27]]])"
            ]
          },
          "metadata": {},
          "execution_count": 2195
        }
      ]
    },
    {
      "cell_type": "code",
      "metadata": {
        "id": "ig0ibVZYAXbE"
      },
      "source": [
        ""
      ],
      "execution_count": null,
      "outputs": []
    }
  ]
}