{
  "nbformat": 4,
  "nbformat_minor": 0,
  "metadata": {
    "accelerator": "GPU",
    "colab": {
      "name": "Copy of EDA_nww.ipynb",
      "provenance": [],
      "collapsed_sections": [],
      "machine_shape": "hm",
      "include_colab_link": true
    },
    "kernelspec": {
      "display_name": "Python 3",
      "name": "python3"
    }
  },
  "cells": [
    {
      "cell_type": "markdown",
      "metadata": {
        "id": "view-in-github",
        "colab_type": "text"
      },
      "source": [
        "<a href=\"https://colab.research.google.com/github/yunpengliDataScience/Skin_Cancer_ML_DL/blob/main/Skin%20Cancer%20Classification%20prediction_Machien%20Learning.ipynb\" target=\"_parent\"><img src=\"https://colab.research.google.com/assets/colab-badge.svg\" alt=\"Open In Colab\"/></a>"
      ]
    },
    {
      "cell_type": "code",
      "metadata": {
        "id": "R_olGkLeevVm"
      },
      "source": [
        "import sys\n",
        "import os\n",
        "from imageio import imread\n",
        "from PIL import Image\n",
        "from glob import glob\n",
        "import numpy as np\n",
        "import pandas as pd\n",
        "import seaborn as sns\n",
        "import matplotlib.pyplot as plt\n",
        "from matplotlib.pyplot import imshow\n",
        "from sklearn import preprocessing"
      ],
      "execution_count": 1,
      "outputs": []
    },
    {
      "cell_type": "markdown",
      "metadata": {
        "id": "b52t2xnK_7kZ"
      },
      "source": [
        "**Mout google drive:**"
      ]
    },
    {
      "cell_type": "code",
      "metadata": {
        "colab": {
          "base_uri": "https://localhost:8080/"
        },
        "id": "hUFwuTwKhBtH",
        "outputId": "1ab38d58-f344-482a-ef43-adaa2b900e41"
      },
      "source": [
        "from google.colab import drive\n",
        "drive.mount('/content/gdrive')\n"
      ],
      "execution_count": 2,
      "outputs": [
        {
          "output_type": "stream",
          "name": "stdout",
          "text": [
            "Mounted at /content/gdrive\n"
          ]
        }
      ]
    },
    {
      "cell_type": "markdown",
      "metadata": {
        "id": "tBWzuh1jARC8"
      },
      "source": [
        "**Create project root path:**"
      ]
    },
    {
      "cell_type": "code",
      "metadata": {
        "colab": {
          "base_uri": "https://localhost:8080/"
        },
        "id": "f1SiPSYm83er",
        "outputId": "6956e9d6-ecec-4005-beda-b2d37c938c7d"
      },
      "source": [
        "project_root_path_string = '/content/gdrive/My Drive/Data606/Project/Skin_Cancer_Analysis/'\n",
        "\n",
        "print(\"project_root_path_string:\", project_root_path_string)"
      ],
      "execution_count": 3,
      "outputs": [
        {
          "output_type": "stream",
          "name": "stdout",
          "text": [
            "project_root_path_string: /content/gdrive/My Drive/Data606/Project/Skin_Cancer_Analysis/\n"
          ]
        }
      ]
    },
    {
      "cell_type": "code",
      "metadata": {
        "colab": {
          "base_uri": "https://localhost:8080/"
        },
        "id": "50DOwIyy9vLj",
        "outputId": "713833b8-cde7-4dfa-ff2b-066e199500e6"
      },
      "source": [
        "sys.path.append(project_root_path_string)\n",
        "\n",
        "sys.path"
      ],
      "execution_count": 4,
      "outputs": [
        {
          "output_type": "execute_result",
          "data": {
            "text/plain": [
              "['',\n",
              " '/content',\n",
              " '/env/python',\n",
              " '/usr/lib/python37.zip',\n",
              " '/usr/lib/python3.7',\n",
              " '/usr/lib/python3.7/lib-dynload',\n",
              " '/usr/local/lib/python3.7/dist-packages',\n",
              " '/usr/lib/python3/dist-packages',\n",
              " '/usr/local/lib/python3.7/dist-packages/IPython/extensions',\n",
              " '/root/.ipython',\n",
              " '/content/gdrive/My Drive/Data606/Project/Skin_Cancer_Analysis/']"
            ]
          },
          "metadata": {},
          "execution_count": 4
        }
      ]
    },
    {
      "cell_type": "markdown",
      "metadata": {
        "id": "3FUjuT69TTup"
      },
      "source": [
        "**Get the root data directory:**"
      ]
    },
    {
      "cell_type": "code",
      "metadata": {
        "colab": {
          "base_uri": "https://localhost:8080/"
        },
        "id": "GnO2tkRnsbAC",
        "outputId": "5ca1d4d6-98d4-4917-dac2-ec3deca0afe7"
      },
      "source": [
        "data_root_path = os.path.join(project_root_path_string, 'data') \n",
        "\n",
        "print(\"data_root_path:\", data_root_path)"
      ],
      "execution_count": 5,
      "outputs": [
        {
          "output_type": "stream",
          "name": "stdout",
          "text": [
            "data_root_path: /content/gdrive/My Drive/Data606/Project/Skin_Cancer_Analysis/data\n"
          ]
        }
      ]
    },
    {
      "cell_type": "markdown",
      "metadata": {
        "id": "NmnZLPi9AfS8"
      },
      "source": [
        "**Get the raw image data directory:**"
      ]
    },
    {
      "cell_type": "code",
      "metadata": {
        "colab": {
          "base_uri": "https://localhost:8080/"
        },
        "id": "dCSXL9rr9jSO",
        "outputId": "9a7aca58-4993-4214-90ff-241f92c4db05"
      },
      "source": [
        "raw_data_path =  os.path.join(data_root_path, 'raw_image_data') \n",
        "print(\"raw_data_path:\", raw_data_path)"
      ],
      "execution_count": 6,
      "outputs": [
        {
          "output_type": "stream",
          "name": "stdout",
          "text": [
            "raw_data_path: /content/gdrive/My Drive/Data606/Project/Skin_Cancer_Analysis/data/raw_image_data\n"
          ]
        }
      ]
    },
    {
      "cell_type": "markdown",
      "metadata": {
        "id": "pWt2kIJNCBk8"
      },
      "source": [
        "**Get the tabular data path:**"
      ]
    },
    {
      "cell_type": "code",
      "metadata": {
        "colab": {
          "base_uri": "https://localhost:8080/"
        },
        "id": "yhBx2L1WCAdU",
        "outputId": "43da34f9-f648-4e7d-d73f-e2b75c4c4700"
      },
      "source": [
        "tabular_data_path = os.path.join(data_root_path, 'tabular_data') \n",
        "\n",
        "print(\"tabular_data_path:\", tabular_data_path)"
      ],
      "execution_count": 7,
      "outputs": [
        {
          "output_type": "stream",
          "name": "stdout",
          "text": [
            "tabular_data_path: /content/gdrive/My Drive/Data606/Project/Skin_Cancer_Analysis/data/tabular_data\n"
          ]
        }
      ]
    },
    {
      "cell_type": "markdown",
      "metadata": {
        "id": "CHf9NPv9TsVi"
      },
      "source": [
        "**Read metadata into a panda data frame:**"
      ]
    },
    {
      "cell_type": "code",
      "metadata": {
        "id": "0cTFozoQsuvS"
      },
      "source": [
        "metaData_pd = pd.read_csv(os.path.join(tabular_data_path, 'metadata.csv'))"
      ],
      "execution_count": 8,
      "outputs": []
    },
    {
      "cell_type": "code",
      "metadata": {
        "colab": {
          "base_uri": "https://localhost:8080/",
          "height": 226
        },
        "id": "tqKbF4xosbE1",
        "outputId": "a2dff105-94ee-443a-eef7-00aa4eac12f6"
      },
      "source": [
        "metaData_pd.head()"
      ],
      "execution_count": 9,
      "outputs": [
        {
          "output_type": "execute_result",
          "data": {
            "text/html": [
              "<div>\n",
              "<style scoped>\n",
              "    .dataframe tbody tr th:only-of-type {\n",
              "        vertical-align: middle;\n",
              "    }\n",
              "\n",
              "    .dataframe tbody tr th {\n",
              "        vertical-align: top;\n",
              "    }\n",
              "\n",
              "    .dataframe thead th {\n",
              "        text-align: right;\n",
              "    }\n",
              "</style>\n",
              "<table border=\"1\" class=\"dataframe\">\n",
              "  <thead>\n",
              "    <tr style=\"text-align: right;\">\n",
              "      <th></th>\n",
              "      <th>patient_id</th>\n",
              "      <th>lesion_id</th>\n",
              "      <th>smoke</th>\n",
              "      <th>drink</th>\n",
              "      <th>background_father</th>\n",
              "      <th>background_mother</th>\n",
              "      <th>age</th>\n",
              "      <th>pesticide</th>\n",
              "      <th>gender</th>\n",
              "      <th>skin_cancer_history</th>\n",
              "      <th>cancer_history</th>\n",
              "      <th>has_piped_water</th>\n",
              "      <th>has_sewage_system</th>\n",
              "      <th>fitspatrick</th>\n",
              "      <th>region</th>\n",
              "      <th>diameter_1</th>\n",
              "      <th>diameter_2</th>\n",
              "      <th>diagnostic</th>\n",
              "      <th>itch</th>\n",
              "      <th>grew</th>\n",
              "      <th>hurt</th>\n",
              "      <th>changed</th>\n",
              "      <th>bleed</th>\n",
              "      <th>elevation</th>\n",
              "      <th>img_id</th>\n",
              "      <th>biopsed</th>\n",
              "    </tr>\n",
              "  </thead>\n",
              "  <tbody>\n",
              "    <tr>\n",
              "      <th>0</th>\n",
              "      <td>PAT_1516</td>\n",
              "      <td>1765</td>\n",
              "      <td>NaN</td>\n",
              "      <td>NaN</td>\n",
              "      <td>NaN</td>\n",
              "      <td>NaN</td>\n",
              "      <td>8</td>\n",
              "      <td>NaN</td>\n",
              "      <td>NaN</td>\n",
              "      <td>NaN</td>\n",
              "      <td>NaN</td>\n",
              "      <td>NaN</td>\n",
              "      <td>NaN</td>\n",
              "      <td>NaN</td>\n",
              "      <td>ARM</td>\n",
              "      <td>NaN</td>\n",
              "      <td>NaN</td>\n",
              "      <td>NEV</td>\n",
              "      <td>False</td>\n",
              "      <td>False</td>\n",
              "      <td>False</td>\n",
              "      <td>False</td>\n",
              "      <td>False</td>\n",
              "      <td>False</td>\n",
              "      <td>PAT_1516_1765_530.png</td>\n",
              "      <td>False</td>\n",
              "    </tr>\n",
              "    <tr>\n",
              "      <th>1</th>\n",
              "      <td>PAT_46</td>\n",
              "      <td>881</td>\n",
              "      <td>False</td>\n",
              "      <td>False</td>\n",
              "      <td>POMERANIA</td>\n",
              "      <td>POMERANIA</td>\n",
              "      <td>55</td>\n",
              "      <td>False</td>\n",
              "      <td>FEMALE</td>\n",
              "      <td>True</td>\n",
              "      <td>True</td>\n",
              "      <td>True</td>\n",
              "      <td>True</td>\n",
              "      <td>3.0</td>\n",
              "      <td>NECK</td>\n",
              "      <td>6.0</td>\n",
              "      <td>5.0</td>\n",
              "      <td>BCC</td>\n",
              "      <td>True</td>\n",
              "      <td>True</td>\n",
              "      <td>False</td>\n",
              "      <td>True</td>\n",
              "      <td>True</td>\n",
              "      <td>True</td>\n",
              "      <td>PAT_46_881_939.png</td>\n",
              "      <td>True</td>\n",
              "    </tr>\n",
              "    <tr>\n",
              "      <th>2</th>\n",
              "      <td>PAT_1545</td>\n",
              "      <td>1867</td>\n",
              "      <td>NaN</td>\n",
              "      <td>NaN</td>\n",
              "      <td>NaN</td>\n",
              "      <td>NaN</td>\n",
              "      <td>77</td>\n",
              "      <td>NaN</td>\n",
              "      <td>NaN</td>\n",
              "      <td>NaN</td>\n",
              "      <td>NaN</td>\n",
              "      <td>NaN</td>\n",
              "      <td>NaN</td>\n",
              "      <td>NaN</td>\n",
              "      <td>FACE</td>\n",
              "      <td>NaN</td>\n",
              "      <td>NaN</td>\n",
              "      <td>ACK</td>\n",
              "      <td>True</td>\n",
              "      <td>False</td>\n",
              "      <td>False</td>\n",
              "      <td>False</td>\n",
              "      <td>False</td>\n",
              "      <td>False</td>\n",
              "      <td>PAT_1545_1867_547.png</td>\n",
              "      <td>False</td>\n",
              "    </tr>\n",
              "    <tr>\n",
              "      <th>3</th>\n",
              "      <td>PAT_1989</td>\n",
              "      <td>4061</td>\n",
              "      <td>NaN</td>\n",
              "      <td>NaN</td>\n",
              "      <td>NaN</td>\n",
              "      <td>NaN</td>\n",
              "      <td>75</td>\n",
              "      <td>NaN</td>\n",
              "      <td>NaN</td>\n",
              "      <td>NaN</td>\n",
              "      <td>NaN</td>\n",
              "      <td>NaN</td>\n",
              "      <td>NaN</td>\n",
              "      <td>NaN</td>\n",
              "      <td>HAND</td>\n",
              "      <td>NaN</td>\n",
              "      <td>NaN</td>\n",
              "      <td>ACK</td>\n",
              "      <td>True</td>\n",
              "      <td>False</td>\n",
              "      <td>False</td>\n",
              "      <td>False</td>\n",
              "      <td>False</td>\n",
              "      <td>False</td>\n",
              "      <td>PAT_1989_4061_934.png</td>\n",
              "      <td>False</td>\n",
              "    </tr>\n",
              "    <tr>\n",
              "      <th>4</th>\n",
              "      <td>PAT_684</td>\n",
              "      <td>1302</td>\n",
              "      <td>False</td>\n",
              "      <td>True</td>\n",
              "      <td>POMERANIA</td>\n",
              "      <td>POMERANIA</td>\n",
              "      <td>79</td>\n",
              "      <td>False</td>\n",
              "      <td>MALE</td>\n",
              "      <td>True</td>\n",
              "      <td>False</td>\n",
              "      <td>False</td>\n",
              "      <td>False</td>\n",
              "      <td>1.0</td>\n",
              "      <td>FOREARM</td>\n",
              "      <td>5.0</td>\n",
              "      <td>5.0</td>\n",
              "      <td>BCC</td>\n",
              "      <td>True</td>\n",
              "      <td>True</td>\n",
              "      <td>False</td>\n",
              "      <td>False</td>\n",
              "      <td>True</td>\n",
              "      <td>True</td>\n",
              "      <td>PAT_684_1302_588.png</td>\n",
              "      <td>True</td>\n",
              "    </tr>\n",
              "  </tbody>\n",
              "</table>\n",
              "</div>"
            ],
            "text/plain": [
              "  patient_id  lesion_id  smoke  ... elevation                 img_id biopsed\n",
              "0   PAT_1516       1765    NaN  ...     False  PAT_1516_1765_530.png   False\n",
              "1     PAT_46        881  False  ...      True     PAT_46_881_939.png    True\n",
              "2   PAT_1545       1867    NaN  ...     False  PAT_1545_1867_547.png   False\n",
              "3   PAT_1989       4061    NaN  ...     False  PAT_1989_4061_934.png   False\n",
              "4    PAT_684       1302  False  ...      True   PAT_684_1302_588.png    True\n",
              "\n",
              "[5 rows x 26 columns]"
            ]
          },
          "metadata": {},
          "execution_count": 9
        }
      ]
    },
    {
      "cell_type": "markdown",
      "metadata": {
        "id": "5fENBrbyQ6vz"
      },
      "source": [
        "**Summarize NaN values:**"
      ]
    },
    {
      "cell_type": "code",
      "metadata": {
        "colab": {
          "base_uri": "https://localhost:8080/"
        },
        "id": "Rimwt5pXP8lW",
        "outputId": "2659965f-62ed-4c9a-eaa9-ffbe965ab2ed"
      },
      "source": [
        "count_nan_in_df = metaData_pd.isnull().sum()\n",
        "print (count_nan_in_df)"
      ],
      "execution_count": 10,
      "outputs": [
        {
          "output_type": "stream",
          "name": "stdout",
          "text": [
            "patient_id               0\n",
            "lesion_id                0\n",
            "smoke                  804\n",
            "drink                  804\n",
            "background_father      818\n",
            "background_mother      822\n",
            "age                      0\n",
            "pesticide              804\n",
            "gender                 804\n",
            "skin_cancer_history    804\n",
            "cancer_history         804\n",
            "has_piped_water        804\n",
            "has_sewage_system      804\n",
            "fitspatrick            804\n",
            "region                   0\n",
            "diameter_1             804\n",
            "diameter_2             804\n",
            "diagnostic               0\n",
            "itch                     0\n",
            "grew                     0\n",
            "hurt                     0\n",
            "changed                  0\n",
            "bleed                    0\n",
            "elevation                0\n",
            "img_id                   0\n",
            "biopsed                  0\n",
            "dtype: int64\n"
          ]
        }
      ]
    },
    {
      "cell_type": "markdown",
      "metadata": {
        "id": "7Bk9H5frSy3e"
      },
      "source": [
        "**Visualize skin leison category size:**"
      ]
    },
    {
      "cell_type": "code",
      "metadata": {
        "colab": {
          "base_uri": "https://localhost:8080/",
          "height": 548
        },
        "id": "oRN0NZBzWT_C",
        "outputId": "a644efe7-93a3-422d-f101-861a7eb78687"
      },
      "source": [
        "colors = ['#ADFF2F','#00BFFF','#FA8072','#800000','#808080','#2E8B57']\n",
        "plt.figure(figsize=(8, 6))\n",
        "splot=metaData_pd['diagnostic'].value_counts().plot(kind='bar', figsize=(14, 8), rot=0, color=colors)\n",
        "for p in splot.patches:\n",
        "    splot.annotate(format(p.get_height(), '.1f'), \n",
        "                   (p.get_x() + p.get_width() / 2., p.get_height()), \n",
        "                   ha = 'center', va = 'center', \n",
        "                   xytext = (0, 9), \n",
        "                   textcoords = 'offset points')\n",
        "plt.xlabel(\"DiagnosisType\", labelpad=14)\n",
        "plt.ylabel(\"Count of image\", labelpad=14)\n",
        "\n",
        "plt.title(\"Number of image by cancer diagnosis type\", y=1.02)\n",
        "\n",
        "\n"
      ],
      "execution_count": 11,
      "outputs": [
        {
          "output_type": "execute_result",
          "data": {
            "text/plain": [
              "Text(0.5, 1.02, 'Number of image by cancer diagnosis type')"
            ]
          },
          "metadata": {},
          "execution_count": 11
        },
        {
          "output_type": "display_data",
          "data": {
            "image/png": "[encoded data removed]",
            "text/plain": [
              "<Figure size 1008x576 with 1 Axes>"
            ]
          },
          "metadata": {
            "needs_background": "light"
          }
        }
      ]
    },
    {
      "cell_type": "code",
      "metadata": {
        "colab": {
          "base_uri": "https://localhost:8080/"
        },
        "id": "o8FHcD9abuwX",
        "outputId": "a4eaa76d-f807-49da-f6c7-2ce77971895d"
      },
      "source": [
        "##The dataset contains 1342 images whith true biopsy\n",
        "metaData_pd.groupby('biopsed').size()"
      ],
      "execution_count": 12,
      "outputs": [
        {
          "output_type": "execute_result",
          "data": {
            "text/plain": [
              "biopsed\n",
              "False     956\n",
              "True     1342\n",
              "dtype: int64"
            ]
          },
          "metadata": {},
          "execution_count": 12
        }
      ]
    },
    {
      "cell_type": "code",
      "metadata": {
        "colab": {
          "base_uri": "https://localhost:8080/"
        },
        "id": "k-Ld-gc0ex4h",
        "outputId": "ffebb243-b9ed-41be-8a7a-6d6054656250"
      },
      "source": [
        "## 58.3% of the images have true biopse\n",
        "\n",
        "(metaData_pd.groupby('biopsed').size()/metaData_pd['biopsed'].count())*100"
      ],
      "execution_count": 13,
      "outputs": [
        {
          "output_type": "execute_result",
          "data": {
            "text/plain": [
              "biopsed\n",
              "False    41.601393\n",
              "True     58.398607\n",
              "dtype: float64"
            ]
          },
          "metadata": {},
          "execution_count": 13
        }
      ]
    },
    {
      "cell_type": "code",
      "metadata": {
        "id": "t79mo8kQk22N"
      },
      "source": [
        " le = preprocessing.LabelEncoder()\n",
        "###Encode diagnostic column to have numerical values\n",
        "# metaData_pd['target']=le.fit_transform(metaData_pd['diagnostic'])\n",
        "## Encode dataset to have numerical values\n",
        "# metaData_pd['smoke']=le.fit_transform(metaData_pd['smoke'])\n",
        "# metaData_pd['drink']=le.fit_transform(metaData_pd['drink'])\n",
        "# metaData_pd['region']=le.fit_transform(metaData_pd['region'])\n",
        "# metaData_pd['itch']=le.fit_transform(metaData_pd['itch'])\n",
        "# metaData_pd['grew']=le.fit_transform(metaData_pd['grew'])\n",
        "# metaData_pd['hurt']=le.fit_transform(metaData_pd['hurt'])\n",
        "# metaData_pd['changed']=le.fit_transform(metaData_pd['changed'])\n",
        "# metaData_pd['bleed']=le.fit_transform(metaData_pd['bleed'])\n",
        "# metaData_pd['elevation']=le.fit_transform(metaData_pd['elevation'])\n",
        "# metaData_pd['biopsed']=le.fit_transform(metaData_pd['biopsed'])\n",
        "\n",
        "\n"
      ],
      "execution_count": 14,
      "outputs": []
    },
    {
      "cell_type": "code",
      "metadata": {
        "colab": {
          "base_uri": "https://localhost:8080/"
        },
        "id": "YPja-mtCMyEs",
        "outputId": "e1ddbb02-f2ef-42cf-a40b-83832833d238"
      },
      "source": [
        "pip install dython"
      ],
      "execution_count": 15,
      "outputs": [
        {
          "output_type": "stream",
          "name": "stdout",
          "text": [
            "Collecting dython\n",
            "  Downloading dython-0.6.8-py3-none-any.whl (20 kB)\n",
            "Requirement already satisfied: pandas>=0.23.4 in /usr/local/lib/python3.7/dist-packages (from dython) (1.1.5)\n",
            "Requirement already satisfied: numpy in /usr/local/lib/python3.7/dist-packages (from dython) (1.19.5)\n",
            "Requirement already satisfied: seaborn in /usr/local/lib/python3.7/dist-packages (from dython) (0.11.2)\n",
            "Requirement already satisfied: scikit-learn in /usr/local/lib/python3.7/dist-packages (from dython) (0.22.2.post1)\n",
            "Collecting scikit-plot>=0.3.7\n",
            "  Downloading scikit_plot-0.3.7-py3-none-any.whl (33 kB)\n",
            "Requirement already satisfied: matplotlib in /usr/local/lib/python3.7/dist-packages (from dython) (3.2.2)\n",
            "Requirement already satisfied: scipy in /usr/local/lib/python3.7/dist-packages (from dython) (1.4.1)\n",
            "Requirement already satisfied: pytz>=2017.2 in /usr/local/lib/python3.7/dist-packages (from pandas>=0.23.4->dython) (2018.9)\n",
            "Requirement already satisfied: python-dateutil>=2.7.3 in /usr/local/lib/python3.7/dist-packages (from pandas>=0.23.4->dython) (2.8.2)\n",
            "Requirement already satisfied: six>=1.5 in /usr/local/lib/python3.7/dist-packages (from python-dateutil>=2.7.3->pandas>=0.23.4->dython) (1.15.0)\n",
            "Requirement already satisfied: joblib>=0.10 in /usr/local/lib/python3.7/dist-packages (from scikit-plot>=0.3.7->dython) (1.0.1)\n",
            "Requirement already satisfied: cycler>=0.10 in /usr/local/lib/python3.7/dist-packages (from matplotlib->dython) (0.10.0)\n",
            "Requirement already satisfied: pyparsing!=2.0.4,!=2.1.2,!=2.1.6,>=2.0.1 in /usr/local/lib/python3.7/dist-packages (from matplotlib->dython) (2.4.7)\n",
            "Requirement already satisfied: kiwisolver>=1.0.1 in /usr/local/lib/python3.7/dist-packages (from matplotlib->dython) (1.3.2)\n",
            "Installing collected packages: scikit-plot, dython\n",
            "Successfully installed dython-0.6.8 scikit-plot-0.3.7\n"
          ]
        }
      ]
    },
    {
      "cell_type": "code",
      "metadata": {
        "id": "F-wQjZYIR1VB"
      },
      "source": [
        "### remove the id columns as since it is not important to field to train a model\n",
        "metaData_pd = metaData_pd.drop(columns=['patient_id','img_id','lesion_id'])"
      ],
      "execution_count": 16,
      "outputs": []
    },
    {
      "cell_type": "code",
      "metadata": {
        "colab": {
          "base_uri": "https://localhost:8080/",
          "height": 1000
        },
        "id": "JVxoBmXlMI1Y",
        "outputId": "5354c238-6811-4b9a-c69d-e1f65cd27ba7"
      },
      "source": [
        "##Correlation matrix£#‹\n",
        "from dython.nominal import associations\n",
        "num_cols = len(metaData_pd.columns)\n",
        "associations(metaData_pd, nom_nom_assoc='theil', figsize=(num_cols, num_cols))"
      ],
      "execution_count": 17,
      "outputs": [
        {
          "output_type": "display_data",
          "data": {
            "image/png": "[encoded data removed]",
            "text/plain": [
              "<Figure size 1656x1656 with 2 Axes>"
            ]
          },
          "metadata": {
            "needs_background": "light"
          }
        },
        {
          "output_type": "execute_result",
          "data": {
            "text/plain": [
              "{'ax': <matplotlib.axes._subplots.AxesSubplot at 0x7f34b7f31ad0>,\n",
              " 'corr':                         smoke     drink  ...  elevation   biopsed\n",
              " smoke                1.000000  0.047988  ...   0.012023  0.233957\n",
              " drink                0.070920  1.000000  ...   0.013130  0.279479\n",
              " background_father    0.175912  0.164739  ...   0.076435  0.882316\n",
              " background_mother    0.173884  0.152216  ...   0.070595  0.886191\n",
              " age                  0.124379  0.022552  ...   0.075356  0.181797\n",
              " pesticide            0.038114  0.093504  ...   0.009954  0.391303\n",
              " gender               0.175981  0.279381  ...   0.062442  0.869192\n",
              " skin_cancer_history  0.005986  0.018124  ...   0.015425  0.406600\n",
              " cancer_history       0.018919  0.038483  ...   0.013793  0.449624\n",
              " has_piped_water      0.058185  0.021356  ...   0.024273  0.536637\n",
              " has_sewage_system    0.047004  0.026851  ...   0.022138  0.484994\n",
              " fitspatrick          0.190476  0.294157  ...   0.240616  0.756666\n",
              " region               0.016836  0.009760  ...   0.037540  0.298963\n",
              " diameter_1           0.162523  0.185879  ...   0.152935  0.571562\n",
              " diameter_2           0.170945  0.220856  ...   0.182623  0.612772\n",
              " diagnostic           0.113678  0.076255  ...   0.213085  0.807908\n",
              " itch                 0.014059  0.004677  ...   0.004923  0.179485\n",
              " grew                 0.026747  0.034258  ...   0.101394  0.497107\n",
              " hurt                 0.015321  0.014302  ...   0.036494  0.343072\n",
              " changed              0.019932  0.023330  ...   0.023144  0.439955\n",
              " bleed                0.015181  0.016299  ...   0.040003  0.397794\n",
              " elevation            0.027000  0.019951  ...   1.000000  0.332222\n",
              " biopsed              0.233957  0.279479  ...   0.332222  1.000000\n",
              " \n",
              " [23 rows x 23 columns]}"
            ]
          },
          "metadata": {},
          "execution_count": 17
        }
      ]
    },
    {
      "cell_type": "markdown",
      "metadata": {
        "id": "3kG6aERqTAI6"
      },
      "source": [
        ""
      ]
    },
    {
      "cell_type": "markdown",
      "metadata": {
        "id": "i-Xib-DPTAsb"
      },
      "source": [
        "Creating a new Category (unknown) for missing values.Advantage: Simple and easy to implement for categorical variables/columns and preserves the variance. 34% of missing values from in 13 columns.\n",
        "Doesn’t give good results when missing data is a high percentage of the data."
      ]
    },
    {
      "cell_type": "code",
      "metadata": {
        "colab": {
          "base_uri": "https://localhost:8080/"
        },
        "id": "-5tEvgdxvKmW",
        "outputId": "97f7eb46-2fb2-4bdf-8faf-65312ab46919"
      },
      "source": [
        "# categorical features check\n",
        "cat =metaData_pd.select_dtypes(include='O').keys()\n",
        "cat"
      ],
      "execution_count": 18,
      "outputs": [
        {
          "output_type": "execute_result",
          "data": {
            "text/plain": [
              "Index(['smoke', 'drink', 'background_father', 'background_mother', 'pesticide',\n",
              "       'gender', 'skin_cancer_history', 'cancer_history', 'has_piped_water',\n",
              "       'has_sewage_system', 'region', 'diagnostic', 'itch', 'grew', 'hurt',\n",
              "       'changed', 'bleed', 'elevation'],\n",
              "      dtype='object')"
            ]
          },
          "metadata": {},
          "execution_count": 18
        }
      ]
    },
    {
      "cell_type": "code",
      "metadata": {
        "id": "yoQyahF2RXia",
        "colab": {
          "base_uri": "https://localhost:8080/"
        },
        "outputId": "bf13d9ff-10fd-4e67-ab5e-747e3c02e0a4"
      },
      "source": [
        "# replace the missing for data categorical variable based on the mode function. most frequent value.\n",
        "cat_columns = metaData_pd[['smoke', 'drink', 'background_father', 'background_mother', 'pesticide',\n",
        "       'gender', 'skin_cancer_history', 'cancer_history', 'has_piped_water',\n",
        "       'has_sewage_system', 'region', 'itch', 'grew', 'hurt',\n",
        "       'changed', 'bleed', 'elevation','biopsed']]\n",
        "# cat_columns=cat_columns.fillna(cat_columns.columns.mode())\n",
        "# cat_columns\n",
        "for column in cat_columns.columns:\n",
        "    cat_columns[column].fillna(cat_columns[column].mode()[0], inplace=True)"
      ],
      "execution_count": 19,
      "outputs": [
        {
          "output_type": "stream",
          "name": "stderr",
          "text": [
            "/usr/local/lib/python3.7/dist-packages/pandas/core/series.py:4536: SettingWithCopyWarning: \n",
            "A value is trying to be set on a copy of a slice from a DataFrame\n",
            "\n",
            "See the caveats in the documentation: https://pandas.pydata.org/pandas-docs/stable/user_guide/indexing.html#returning-a-view-versus-a-copy\n",
            "  downcast=downcast,\n"
          ]
        }
      ]
    },
    {
      "cell_type": "code",
      "metadata": {
        "colab": {
          "base_uri": "https://localhost:8080/"
        },
        "id": "mqfbiKDRVLsU",
        "outputId": "92d717cc-6abf-4d49-9007-89e8d5d8a353"
      },
      "source": [
        "cat_columns.info()"
      ],
      "execution_count": 20,
      "outputs": [
        {
          "output_type": "stream",
          "name": "stdout",
          "text": [
            "<class 'pandas.core.frame.DataFrame'>\n",
            "RangeIndex: 2298 entries, 0 to 2297\n",
            "Data columns (total 18 columns):\n",
            " #   Column               Non-Null Count  Dtype \n",
            "---  ------               --------------  ----- \n",
            " 0   smoke                2298 non-null   bool  \n",
            " 1   drink                2298 non-null   bool  \n",
            " 2   background_father    2298 non-null   object\n",
            " 3   background_mother    2298 non-null   object\n",
            " 4   pesticide            2298 non-null   bool  \n",
            " 5   gender               2298 non-null   object\n",
            " 6   skin_cancer_history  2298 non-null   bool  \n",
            " 7   cancer_history       2298 non-null   bool  \n",
            " 8   has_piped_water      2298 non-null   bool  \n",
            " 9   has_sewage_system    2298 non-null   bool  \n",
            " 10  region               2298 non-null   object\n",
            " 11  itch                 2298 non-null   object\n",
            " 12  grew                 2298 non-null   object\n",
            " 13  hurt                 2298 non-null   object\n",
            " 14  changed              2298 non-null   object\n",
            " 15  bleed                2298 non-null   object\n",
            " 16  elevation            2298 non-null   object\n",
            " 17  biopsed              2298 non-null   bool  \n",
            "dtypes: bool(8), object(10)\n",
            "memory usage: 197.6+ KB\n"
          ]
        }
      ]
    },
    {
      "cell_type": "code",
      "metadata": {
        "id": "WbfCDGPdy6gI"
      },
      "source": [
        "#label encode the categorical columns\n",
        "metaData_le=pd.get_dummies(cat_columns, columns=['smoke', 'drink', 'background_father', 'background_mother', 'pesticide',\n",
        "       'gender', 'skin_cancer_history', 'cancer_history', 'has_piped_water',\n",
        "       'has_sewage_system', 'region', 'itch', 'grew', 'hurt',\n",
        "       'changed', 'bleed', 'elevation','biopsed'])\n",
        "#adding the target class\n",
        "metaData_le['target']=le.fit_transform(metaData_pd['diagnostic'])"
      ],
      "execution_count": 21,
      "outputs": []
    },
    {
      "cell_type": "code",
      "metadata": {
        "colab": {
          "base_uri": "https://localhost:8080/"
        },
        "id": "LC3XuPPOz7Dw",
        "outputId": "7ff0e9e2-8424-4a41-d337-38ceb7c6b230"
      },
      "source": [
        "metaData_le.info()"
      ],
      "execution_count": 22,
      "outputs": [
        {
          "output_type": "stream",
          "name": "stdout",
          "text": [
            "<class 'pandas.core.frame.DataFrame'>\n",
            "RangeIndex: 2298 entries, 0 to 2297\n",
            "Data columns (total 75 columns):\n",
            " #   Column                         Non-Null Count  Dtype\n",
            "---  ------                         --------------  -----\n",
            " 0   smoke_False                    2298 non-null   uint8\n",
            " 1   smoke_True                     2298 non-null   uint8\n",
            " 2   drink_False                    2298 non-null   uint8\n",
            " 3   drink_True                     2298 non-null   uint8\n",
            " 4   background_father_AUSTRIA      2298 non-null   uint8\n",
            " 5   background_father_BRASIL       2298 non-null   uint8\n",
            " 6   background_father_BRAZIL       2298 non-null   uint8\n",
            " 7   background_father_CZECH        2298 non-null   uint8\n",
            " 8   background_father_GERMANY      2298 non-null   uint8\n",
            " 9   background_father_ISRAEL       2298 non-null   uint8\n",
            " 10  background_father_ITALY        2298 non-null   uint8\n",
            " 11  background_father_NETHERLANDS  2298 non-null   uint8\n",
            " 12  background_father_POLAND       2298 non-null   uint8\n",
            " 13  background_father_POMERANIA    2298 non-null   uint8\n",
            " 14  background_father_PORTUGAL     2298 non-null   uint8\n",
            " 15  background_father_SPAIN        2298 non-null   uint8\n",
            " 16  background_father_UNK          2298 non-null   uint8\n",
            " 17  background_mother_BRAZIL       2298 non-null   uint8\n",
            " 18  background_mother_FRANCE       2298 non-null   uint8\n",
            " 19  background_mother_GERMANY      2298 non-null   uint8\n",
            " 20  background_mother_ITALY        2298 non-null   uint8\n",
            " 21  background_mother_NETHERLANDS  2298 non-null   uint8\n",
            " 22  background_mother_NORWAY       2298 non-null   uint8\n",
            " 23  background_mother_POLAND       2298 non-null   uint8\n",
            " 24  background_mother_POMERANIA    2298 non-null   uint8\n",
            " 25  background_mother_PORTUGAL     2298 non-null   uint8\n",
            " 26  background_mother_SPAIN        2298 non-null   uint8\n",
            " 27  background_mother_UNK          2298 non-null   uint8\n",
            " 28  pesticide_False                2298 non-null   uint8\n",
            " 29  pesticide_True                 2298 non-null   uint8\n",
            " 30  gender_FEMALE                  2298 non-null   uint8\n",
            " 31  gender_MALE                    2298 non-null   uint8\n",
            " 32  skin_cancer_history_False      2298 non-null   uint8\n",
            " 33  skin_cancer_history_True       2298 non-null   uint8\n",
            " 34  cancer_history_False           2298 non-null   uint8\n",
            " 35  cancer_history_True            2298 non-null   uint8\n",
            " 36  has_piped_water_False          2298 non-null   uint8\n",
            " 37  has_piped_water_True           2298 non-null   uint8\n",
            " 38  has_sewage_system_False        2298 non-null   uint8\n",
            " 39  has_sewage_system_True         2298 non-null   uint8\n",
            " 40  region_ABDOMEN                 2298 non-null   uint8\n",
            " 41  region_ARM                     2298 non-null   uint8\n",
            " 42  region_BACK                    2298 non-null   uint8\n",
            " 43  region_CHEST                   2298 non-null   uint8\n",
            " 44  region_EAR                     2298 non-null   uint8\n",
            " 45  region_FACE                    2298 non-null   uint8\n",
            " 46  region_FOOT                    2298 non-null   uint8\n",
            " 47  region_FOREARM                 2298 non-null   uint8\n",
            " 48  region_HAND                    2298 non-null   uint8\n",
            " 49  region_LIP                     2298 non-null   uint8\n",
            " 50  region_NECK                    2298 non-null   uint8\n",
            " 51  region_NOSE                    2298 non-null   uint8\n",
            " 52  region_SCALP                   2298 non-null   uint8\n",
            " 53  region_THIGH                   2298 non-null   uint8\n",
            " 54  itch_False                     2298 non-null   uint8\n",
            " 55  itch_True                      2298 non-null   uint8\n",
            " 56  itch_UNK                       2298 non-null   uint8\n",
            " 57  grew_False                     2298 non-null   uint8\n",
            " 58  grew_True                      2298 non-null   uint8\n",
            " 59  grew_UNK                       2298 non-null   uint8\n",
            " 60  hurt_False                     2298 non-null   uint8\n",
            " 61  hurt_True                      2298 non-null   uint8\n",
            " 62  hurt_UNK                       2298 non-null   uint8\n",
            " 63  changed_False                  2298 non-null   uint8\n",
            " 64  changed_True                   2298 non-null   uint8\n",
            " 65  changed_UNK                    2298 non-null   uint8\n",
            " 66  bleed_False                    2298 non-null   uint8\n",
            " 67  bleed_True                     2298 non-null   uint8\n",
            " 68  bleed_UNK                      2298 non-null   uint8\n",
            " 69  elevation_False                2298 non-null   uint8\n",
            " 70  elevation_True                 2298 non-null   uint8\n",
            " 71  elevation_UNK                  2298 non-null   uint8\n",
            " 72  biopsed_False                  2298 non-null   uint8\n",
            " 73  biopsed_True                   2298 non-null   uint8\n",
            " 74  target                         2298 non-null   int64\n",
            "dtypes: int64(1), uint8(74)\n",
            "memory usage: 184.1 KB\n"
          ]
        }
      ]
    },
    {
      "cell_type": "code",
      "metadata": {
        "colab": {
          "base_uri": "https://localhost:8080/"
        },
        "id": "C28SRCMIKcsb",
        "outputId": "31900b9c-f58a-4ac1-f6e1-98db837b4925"
      },
      "source": [
        "le.classes_"
      ],
      "execution_count": 23,
      "outputs": [
        {
          "output_type": "execute_result",
          "data": {
            "text/plain": [
              "array(['ACK', 'BCC', 'MEL', 'NEV', 'SCC', 'SEK'], dtype=object)"
            ]
          },
          "metadata": {},
          "execution_count": 23
        }
      ]
    },
    {
      "cell_type": "code",
      "metadata": {
        "id": "s4-uPR27OiUk"
      },
      "source": [
        "##numeric features impute mean values for nan\n",
        "\n",
        "#Taking care of Missing data\n",
        "col=metaData_pd[['age','fitspatrick','diameter_1','diameter_2']]\n",
        "from sklearn.impute import SimpleImputer  \n",
        "imputer = SimpleImputer(missing_values=np.nan, strategy='mean')\n",
        "imputer = imputer.fit(col)\n",
        "###merge the numeric fields to the categorical fields\n",
        "metaData_le[['age','fitspatrick','diameter_1','diameter_2']]= imputer.transform(col)\n",
        "\n",
        "\n",
        "### drop the diagnostic field as we replaced it with target\n",
        "\n",
        "# metaData_le = metaData_le.drop(columns=['diagnostic'])"
      ],
      "execution_count": 24,
      "outputs": []
    },
    {
      "cell_type": "code",
      "metadata": {
        "colab": {
          "base_uri": "https://localhost:8080/",
          "height": 444
        },
        "id": "ARD1EKkRK4NZ",
        "outputId": "4324544f-076f-4945-bf73-b1fcde77ace1"
      },
      "source": [
        "metaData_le.head(100)"
      ],
      "execution_count": 25,
      "outputs": [
        {
          "output_type": "execute_result",
          "data": {
            "text/html": [
              "<div>\n",
              "<style scoped>\n",
              "    .dataframe tbody tr th:only-of-type {\n",
              "        vertical-align: middle;\n",
              "    }\n",
              "\n",
              "    .dataframe tbody tr th {\n",
              "        vertical-align: top;\n",
              "    }\n",
              "\n",
              "    .dataframe thead th {\n",
              "        text-align: right;\n",
              "    }\n",
              "</style>\n",
              "<table border=\"1\" class=\"dataframe\">\n",
              "  <thead>\n",
              "    <tr style=\"text-align: right;\">\n",
              "      <th></th>\n",
              "      <th>smoke_False</th>\n",
              "      <th>smoke_True</th>\n",
              "      <th>drink_False</th>\n",
              "      <th>drink_True</th>\n",
              "      <th>background_father_AUSTRIA</th>\n",
              "      <th>background_father_BRASIL</th>\n",
              "      <th>background_father_BRAZIL</th>\n",
              "      <th>background_father_CZECH</th>\n",
              "      <th>background_father_GERMANY</th>\n",
              "      <th>background_father_ISRAEL</th>\n",
              "      <th>background_father_ITALY</th>\n",
              "      <th>background_father_NETHERLANDS</th>\n",
              "      <th>background_father_POLAND</th>\n",
              "      <th>background_father_POMERANIA</th>\n",
              "      <th>background_father_PORTUGAL</th>\n",
              "      <th>background_father_SPAIN</th>\n",
              "      <th>background_father_UNK</th>\n",
              "      <th>background_mother_BRAZIL</th>\n",
              "      <th>background_mother_FRANCE</th>\n",
              "      <th>background_mother_GERMANY</th>\n",
              "      <th>background_mother_ITALY</th>\n",
              "      <th>background_mother_NETHERLANDS</th>\n",
              "      <th>background_mother_NORWAY</th>\n",
              "      <th>background_mother_POLAND</th>\n",
              "      <th>background_mother_POMERANIA</th>\n",
              "      <th>background_mother_PORTUGAL</th>\n",
              "      <th>background_mother_SPAIN</th>\n",
              "      <th>background_mother_UNK</th>\n",
              "      <th>pesticide_False</th>\n",
              "      <th>pesticide_True</th>\n",
              "      <th>gender_FEMALE</th>\n",
              "      <th>gender_MALE</th>\n",
              "      <th>skin_cancer_history_False</th>\n",
              "      <th>skin_cancer_history_True</th>\n",
              "      <th>cancer_history_False</th>\n",
              "      <th>cancer_history_True</th>\n",
              "      <th>has_piped_water_False</th>\n",
              "      <th>has_piped_water_True</th>\n",
              "      <th>has_sewage_system_False</th>\n",
              "      <th>has_sewage_system_True</th>\n",
              "      <th>region_ABDOMEN</th>\n",
              "      <th>region_ARM</th>\n",
              "      <th>region_BACK</th>\n",
              "      <th>region_CHEST</th>\n",
              "      <th>region_EAR</th>\n",
              "      <th>region_FACE</th>\n",
              "      <th>region_FOOT</th>\n",
              "      <th>region_FOREARM</th>\n",
              "      <th>region_HAND</th>\n",
              "      <th>region_LIP</th>\n",
              "      <th>region_NECK</th>\n",
              "      <th>region_NOSE</th>\n",
              "      <th>region_SCALP</th>\n",
              "      <th>region_THIGH</th>\n",
              "      <th>itch_False</th>\n",
              "      <th>itch_True</th>\n",
              "      <th>itch_UNK</th>\n",
              "      <th>grew_False</th>\n",
              "      <th>grew_True</th>\n",
              "      <th>grew_UNK</th>\n",
              "      <th>hurt_False</th>\n",
              "      <th>hurt_True</th>\n",
              "      <th>hurt_UNK</th>\n",
              "      <th>changed_False</th>\n",
              "      <th>changed_True</th>\n",
              "      <th>changed_UNK</th>\n",
              "      <th>bleed_False</th>\n",
              "      <th>bleed_True</th>\n",
              "      <th>bleed_UNK</th>\n",
              "      <th>elevation_False</th>\n",
              "      <th>elevation_True</th>\n",
              "      <th>elevation_UNK</th>\n",
              "      <th>biopsed_False</th>\n",
              "      <th>biopsed_True</th>\n",
              "      <th>target</th>\n",
              "      <th>age</th>\n",
              "      <th>fitspatrick</th>\n",
              "      <th>diameter_1</th>\n",
              "      <th>diameter_2</th>\n",
              "    </tr>\n",
              "  </thead>\n",
              "  <tbody>\n",
              "    <tr>\n",
              "      <th>0</th>\n",
              "      <td>1</td>\n",
              "      <td>0</td>\n",
              "      <td>1</td>\n",
              "      <td>0</td>\n",
              "      <td>0</td>\n",
              "      <td>0</td>\n",
              "      <td>0</td>\n",
              "      <td>0</td>\n",
              "      <td>0</td>\n",
              "      <td>0</td>\n",
              "      <td>0</td>\n",
              "      <td>0</td>\n",
              "      <td>0</td>\n",
              "      <td>1</td>\n",
              "      <td>0</td>\n",
              "      <td>0</td>\n",
              "      <td>0</td>\n",
              "      <td>0</td>\n",
              "      <td>0</td>\n",
              "      <td>0</td>\n",
              "      <td>0</td>\n",
              "      <td>0</td>\n",
              "      <td>0</td>\n",
              "      <td>0</td>\n",
              "      <td>1</td>\n",
              "      <td>0</td>\n",
              "      <td>0</td>\n",
              "      <td>0</td>\n",
              "      <td>1</td>\n",
              "      <td>0</td>\n",
              "      <td>1</td>\n",
              "      <td>0</td>\n",
              "      <td>1</td>\n",
              "      <td>0</td>\n",
              "      <td>0</td>\n",
              "      <td>1</td>\n",
              "      <td>0</td>\n",
              "      <td>1</td>\n",
              "      <td>0</td>\n",
              "      <td>1</td>\n",
              "      <td>0</td>\n",
              "      <td>1</td>\n",
              "      <td>0</td>\n",
              "      <td>0</td>\n",
              "      <td>0</td>\n",
              "      <td>0</td>\n",
              "      <td>0</td>\n",
              "      <td>0</td>\n",
              "      <td>0</td>\n",
              "      <td>0</td>\n",
              "      <td>0</td>\n",
              "      <td>0</td>\n",
              "      <td>0</td>\n",
              "      <td>0</td>\n",
              "      <td>1</td>\n",
              "      <td>0</td>\n",
              "      <td>0</td>\n",
              "      <td>1</td>\n",
              "      <td>0</td>\n",
              "      <td>0</td>\n",
              "      <td>1</td>\n",
              "      <td>0</td>\n",
              "      <td>0</td>\n",
              "      <td>1</td>\n",
              "      <td>0</td>\n",
              "      <td>0</td>\n",
              "      <td>1</td>\n",
              "      <td>0</td>\n",
              "      <td>0</td>\n",
              "      <td>1</td>\n",
              "      <td>0</td>\n",
              "      <td>0</td>\n",
              "      <td>1</td>\n",
              "      <td>0</td>\n",
              "      <td>3</td>\n",
              "      <td>8.0</td>\n",
              "      <td>2.26573</td>\n",
              "      <td>11.897055</td>\n",
              "      <td>8.852209</td>\n",
              "    </tr>\n",
              "    <tr>\n",
              "      <th>1</th>\n",
              "      <td>1</td>\n",
              "      <td>0</td>\n",
              "      <td>1</td>\n",
              "      <td>0</td>\n",
              "      <td>0</td>\n",
              "      <td>0</td>\n",
              "      <td>0</td>\n",
              "      <td>0</td>\n",
              "      <td>0</td>\n",
              "      <td>0</td>\n",
              "      <td>0</td>\n",
              "      <td>0</td>\n",
              "      <td>0</td>\n",
              "      <td>1</td>\n",
              "      <td>0</td>\n",
              "      <td>0</td>\n",
              "      <td>0</td>\n",
              "      <td>0</td>\n",
              "      <td>0</td>\n",
              "      <td>0</td>\n",
              "      <td>0</td>\n",
              "      <td>0</td>\n",
              "      <td>0</td>\n",
              "      <td>0</td>\n",
              "      <td>1</td>\n",
              "      <td>0</td>\n",
              "      <td>0</td>\n",
              "      <td>0</td>\n",
              "      <td>1</td>\n",
              "      <td>0</td>\n",
              "      <td>1</td>\n",
              "      <td>0</td>\n",
              "      <td>0</td>\n",
              "      <td>1</td>\n",
              "      <td>0</td>\n",
              "      <td>1</td>\n",
              "      <td>0</td>\n",
              "      <td>1</td>\n",
              "      <td>0</td>\n",
              "      <td>1</td>\n",
              "      <td>0</td>\n",
              "      <td>0</td>\n",
              "      <td>0</td>\n",
              "      <td>0</td>\n",
              "      <td>0</td>\n",
              "      <td>0</td>\n",
              "      <td>0</td>\n",
              "      <td>0</td>\n",
              "      <td>0</td>\n",
              "      <td>0</td>\n",
              "      <td>1</td>\n",
              "      <td>0</td>\n",
              "      <td>0</td>\n",
              "      <td>0</td>\n",
              "      <td>0</td>\n",
              "      <td>1</td>\n",
              "      <td>0</td>\n",
              "      <td>0</td>\n",
              "      <td>1</td>\n",
              "      <td>0</td>\n",
              "      <td>1</td>\n",
              "      <td>0</td>\n",
              "      <td>0</td>\n",
              "      <td>0</td>\n",
              "      <td>1</td>\n",
              "      <td>0</td>\n",
              "      <td>0</td>\n",
              "      <td>1</td>\n",
              "      <td>0</td>\n",
              "      <td>0</td>\n",
              "      <td>1</td>\n",
              "      <td>0</td>\n",
              "      <td>0</td>\n",
              "      <td>1</td>\n",
              "      <td>1</td>\n",
              "      <td>55.0</td>\n",
              "      <td>3.00000</td>\n",
              "      <td>6.000000</td>\n",
              "      <td>5.000000</td>\n",
              "    </tr>\n",
              "    <tr>\n",
              "      <th>2</th>\n",
              "      <td>1</td>\n",
              "      <td>0</td>\n",
              "      <td>1</td>\n",
              "      <td>0</td>\n",
              "      <td>0</td>\n",
              "      <td>0</td>\n",
              "      <td>0</td>\n",
              "      <td>0</td>\n",
              "      <td>0</td>\n",
              "      <td>0</td>\n",
              "      <td>0</td>\n",
              "      <td>0</td>\n",
              "      <td>0</td>\n",
              "      <td>1</td>\n",
              "      <td>0</td>\n",
              "      <td>0</td>\n",
              "      <td>0</td>\n",
              "      <td>0</td>\n",
              "      <td>0</td>\n",
              "      <td>0</td>\n",
              "      <td>0</td>\n",
              "      <td>0</td>\n",
              "      <td>0</td>\n",
              "      <td>0</td>\n",
              "      <td>1</td>\n",
              "      <td>0</td>\n",
              "      <td>0</td>\n",
              "      <td>0</td>\n",
              "      <td>1</td>\n",
              "      <td>0</td>\n",
              "      <td>1</td>\n",
              "      <td>0</td>\n",
              "      <td>1</td>\n",
              "      <td>0</td>\n",
              "      <td>0</td>\n",
              "      <td>1</td>\n",
              "      <td>0</td>\n",
              "      <td>1</td>\n",
              "      <td>0</td>\n",
              "      <td>1</td>\n",
              "      <td>0</td>\n",
              "      <td>0</td>\n",
              "      <td>0</td>\n",
              "      <td>0</td>\n",
              "      <td>0</td>\n",
              "      <td>1</td>\n",
              "      <td>0</td>\n",
              "      <td>0</td>\n",
              "      <td>0</td>\n",
              "      <td>0</td>\n",
              "      <td>0</td>\n",
              "      <td>0</td>\n",
              "      <td>0</td>\n",
              "      <td>0</td>\n",
              "      <td>0</td>\n",
              "      <td>1</td>\n",
              "      <td>0</td>\n",
              "      <td>1</td>\n",
              "      <td>0</td>\n",
              "      <td>0</td>\n",
              "      <td>1</td>\n",
              "      <td>0</td>\n",
              "      <td>0</td>\n",
              "      <td>1</td>\n",
              "      <td>0</td>\n",
              "      <td>0</td>\n",
              "      <td>1</td>\n",
              "      <td>0</td>\n",
              "      <td>0</td>\n",
              "      <td>1</td>\n",
              "      <td>0</td>\n",
              "      <td>0</td>\n",
              "      <td>1</td>\n",
              "      <td>0</td>\n",
              "      <td>0</td>\n",
              "      <td>77.0</td>\n",
              "      <td>2.26573</td>\n",
              "      <td>11.897055</td>\n",
              "      <td>8.852209</td>\n",
              "    </tr>\n",
              "    <tr>\n",
              "      <th>3</th>\n",
              "      <td>1</td>\n",
              "      <td>0</td>\n",
              "      <td>1</td>\n",
              "      <td>0</td>\n",
              "      <td>0</td>\n",
              "      <td>0</td>\n",
              "      <td>0</td>\n",
              "      <td>0</td>\n",
              "      <td>0</td>\n",
              "      <td>0</td>\n",
              "      <td>0</td>\n",
              "      <td>0</td>\n",
              "      <td>0</td>\n",
              "      <td>1</td>\n",
              "      <td>0</td>\n",
              "      <td>0</td>\n",
              "      <td>0</td>\n",
              "      <td>0</td>\n",
              "      <td>0</td>\n",
              "      <td>0</td>\n",
              "      <td>0</td>\n",
              "      <td>0</td>\n",
              "      <td>0</td>\n",
              "      <td>0</td>\n",
              "      <td>1</td>\n",
              "      <td>0</td>\n",
              "      <td>0</td>\n",
              "      <td>0</td>\n",
              "      <td>1</td>\n",
              "      <td>0</td>\n",
              "      <td>1</td>\n",
              "      <td>0</td>\n",
              "      <td>1</td>\n",
              "      <td>0</td>\n",
              "      <td>0</td>\n",
              "      <td>1</td>\n",
              "      <td>0</td>\n",
              "      <td>1</td>\n",
              "      <td>0</td>\n",
              "      <td>1</td>\n",
              "      <td>0</td>\n",
              "      <td>0</td>\n",
              "      <td>0</td>\n",
              "      <td>0</td>\n",
              "      <td>0</td>\n",
              "      <td>0</td>\n",
              "      <td>0</td>\n",
              "      <td>0</td>\n",
              "      <td>1</td>\n",
              "      <td>0</td>\n",
              "      <td>0</td>\n",
              "      <td>0</td>\n",
              "      <td>0</td>\n",
              "      <td>0</td>\n",
              "      <td>0</td>\n",
              "      <td>1</td>\n",
              "      <td>0</td>\n",
              "      <td>1</td>\n",
              "      <td>0</td>\n",
              "      <td>0</td>\n",
              "      <td>1</td>\n",
              "      <td>0</td>\n",
              "      <td>0</td>\n",
              "      <td>1</td>\n",
              "      <td>0</td>\n",
              "      <td>0</td>\n",
              "      <td>1</td>\n",
              "      <td>0</td>\n",
              "      <td>0</td>\n",
              "      <td>1</td>\n",
              "      <td>0</td>\n",
              "      <td>0</td>\n",
              "      <td>1</td>\n",
              "      <td>0</td>\n",
              "      <td>0</td>\n",
              "      <td>75.0</td>\n",
              "      <td>2.26573</td>\n",
              "      <td>11.897055</td>\n",
              "      <td>8.852209</td>\n",
              "    </tr>\n",
              "    <tr>\n",
              "      <th>4</th>\n",
              "      <td>1</td>\n",
              "      <td>0</td>\n",
              "      <td>0</td>\n",
              "      <td>1</td>\n",
              "      <td>0</td>\n",
              "      <td>0</td>\n",
              "      <td>0</td>\n",
              "      <td>0</td>\n",
              "      <td>0</td>\n",
              "      <td>0</td>\n",
              "      <td>0</td>\n",
              "      <td>0</td>\n",
              "      <td>0</td>\n",
              "      <td>1</td>\n",
              "      <td>0</td>\n",
              "      <td>0</td>\n",
              "      <td>0</td>\n",
              "      <td>0</td>\n",
              "      <td>0</td>\n",
              "      <td>0</td>\n",
              "      <td>0</td>\n",
              "      <td>0</td>\n",
              "      <td>0</td>\n",
              "      <td>0</td>\n",
              "      <td>1</td>\n",
              "      <td>0</td>\n",
              "      <td>0</td>\n",
              "      <td>0</td>\n",
              "      <td>1</td>\n",
              "      <td>0</td>\n",
              "      <td>0</td>\n",
              "      <td>1</td>\n",
              "      <td>0</td>\n",
              "      <td>1</td>\n",
              "      <td>1</td>\n",
              "      <td>0</td>\n",
              "      <td>1</td>\n",
              "      <td>0</td>\n",
              "      <td>1</td>\n",
              "      <td>0</td>\n",
              "      <td>0</td>\n",
              "      <td>0</td>\n",
              "      <td>0</td>\n",
              "      <td>0</td>\n",
              "      <td>0</td>\n",
              "      <td>0</td>\n",
              "      <td>0</td>\n",
              "      <td>1</td>\n",
              "      <td>0</td>\n",
              "      <td>0</td>\n",
              "      <td>0</td>\n",
              "      <td>0</td>\n",
              "      <td>0</td>\n",
              "      <td>0</td>\n",
              "      <td>0</td>\n",
              "      <td>1</td>\n",
              "      <td>0</td>\n",
              "      <td>0</td>\n",
              "      <td>1</td>\n",
              "      <td>0</td>\n",
              "      <td>1</td>\n",
              "      <td>0</td>\n",
              "      <td>0</td>\n",
              "      <td>1</td>\n",
              "      <td>0</td>\n",
              "      <td>0</td>\n",
              "      <td>0</td>\n",
              "      <td>1</td>\n",
              "      <td>0</td>\n",
              "      <td>0</td>\n",
              "      <td>1</td>\n",
              "      <td>0</td>\n",
              "      <td>0</td>\n",
              "      <td>1</td>\n",
              "      <td>1</td>\n",
              "      <td>79.0</td>\n",
              "      <td>1.00000</td>\n",
              "      <td>5.000000</td>\n",
              "      <td>5.000000</td>\n",
              "    </tr>\n",
              "    <tr>\n",
              "      <th>...</th>\n",
              "      <td>...</td>\n",
              "      <td>...</td>\n",
              "      <td>...</td>\n",
              "      <td>...</td>\n",
              "      <td>...</td>\n",
              "      <td>...</td>\n",
              "      <td>...</td>\n",
              "      <td>...</td>\n",
              "      <td>...</td>\n",
              "      <td>...</td>\n",
              "      <td>...</td>\n",
              "      <td>...</td>\n",
              "      <td>...</td>\n",
              "      <td>...</td>\n",
              "      <td>...</td>\n",
              "      <td>...</td>\n",
              "      <td>...</td>\n",
              "      <td>...</td>\n",
              "      <td>...</td>\n",
              "      <td>...</td>\n",
              "      <td>...</td>\n",
              "      <td>...</td>\n",
              "      <td>...</td>\n",
              "      <td>...</td>\n",
              "      <td>...</td>\n",
              "      <td>...</td>\n",
              "      <td>...</td>\n",
              "      <td>...</td>\n",
              "      <td>...</td>\n",
              "      <td>...</td>\n",
              "      <td>...</td>\n",
              "      <td>...</td>\n",
              "      <td>...</td>\n",
              "      <td>...</td>\n",
              "      <td>...</td>\n",
              "      <td>...</td>\n",
              "      <td>...</td>\n",
              "      <td>...</td>\n",
              "      <td>...</td>\n",
              "      <td>...</td>\n",
              "      <td>...</td>\n",
              "      <td>...</td>\n",
              "      <td>...</td>\n",
              "      <td>...</td>\n",
              "      <td>...</td>\n",
              "      <td>...</td>\n",
              "      <td>...</td>\n",
              "      <td>...</td>\n",
              "      <td>...</td>\n",
              "      <td>...</td>\n",
              "      <td>...</td>\n",
              "      <td>...</td>\n",
              "      <td>...</td>\n",
              "      <td>...</td>\n",
              "      <td>...</td>\n",
              "      <td>...</td>\n",
              "      <td>...</td>\n",
              "      <td>...</td>\n",
              "      <td>...</td>\n",
              "      <td>...</td>\n",
              "      <td>...</td>\n",
              "      <td>...</td>\n",
              "      <td>...</td>\n",
              "      <td>...</td>\n",
              "      <td>...</td>\n",
              "      <td>...</td>\n",
              "      <td>...</td>\n",
              "      <td>...</td>\n",
              "      <td>...</td>\n",
              "      <td>...</td>\n",
              "      <td>...</td>\n",
              "      <td>...</td>\n",
              "      <td>...</td>\n",
              "      <td>...</td>\n",
              "      <td>...</td>\n",
              "      <td>...</td>\n",
              "      <td>...</td>\n",
              "      <td>...</td>\n",
              "      <td>...</td>\n",
              "    </tr>\n",
              "    <tr>\n",
              "      <th>95</th>\n",
              "      <td>1</td>\n",
              "      <td>0</td>\n",
              "      <td>1</td>\n",
              "      <td>0</td>\n",
              "      <td>0</td>\n",
              "      <td>0</td>\n",
              "      <td>0</td>\n",
              "      <td>0</td>\n",
              "      <td>1</td>\n",
              "      <td>0</td>\n",
              "      <td>0</td>\n",
              "      <td>0</td>\n",
              "      <td>0</td>\n",
              "      <td>0</td>\n",
              "      <td>0</td>\n",
              "      <td>0</td>\n",
              "      <td>0</td>\n",
              "      <td>0</td>\n",
              "      <td>0</td>\n",
              "      <td>1</td>\n",
              "      <td>0</td>\n",
              "      <td>0</td>\n",
              "      <td>0</td>\n",
              "      <td>0</td>\n",
              "      <td>0</td>\n",
              "      <td>0</td>\n",
              "      <td>0</td>\n",
              "      <td>0</td>\n",
              "      <td>1</td>\n",
              "      <td>0</td>\n",
              "      <td>1</td>\n",
              "      <td>0</td>\n",
              "      <td>0</td>\n",
              "      <td>1</td>\n",
              "      <td>0</td>\n",
              "      <td>1</td>\n",
              "      <td>0</td>\n",
              "      <td>1</td>\n",
              "      <td>0</td>\n",
              "      <td>1</td>\n",
              "      <td>0</td>\n",
              "      <td>0</td>\n",
              "      <td>0</td>\n",
              "      <td>0</td>\n",
              "      <td>0</td>\n",
              "      <td>1</td>\n",
              "      <td>0</td>\n",
              "      <td>0</td>\n",
              "      <td>0</td>\n",
              "      <td>0</td>\n",
              "      <td>0</td>\n",
              "      <td>0</td>\n",
              "      <td>0</td>\n",
              "      <td>0</td>\n",
              "      <td>0</td>\n",
              "      <td>1</td>\n",
              "      <td>0</td>\n",
              "      <td>0</td>\n",
              "      <td>1</td>\n",
              "      <td>0</td>\n",
              "      <td>1</td>\n",
              "      <td>0</td>\n",
              "      <td>0</td>\n",
              "      <td>1</td>\n",
              "      <td>0</td>\n",
              "      <td>0</td>\n",
              "      <td>0</td>\n",
              "      <td>1</td>\n",
              "      <td>0</td>\n",
              "      <td>0</td>\n",
              "      <td>1</td>\n",
              "      <td>0</td>\n",
              "      <td>0</td>\n",
              "      <td>1</td>\n",
              "      <td>1</td>\n",
              "      <td>75.0</td>\n",
              "      <td>2.00000</td>\n",
              "      <td>10.000000</td>\n",
              "      <td>10.000000</td>\n",
              "    </tr>\n",
              "    <tr>\n",
              "      <th>96</th>\n",
              "      <td>1</td>\n",
              "      <td>0</td>\n",
              "      <td>1</td>\n",
              "      <td>0</td>\n",
              "      <td>0</td>\n",
              "      <td>0</td>\n",
              "      <td>0</td>\n",
              "      <td>0</td>\n",
              "      <td>0</td>\n",
              "      <td>0</td>\n",
              "      <td>0</td>\n",
              "      <td>0</td>\n",
              "      <td>0</td>\n",
              "      <td>1</td>\n",
              "      <td>0</td>\n",
              "      <td>0</td>\n",
              "      <td>0</td>\n",
              "      <td>0</td>\n",
              "      <td>0</td>\n",
              "      <td>0</td>\n",
              "      <td>0</td>\n",
              "      <td>0</td>\n",
              "      <td>0</td>\n",
              "      <td>0</td>\n",
              "      <td>1</td>\n",
              "      <td>0</td>\n",
              "      <td>0</td>\n",
              "      <td>0</td>\n",
              "      <td>1</td>\n",
              "      <td>0</td>\n",
              "      <td>1</td>\n",
              "      <td>0</td>\n",
              "      <td>0</td>\n",
              "      <td>1</td>\n",
              "      <td>1</td>\n",
              "      <td>0</td>\n",
              "      <td>1</td>\n",
              "      <td>0</td>\n",
              "      <td>1</td>\n",
              "      <td>0</td>\n",
              "      <td>0</td>\n",
              "      <td>0</td>\n",
              "      <td>0</td>\n",
              "      <td>0</td>\n",
              "      <td>0</td>\n",
              "      <td>0</td>\n",
              "      <td>0</td>\n",
              "      <td>1</td>\n",
              "      <td>0</td>\n",
              "      <td>0</td>\n",
              "      <td>0</td>\n",
              "      <td>0</td>\n",
              "      <td>0</td>\n",
              "      <td>0</td>\n",
              "      <td>0</td>\n",
              "      <td>1</td>\n",
              "      <td>0</td>\n",
              "      <td>1</td>\n",
              "      <td>0</td>\n",
              "      <td>0</td>\n",
              "      <td>0</td>\n",
              "      <td>1</td>\n",
              "      <td>0</td>\n",
              "      <td>1</td>\n",
              "      <td>0</td>\n",
              "      <td>0</td>\n",
              "      <td>0</td>\n",
              "      <td>1</td>\n",
              "      <td>0</td>\n",
              "      <td>0</td>\n",
              "      <td>1</td>\n",
              "      <td>0</td>\n",
              "      <td>0</td>\n",
              "      <td>1</td>\n",
              "      <td>1</td>\n",
              "      <td>80.0</td>\n",
              "      <td>2.00000</td>\n",
              "      <td>12.000000</td>\n",
              "      <td>10.000000</td>\n",
              "    </tr>\n",
              "    <tr>\n",
              "      <th>97</th>\n",
              "      <td>1</td>\n",
              "      <td>0</td>\n",
              "      <td>1</td>\n",
              "      <td>0</td>\n",
              "      <td>0</td>\n",
              "      <td>0</td>\n",
              "      <td>0</td>\n",
              "      <td>0</td>\n",
              "      <td>0</td>\n",
              "      <td>0</td>\n",
              "      <td>0</td>\n",
              "      <td>0</td>\n",
              "      <td>0</td>\n",
              "      <td>1</td>\n",
              "      <td>0</td>\n",
              "      <td>0</td>\n",
              "      <td>0</td>\n",
              "      <td>0</td>\n",
              "      <td>0</td>\n",
              "      <td>0</td>\n",
              "      <td>0</td>\n",
              "      <td>0</td>\n",
              "      <td>0</td>\n",
              "      <td>0</td>\n",
              "      <td>1</td>\n",
              "      <td>0</td>\n",
              "      <td>0</td>\n",
              "      <td>0</td>\n",
              "      <td>1</td>\n",
              "      <td>0</td>\n",
              "      <td>1</td>\n",
              "      <td>0</td>\n",
              "      <td>1</td>\n",
              "      <td>0</td>\n",
              "      <td>0</td>\n",
              "      <td>1</td>\n",
              "      <td>0</td>\n",
              "      <td>1</td>\n",
              "      <td>0</td>\n",
              "      <td>1</td>\n",
              "      <td>0</td>\n",
              "      <td>0</td>\n",
              "      <td>0</td>\n",
              "      <td>0</td>\n",
              "      <td>0</td>\n",
              "      <td>1</td>\n",
              "      <td>0</td>\n",
              "      <td>0</td>\n",
              "      <td>0</td>\n",
              "      <td>0</td>\n",
              "      <td>0</td>\n",
              "      <td>0</td>\n",
              "      <td>0</td>\n",
              "      <td>0</td>\n",
              "      <td>0</td>\n",
              "      <td>1</td>\n",
              "      <td>0</td>\n",
              "      <td>1</td>\n",
              "      <td>0</td>\n",
              "      <td>0</td>\n",
              "      <td>1</td>\n",
              "      <td>0</td>\n",
              "      <td>0</td>\n",
              "      <td>1</td>\n",
              "      <td>0</td>\n",
              "      <td>0</td>\n",
              "      <td>1</td>\n",
              "      <td>0</td>\n",
              "      <td>0</td>\n",
              "      <td>1</td>\n",
              "      <td>0</td>\n",
              "      <td>0</td>\n",
              "      <td>1</td>\n",
              "      <td>0</td>\n",
              "      <td>0</td>\n",
              "      <td>56.0</td>\n",
              "      <td>2.26573</td>\n",
              "      <td>11.897055</td>\n",
              "      <td>8.852209</td>\n",
              "    </tr>\n",
              "    <tr>\n",
              "      <th>98</th>\n",
              "      <td>1</td>\n",
              "      <td>0</td>\n",
              "      <td>1</td>\n",
              "      <td>0</td>\n",
              "      <td>0</td>\n",
              "      <td>0</td>\n",
              "      <td>0</td>\n",
              "      <td>0</td>\n",
              "      <td>1</td>\n",
              "      <td>0</td>\n",
              "      <td>0</td>\n",
              "      <td>0</td>\n",
              "      <td>0</td>\n",
              "      <td>0</td>\n",
              "      <td>0</td>\n",
              "      <td>0</td>\n",
              "      <td>0</td>\n",
              "      <td>0</td>\n",
              "      <td>0</td>\n",
              "      <td>1</td>\n",
              "      <td>0</td>\n",
              "      <td>0</td>\n",
              "      <td>0</td>\n",
              "      <td>0</td>\n",
              "      <td>0</td>\n",
              "      <td>0</td>\n",
              "      <td>0</td>\n",
              "      <td>0</td>\n",
              "      <td>1</td>\n",
              "      <td>0</td>\n",
              "      <td>1</td>\n",
              "      <td>0</td>\n",
              "      <td>1</td>\n",
              "      <td>0</td>\n",
              "      <td>0</td>\n",
              "      <td>1</td>\n",
              "      <td>0</td>\n",
              "      <td>1</td>\n",
              "      <td>0</td>\n",
              "      <td>1</td>\n",
              "      <td>0</td>\n",
              "      <td>1</td>\n",
              "      <td>0</td>\n",
              "      <td>0</td>\n",
              "      <td>0</td>\n",
              "      <td>0</td>\n",
              "      <td>0</td>\n",
              "      <td>0</td>\n",
              "      <td>0</td>\n",
              "      <td>0</td>\n",
              "      <td>0</td>\n",
              "      <td>0</td>\n",
              "      <td>0</td>\n",
              "      <td>0</td>\n",
              "      <td>0</td>\n",
              "      <td>1</td>\n",
              "      <td>0</td>\n",
              "      <td>1</td>\n",
              "      <td>0</td>\n",
              "      <td>0</td>\n",
              "      <td>1</td>\n",
              "      <td>0</td>\n",
              "      <td>0</td>\n",
              "      <td>1</td>\n",
              "      <td>0</td>\n",
              "      <td>0</td>\n",
              "      <td>0</td>\n",
              "      <td>1</td>\n",
              "      <td>0</td>\n",
              "      <td>0</td>\n",
              "      <td>1</td>\n",
              "      <td>0</td>\n",
              "      <td>0</td>\n",
              "      <td>1</td>\n",
              "      <td>1</td>\n",
              "      <td>66.0</td>\n",
              "      <td>1.00000</td>\n",
              "      <td>10.000000</td>\n",
              "      <td>5.000000</td>\n",
              "    </tr>\n",
              "    <tr>\n",
              "      <th>99</th>\n",
              "      <td>1</td>\n",
              "      <td>0</td>\n",
              "      <td>1</td>\n",
              "      <td>0</td>\n",
              "      <td>0</td>\n",
              "      <td>0</td>\n",
              "      <td>0</td>\n",
              "      <td>0</td>\n",
              "      <td>0</td>\n",
              "      <td>0</td>\n",
              "      <td>0</td>\n",
              "      <td>0</td>\n",
              "      <td>0</td>\n",
              "      <td>1</td>\n",
              "      <td>0</td>\n",
              "      <td>0</td>\n",
              "      <td>0</td>\n",
              "      <td>0</td>\n",
              "      <td>0</td>\n",
              "      <td>0</td>\n",
              "      <td>0</td>\n",
              "      <td>0</td>\n",
              "      <td>0</td>\n",
              "      <td>0</td>\n",
              "      <td>1</td>\n",
              "      <td>0</td>\n",
              "      <td>0</td>\n",
              "      <td>0</td>\n",
              "      <td>1</td>\n",
              "      <td>0</td>\n",
              "      <td>1</td>\n",
              "      <td>0</td>\n",
              "      <td>1</td>\n",
              "      <td>0</td>\n",
              "      <td>0</td>\n",
              "      <td>1</td>\n",
              "      <td>0</td>\n",
              "      <td>1</td>\n",
              "      <td>0</td>\n",
              "      <td>1</td>\n",
              "      <td>0</td>\n",
              "      <td>0</td>\n",
              "      <td>0</td>\n",
              "      <td>0</td>\n",
              "      <td>0</td>\n",
              "      <td>0</td>\n",
              "      <td>0</td>\n",
              "      <td>0</td>\n",
              "      <td>0</td>\n",
              "      <td>0</td>\n",
              "      <td>0</td>\n",
              "      <td>1</td>\n",
              "      <td>0</td>\n",
              "      <td>0</td>\n",
              "      <td>0</td>\n",
              "      <td>1</td>\n",
              "      <td>0</td>\n",
              "      <td>1</td>\n",
              "      <td>0</td>\n",
              "      <td>0</td>\n",
              "      <td>1</td>\n",
              "      <td>0</td>\n",
              "      <td>0</td>\n",
              "      <td>1</td>\n",
              "      <td>0</td>\n",
              "      <td>0</td>\n",
              "      <td>1</td>\n",
              "      <td>0</td>\n",
              "      <td>0</td>\n",
              "      <td>1</td>\n",
              "      <td>0</td>\n",
              "      <td>0</td>\n",
              "      <td>1</td>\n",
              "      <td>0</td>\n",
              "      <td>0</td>\n",
              "      <td>64.0</td>\n",
              "      <td>2.26573</td>\n",
              "      <td>11.897055</td>\n",
              "      <td>8.852209</td>\n",
              "    </tr>\n",
              "  </tbody>\n",
              "</table>\n",
              "<p>100 rows × 79 columns</p>\n",
              "</div>"
            ],
            "text/plain": [
              "    smoke_False  smoke_True  drink_False  ...  fitspatrick  diameter_1  diameter_2\n",
              "0             1           0            1  ...      2.26573   11.897055    8.852209\n",
              "1             1           0            1  ...      3.00000    6.000000    5.000000\n",
              "2             1           0            1  ...      2.26573   11.897055    8.852209\n",
              "3             1           0            1  ...      2.26573   11.897055    8.852209\n",
              "4             1           0            0  ...      1.00000    5.000000    5.000000\n",
              "..          ...         ...          ...  ...          ...         ...         ...\n",
              "95            1           0            1  ...      2.00000   10.000000   10.000000\n",
              "96            1           0            1  ...      2.00000   12.000000   10.000000\n",
              "97            1           0            1  ...      2.26573   11.897055    8.852209\n",
              "98            1           0            1  ...      1.00000   10.000000    5.000000\n",
              "99            1           0            1  ...      2.26573   11.897055    8.852209\n",
              "\n",
              "[100 rows x 79 columns]"
            ]
          },
          "metadata": {},
          "execution_count": 25
        }
      ]
    },
    {
      "cell_type": "code",
      "metadata": {
        "colab": {
          "base_uri": "https://localhost:8080/"
        },
        "id": "yoiYU-bF8kMc",
        "outputId": "28ad74de-ab90-43b6-cbaa-bd7dc5115f09"
      },
      "source": [
        "### no NAN values\n",
        "metaData_le.info()"
      ],
      "execution_count": 26,
      "outputs": [
        {
          "output_type": "stream",
          "name": "stdout",
          "text": [
            "<class 'pandas.core.frame.DataFrame'>\n",
            "RangeIndex: 2298 entries, 0 to 2297\n",
            "Data columns (total 79 columns):\n",
            " #   Column                         Non-Null Count  Dtype  \n",
            "---  ------                         --------------  -----  \n",
            " 0   smoke_False                    2298 non-null   uint8  \n",
            " 1   smoke_True                     2298 non-null   uint8  \n",
            " 2   drink_False                    2298 non-null   uint8  \n",
            " 3   drink_True                     2298 non-null   uint8  \n",
            " 4   background_father_AUSTRIA      2298 non-null   uint8  \n",
            " 5   background_father_BRASIL       2298 non-null   uint8  \n",
            " 6   background_father_BRAZIL       2298 non-null   uint8  \n",
            " 7   background_father_CZECH        2298 non-null   uint8  \n",
            " 8   background_father_GERMANY      2298 non-null   uint8  \n",
            " 9   background_father_ISRAEL       2298 non-null   uint8  \n",
            " 10  background_father_ITALY        2298 non-null   uint8  \n",
            " 11  background_father_NETHERLANDS  2298 non-null   uint8  \n",
            " 12  background_father_POLAND       2298 non-null   uint8  \n",
            " 13  background_father_POMERANIA    2298 non-null   uint8  \n",
            " 14  background_father_PORTUGAL     2298 non-null   uint8  \n",
            " 15  background_father_SPAIN        2298 non-null   uint8  \n",
            " 16  background_father_UNK          2298 non-null   uint8  \n",
            " 17  background_mother_BRAZIL       2298 non-null   uint8  \n",
            " 18  background_mother_FRANCE       2298 non-null   uint8  \n",
            " 19  background_mother_GERMANY      2298 non-null   uint8  \n",
            " 20  background_mother_ITALY        2298 non-null   uint8  \n",
            " 21  background_mother_NETHERLANDS  2298 non-null   uint8  \n",
            " 22  background_mother_NORWAY       2298 non-null   uint8  \n",
            " 23  background_mother_POLAND       2298 non-null   uint8  \n",
            " 24  background_mother_POMERANIA    2298 non-null   uint8  \n",
            " 25  background_mother_PORTUGAL     2298 non-null   uint8  \n",
            " 26  background_mother_SPAIN        2298 non-null   uint8  \n",
            " 27  background_mother_UNK          2298 non-null   uint8  \n",
            " 28  pesticide_False                2298 non-null   uint8  \n",
            " 29  pesticide_True                 2298 non-null   uint8  \n",
            " 30  gender_FEMALE                  2298 non-null   uint8  \n",
            " 31  gender_MALE                    2298 non-null   uint8  \n",
            " 32  skin_cancer_history_False      2298 non-null   uint8  \n",
            " 33  skin_cancer_history_True       2298 non-null   uint8  \n",
            " 34  cancer_history_False           2298 non-null   uint8  \n",
            " 35  cancer_history_True            2298 non-null   uint8  \n",
            " 36  has_piped_water_False          2298 non-null   uint8  \n",
            " 37  has_piped_water_True           2298 non-null   uint8  \n",
            " 38  has_sewage_system_False        2298 non-null   uint8  \n",
            " 39  has_sewage_system_True         2298 non-null   uint8  \n",
            " 40  region_ABDOMEN                 2298 non-null   uint8  \n",
            " 41  region_ARM                     2298 non-null   uint8  \n",
            " 42  region_BACK                    2298 non-null   uint8  \n",
            " 43  region_CHEST                   2298 non-null   uint8  \n",
            " 44  region_EAR                     2298 non-null   uint8  \n",
            " 45  region_FACE                    2298 non-null   uint8  \n",
            " 46  region_FOOT                    2298 non-null   uint8  \n",
            " 47  region_FOREARM                 2298 non-null   uint8  \n",
            " 48  region_HAND                    2298 non-null   uint8  \n",
            " 49  region_LIP                     2298 non-null   uint8  \n",
            " 50  region_NECK                    2298 non-null   uint8  \n",
            " 51  region_NOSE                    2298 non-null   uint8  \n",
            " 52  region_SCALP                   2298 non-null   uint8  \n",
            " 53  region_THIGH                   2298 non-null   uint8  \n",
            " 54  itch_False                     2298 non-null   uint8  \n",
            " 55  itch_True                      2298 non-null   uint8  \n",
            " 56  itch_UNK                       2298 non-null   uint8  \n",
            " 57  grew_False                     2298 non-null   uint8  \n",
            " 58  grew_True                      2298 non-null   uint8  \n",
            " 59  grew_UNK                       2298 non-null   uint8  \n",
            " 60  hurt_False                     2298 non-null   uint8  \n",
            " 61  hurt_True                      2298 non-null   uint8  \n",
            " 62  hurt_UNK                       2298 non-null   uint8  \n",
            " 63  changed_False                  2298 non-null   uint8  \n",
            " 64  changed_True                   2298 non-null   uint8  \n",
            " 65  changed_UNK                    2298 non-null   uint8  \n",
            " 66  bleed_False                    2298 non-null   uint8  \n",
            " 67  bleed_True                     2298 non-null   uint8  \n",
            " 68  bleed_UNK                      2298 non-null   uint8  \n",
            " 69  elevation_False                2298 non-null   uint8  \n",
            " 70  elevation_True                 2298 non-null   uint8  \n",
            " 71  elevation_UNK                  2298 non-null   uint8  \n",
            " 72  biopsed_False                  2298 non-null   uint8  \n",
            " 73  biopsed_True                   2298 non-null   uint8  \n",
            " 74  target                         2298 non-null   int64  \n",
            " 75  age                            2298 non-null   float64\n",
            " 76  fitspatrick                    2298 non-null   float64\n",
            " 77  diameter_1                     2298 non-null   float64\n",
            " 78  diameter_2                     2298 non-null   float64\n",
            "dtypes: float64(4), int64(1), uint8(74)\n",
            "memory usage: 256.0 KB\n"
          ]
        }
      ]
    },
    {
      "cell_type": "code",
      "metadata": {
        "colab": {
          "base_uri": "https://localhost:8080/"
        },
        "id": "O2S5NBHZpsu1",
        "outputId": "9d3cc933-db9b-44df-e2cc-1b2fb4d45c3c"
      },
      "source": [
        "metaData_le.shape"
      ],
      "execution_count": 27,
      "outputs": [
        {
          "output_type": "execute_result",
          "data": {
            "text/plain": [
              "(2298, 79)"
            ]
          },
          "metadata": {},
          "execution_count": 27
        }
      ]
    },
    {
      "cell_type": "code",
      "metadata": {
        "colab": {
          "base_uri": "https://localhost:8080/"
        },
        "id": "5SPETham95di",
        "outputId": "f6609c58-f00a-479a-ac48-f9f122703051"
      },
      "source": [
        "# Normalize data\n",
        "from sklearn.preprocessing import StandardScaler\n",
        "\n",
        "# define standard scaler\n",
        "scaler = StandardScaler()\n",
        "# transform data\n",
        "scaled = scaler.fit_transform(metaData_le)\n",
        "print(metaData_le)"
      ],
      "execution_count": 28,
      "outputs": [
        {
          "output_type": "stream",
          "name": "stdout",
          "text": [
            "      smoke_False  smoke_True  drink_False  ...  fitspatrick  diameter_1  diameter_2\n",
            "0               1           0            1  ...      2.26573   11.897055    8.852209\n",
            "1               1           0            1  ...      3.00000    6.000000    5.000000\n",
            "2               1           0            1  ...      2.26573   11.897055    8.852209\n",
            "3               1           0            1  ...      2.26573   11.897055    8.852209\n",
            "4               1           0            0  ...      1.00000    5.000000    5.000000\n",
            "...           ...         ...          ...  ...          ...         ...         ...\n",
            "2293            1           0            1  ...      2.26573   11.897055    8.852209\n",
            "2294            1           0            1  ...      3.00000   13.000000   12.000000\n",
            "2295            1           0            1  ...      2.26573   11.897055    8.852209\n",
            "2296            1           0            1  ...      3.00000    5.000000    4.000000\n",
            "2297            1           0            1  ...      2.26573   11.897055    8.852209\n",
            "\n",
            "[2298 rows x 79 columns]\n"
          ]
        }
      ]
    },
    {
      "cell_type": "code",
      "metadata": {
        "id": "hfUC7EQxVq8e"
      },
      "source": [
        "X = metaData_le.drop(columns=['target'])\n",
        "Y = metaData_le[['target']]\n"
      ],
      "execution_count": 29,
      "outputs": []
    },
    {
      "cell_type": "code",
      "metadata": {
        "id": "L0jNCJLIID2U"
      },
      "source": [
        "#split dataset into train and test\n",
        "from sklearn.model_selection import train_test_split\n",
        "X_train, X_test, Y_train, Y_test = train_test_split(X, Y, test_size = 0.2)"
      ],
      "execution_count": 30,
      "outputs": []
    },
    {
      "cell_type": "code",
      "metadata": {
        "id": "_RTn-cUEMlHX"
      },
      "source": [
        "from sklearn.linear_model import SGDClassifier \n",
        "from sklearn.ensemble import  RandomForestClassifier\n",
        "from sklearn.metrics import confusion_matrix, classification_report, accuracy_score\n",
        "from sklearn.preprocessing import scale"
      ],
      "execution_count": 31,
      "outputs": []
    },
    {
      "cell_type": "code",
      "metadata": {
        "colab": {
          "base_uri": "https://localhost:8080/"
        },
        "id": "jAwdMdCGOqXD",
        "outputId": "72508cec-1684-43f0-c0a7-16914b18f58e"
      },
      "source": [
        "sgd_clf = SGDClassifier()\n",
        "sgd_clf.fit(X_train, Y_train.values.ravel())"
      ],
      "execution_count": 32,
      "outputs": [
        {
          "output_type": "execute_result",
          "data": {
            "text/plain": [
              "SGDClassifier(alpha=0.0001, average=False, class_weight=None,\n",
              "              early_stopping=False, epsilon=0.1, eta0=0.0, fit_intercept=True,\n",
              "              l1_ratio=0.15, learning_rate='optimal', loss='hinge',\n",
              "              max_iter=1000, n_iter_no_change=5, n_jobs=None, penalty='l2',\n",
              "              power_t=0.5, random_state=None, shuffle=True, tol=0.001,\n",
              "              validation_fraction=0.1, verbose=0, warm_start=False)"
            ]
          },
          "metadata": {},
          "execution_count": 32
        }
      ]
    },
    {
      "cell_type": "code",
      "metadata": {
        "colab": {
          "base_uri": "https://localhost:8080/"
        },
        "id": "E8xxjpppPZ3B",
        "outputId": "60dc722c-069a-458d-ad46-f563640907bf"
      },
      "source": [
        "score = sgd_clf.score(X_test, Y_test)\n",
        "print(\"Test score: \", score) \n",
        "score = sgd_clf.score(X_train, Y_train)\n",
        "print(\"Training score: \", score) "
      ],
      "execution_count": 33,
      "outputs": [
        {
          "output_type": "stream",
          "name": "stdout",
          "text": [
            "Test score:  0.7304347826086957\n",
            "Training score:  0.7127312295973884\n"
          ]
        }
      ]
    },
    {
      "cell_type": "code",
      "metadata": {
        "colab": {
          "base_uri": "https://localhost:8080/"
        },
        "id": "TRRH2kH-Piv7",
        "outputId": "d4253a3d-5467-4e78-8cd3-0484a287213b"
      },
      "source": [
        "Y_pred = sgd_clf.predict(X_test)\n",
        "y_unique = Y_test['target'].unique()\n",
        "cm = confusion_matrix(Y_test, Y_pred)\n",
        "print(cm)\n",
        "# cm = multilabel_confusion_matrix(Y_test, Y_pred, labels = y_unique)\n",
        "# cm"
      ],
      "execution_count": 34,
      "outputs": [
        {
          "output_type": "stream",
          "name": "stdout",
          "text": [
            "[[112  28   0  10   1   1]\n",
            " [  0 162   0   0   0   0]\n",
            " [  0  14   0   1   0   0]\n",
            " [  1   6   0  49   0   0]\n",
            " [  1  26   0   1   0   0]\n",
            " [ 12   5   0  17   0  13]]\n"
          ]
        }
      ]
    },
    {
      "cell_type": "code",
      "metadata": {
        "colab": {
          "base_uri": "https://localhost:8080/"
        },
        "id": "uTt80PkKevBY",
        "outputId": "3f7767eb-21c7-4de9-c71f-d7dba31fff01"
      },
      "source": [
        "le.classes_"
      ],
      "execution_count": 35,
      "outputs": [
        {
          "output_type": "execute_result",
          "data": {
            "text/plain": [
              "array(['ACK', 'BCC', 'MEL', 'NEV', 'SCC', 'SEK'], dtype=object)"
            ]
          },
          "metadata": {},
          "execution_count": 35
        }
      ]
    },
    {
      "cell_type": "code",
      "metadata": {
        "colab": {
          "base_uri": "https://localhost:8080/"
        },
        "id": "lJ-67Y5l-not",
        "outputId": "4469a355-4700-42cf-ad1f-6936e530d4b1"
      },
      "source": [
        "from sklearn.metrics import multilabel_confusion_matrix\n",
        "\n",
        "mcm = multilabel_confusion_matrix(Y_test, Y_pred, labels = y_unique)\n",
        "mcm\n"
      ],
      "execution_count": 36,
      "outputs": [
        {
          "output_type": "execute_result",
          "data": {
            "text/plain": [
              "array([[[445,   0],\n",
              "        [ 15,   0]],\n",
              "\n",
              "       [[219,  79],\n",
              "        [  0, 162]],\n",
              "\n",
              "       [[375,  29],\n",
              "        [  7,  49]],\n",
              "\n",
              "       [[294,  14],\n",
              "        [ 40, 112]],\n",
              "\n",
              "       [[412,   1],\n",
              "        [ 34,  13]],\n",
              "\n",
              "       [[431,   1],\n",
              "        [ 28,   0]]])"
            ]
          },
          "metadata": {},
          "execution_count": 36
        }
      ]
    },
    {
      "cell_type": "code",
      "metadata": {
        "id": "0rrFPQSWMlYb"
      },
      "source": [
        ""
      ],
      "execution_count": 36,
      "outputs": []
    },
    {
      "cell_type": "code",
      "metadata": {
        "colab": {
          "base_uri": "https://localhost:8080/"
        },
        "id": "ojA8XChyQByE",
        "outputId": "c62133e6-bbbd-46a9-8ee4-2892d228d745"
      },
      "source": [
        "cr = classification_report(Y_test, Y_pred)\n",
        "print(cr)"
      ],
      "execution_count": 37,
      "outputs": [
        {
          "output_type": "stream",
          "name": "stdout",
          "text": [
            "              precision    recall  f1-score   support\n",
            "\n",
            "           0       0.89      0.74      0.81       152\n",
            "           1       0.67      1.00      0.80       162\n",
            "           2       0.00      0.00      0.00        15\n",
            "           3       0.63      0.88      0.73        56\n",
            "           4       0.00      0.00      0.00        28\n",
            "           5       0.93      0.28      0.43        47\n",
            "\n",
            "    accuracy                           0.73       460\n",
            "   macro avg       0.52      0.48      0.46       460\n",
            "weighted avg       0.70      0.73      0.68       460\n",
            "\n"
          ]
        },
        {
          "output_type": "stream",
          "name": "stderr",
          "text": [
            "/usr/local/lib/python3.7/dist-packages/sklearn/metrics/_classification.py:1272: UndefinedMetricWarning: Precision and F-score are ill-defined and being set to 0.0 in labels with no predicted samples. Use `zero_division` parameter to control this behavior.\n",
            "  _warn_prf(average, modifier, msg_start, len(result))\n"
          ]
        }
      ]
    },
    {
      "cell_type": "code",
      "metadata": {
        "id": "x5Q8jhtHYc63"
      },
      "source": [
        "from sklearn.multiclass import OneVsOneClassifier, OneVsRestClassifier\n",
        "ovo_clf = OneVsOneClassifier(SGDClassifier())\n",
        "ovr_clf = OneVsRestClassifier(SGDClassifier())"
      ],
      "execution_count": 38,
      "outputs": []
    },
    {
      "cell_type": "code",
      "metadata": {
        "id": "BqxU5E2_ZQFr"
      },
      "source": [
        "ovo_clf.fit(X_train, Y_train.values.ravel())\n",
        "ovo_pred=ovo_clf.predict(X_test)"
      ],
      "execution_count": 39,
      "outputs": []
    },
    {
      "cell_type": "code",
      "metadata": {
        "colab": {
          "base_uri": "https://localhost:8080/"
        },
        "id": "aht4yWQg4RAd",
        "outputId": "fca23057-8b0f-42c1-b3cc-3e1ac389cba9"
      },
      "source": [
        "OVO_score = ovo_clf.score(X_test, Y_test)\n",
        "print(\"Test score: \", OVO_score) "
      ],
      "execution_count": 40,
      "outputs": [
        {
          "output_type": "stream",
          "name": "stdout",
          "text": [
            "Test score:  0.6086956521739131\n"
          ]
        }
      ]
    },
    {
      "cell_type": "code",
      "metadata": {
        "colab": {
          "base_uri": "https://localhost:8080/"
        },
        "id": "GV0FCoqyZvSI",
        "outputId": "68bf1ff2-6ae5-4c52-ea39-1bdddec9fad0"
      },
      "source": [
        "cr = classification_report(Y_test, ovo_pred)\n",
        "print(cr)"
      ],
      "execution_count": 41,
      "outputs": [
        {
          "output_type": "stream",
          "name": "stdout",
          "text": [
            "              precision    recall  f1-score   support\n",
            "\n",
            "           0       0.93      0.46      0.62       152\n",
            "           1       0.75      0.75      0.75       162\n",
            "           2       1.00      0.27      0.42        15\n",
            "           3       1.00      0.54      0.70        56\n",
            "           4       0.17      0.46      0.25        28\n",
            "           5       0.38      0.89      0.53        47\n",
            "\n",
            "    accuracy                           0.61       460\n",
            "   macro avg       0.70      0.56      0.54       460\n",
            "weighted avg       0.77      0.61      0.63       460\n",
            "\n"
          ]
        }
      ]
    },
    {
      "cell_type": "code",
      "metadata": {
        "colab": {
          "base_uri": "https://localhost:8080/"
        },
        "id": "b3fwmTPG5hO4",
        "outputId": "749fee19-45e5-41f2-880d-202dab256355"
      },
      "source": [
        "rf_clf = RandomForestClassifier()\n",
        "rf_clf.fit(X_train,Y_train)"
      ],
      "execution_count": 42,
      "outputs": [
        {
          "output_type": "stream",
          "name": "stderr",
          "text": [
            "/usr/local/lib/python3.7/dist-packages/ipykernel_launcher.py:2: DataConversionWarning: A column-vector y was passed when a 1d array was expected. Please change the shape of y to (n_samples,), for example using ravel().\n",
            "  \n"
          ]
        },
        {
          "output_type": "execute_result",
          "data": {
            "text/plain": [
              "RandomForestClassifier(bootstrap=True, ccp_alpha=0.0, class_weight=None,\n",
              "                       criterion='gini', max_depth=None, max_features='auto',\n",
              "                       max_leaf_nodes=None, max_samples=None,\n",
              "                       min_impurity_decrease=0.0, min_impurity_split=None,\n",
              "                       min_samples_leaf=1, min_samples_split=2,\n",
              "                       min_weight_fraction_leaf=0.0, n_estimators=100,\n",
              "                       n_jobs=None, oob_score=False, random_state=None,\n",
              "                       verbose=0, warm_start=False)"
            ]
          },
          "metadata": {},
          "execution_count": 42
        }
      ]
    },
    {
      "cell_type": "code",
      "metadata": {
        "id": "PNQm7CTp5hEb"
      },
      "source": [
        "Y_pred_rf=rf_clf.predict_proba(X_test)"
      ],
      "execution_count": 43,
      "outputs": []
    },
    {
      "cell_type": "code",
      "metadata": {
        "colab": {
          "base_uri": "https://localhost:8080/"
        },
        "id": "39LQQlWL5g3v",
        "outputId": "816b99f7-0481-4123-a733-2c87ade1d6a1"
      },
      "source": [
        "rf_trainScore=rf_clf.score(X_train,Y_train)\n",
        "print('rf_trainscore is :',rf_trainScore)\n",
        "rf_testScore=rf_clf.score(X_test,Y_test)\n",
        "print('rf_testscore is :',rf_testScore)"
      ],
      "execution_count": 44,
      "outputs": [
        {
          "output_type": "stream",
          "name": "stdout",
          "text": [
            "rf_trainscore is : 0.9951033732317737\n",
            "rf_testscore is : 0.8478260869565217\n"
          ]
        }
      ]
    },
    {
      "cell_type": "code",
      "metadata": {
        "id": "sRYESA0yj3uN"
      },
      "source": [
        "# from sklearn.metrics import roc_curve, auc\n",
        "# from sklearn.metrics import confusion_matrix\n",
        "# fpr, tpr, thresholds = roc_curve(Y_test, Y_pred_rf,)\n",
        "\n",
        "# lw=2\n",
        "# plt.plot([0, 1], [0, 1], color='navy', lw=lw, linestyle='--')\n",
        "# plt.plot(fpr,tpr,format('red'))\n",
        "# plt.xlim([0.0,1.0])\n",
        "# plt.ylim([0.0,1.0])\n",
        "\n",
        "# plt.title(\"ROC Skin Cancer classification \")\n",
        "# plt.xlabel(\"False Positive\")\n",
        "# plt.ylabel(\"True Positive\")\n",
        "\n",
        "# plt.legend(target,loc=\"lower right\")\n",
        "# plt.grid(True)\n",
        "# plt.show()"
      ],
      "execution_count": 45,
      "outputs": []
    },
    {
      "cell_type": "code",
      "metadata": {
        "id": "Jl32YEWIC3eM"
      },
      "source": [
        "feature_names= X.columns"
      ],
      "execution_count": 54,
      "outputs": []
    },
    {
      "cell_type": "code",
      "metadata": {
        "colab": {
          "base_uri": "https://localhost:8080/",
          "height": 516
        },
        "id": "Z5b-Bm292IL-",
        "outputId": "c1d12ebb-0b76-469e-ede5-2f5db6622e94"
      },
      "source": [
        "feat_importances = pd.Series(rf_clf.feature_importances_, index=feature_names)\n",
        "feat_importances.nlargest(24).plot(kind='barh',title='Random Forest Feature Importance',color='purple',figsize=(10, 8))"
      ],
      "execution_count": 55,
      "outputs": [
        {
          "output_type": "execute_result",
          "data": {
            "text/plain": [
              "<matplotlib.axes._subplots.AxesSubplot at 0x7f34aa6b44d0>"
            ]
          },
          "metadata": {},
          "execution_count": 55
        },
        {
          "output_type": "display_data",
          "data": {
            "image/png": "[encoded data removed]",
            "text/plain": [
              "<Figure size 720x576 with 1 Axes>"
            ]
          },
          "metadata": {
            "needs_background": "light"
          }
        }
      ]
    },
    {
      "cell_type": "code",
      "metadata": {
        "id": "inWaqw6n9TBl",
        "colab": {
          "base_uri": "https://localhost:8080/"
        },
        "outputId": "b633fdfc-dd0d-4ebd-fadb-7bd2145a619f"
      },
      "source": [
        "from sklearn.model_selection import cross_val_score\n",
        "cross_val_score(sgd_clf,X_train,Y_train, cv=3,scoring='accuracy')"
      ],
      "execution_count": 49,
      "outputs": [
        {
          "output_type": "stream",
          "name": "stderr",
          "text": [
            "/usr/local/lib/python3.7/dist-packages/sklearn/utils/validation.py:760: DataConversionWarning: A column-vector y was passed when a 1d array was expected. Please change the shape of y to (n_samples, ), for example using ravel().\n",
            "  y = column_or_1d(y, warn=True)\n",
            "/usr/local/lib/python3.7/dist-packages/sklearn/utils/validation.py:760: DataConversionWarning: A column-vector y was passed when a 1d array was expected. Please change the shape of y to (n_samples, ), for example using ravel().\n",
            "  y = column_or_1d(y, warn=True)\n",
            "/usr/local/lib/python3.7/dist-packages/sklearn/utils/validation.py:760: DataConversionWarning: A column-vector y was passed when a 1d array was expected. Please change the shape of y to (n_samples, ), for example using ravel().\n",
            "  y = column_or_1d(y, warn=True)\n"
          ]
        },
        {
          "output_type": "execute_result",
          "data": {
            "text/plain": [
              "array([0.65579119, 0.69004894, 0.67156863])"
            ]
          },
          "metadata": {},
          "execution_count": 49
        }
      ]
    },
    {
      "cell_type": "code",
      "metadata": {
        "id": "j7qlB7tL9Szi",
        "colab": {
          "base_uri": "https://localhost:8080/"
        },
        "outputId": "d548f937-21fa-4ebf-c867-0ad1133b5caf"
      },
      "source": [
        "from sklearn.preprocessing import  StandardScaler\n",
        "scaler = StandardScaler()\n",
        "x_trainScale = scaler.fit_transform(X_train.astype(np.float64))\n",
        "cross_val_score(sgd_clf,x_trainScale,Y_train, cv=3 ,scoring='accuracy')"
      ],
      "execution_count": 50,
      "outputs": [
        {
          "output_type": "stream",
          "name": "stderr",
          "text": [
            "/usr/local/lib/python3.7/dist-packages/sklearn/utils/validation.py:760: DataConversionWarning: A column-vector y was passed when a 1d array was expected. Please change the shape of y to (n_samples, ), for example using ravel().\n",
            "  y = column_or_1d(y, warn=True)\n",
            "/usr/local/lib/python3.7/dist-packages/sklearn/utils/validation.py:760: DataConversionWarning: A column-vector y was passed when a 1d array was expected. Please change the shape of y to (n_samples, ), for example using ravel().\n",
            "  y = column_or_1d(y, warn=True)\n",
            "/usr/local/lib/python3.7/dist-packages/sklearn/utils/validation.py:760: DataConversionWarning: A column-vector y was passed when a 1d array was expected. Please change the shape of y to (n_samples, ), for example using ravel().\n",
            "  y = column_or_1d(y, warn=True)\n"
          ]
        },
        {
          "output_type": "execute_result",
          "data": {
            "text/plain": [
              "array([0.71125612, 0.72430669, 0.71895425])"
            ]
          },
          "metadata": {},
          "execution_count": 50
        }
      ]
    },
    {
      "cell_type": "code",
      "metadata": {
        "id": "xG7c_CREr0fH",
        "colab": {
          "base_uri": "https://localhost:8080/"
        },
        "outputId": "b9533723-30b3-4f01-e21e-0563baf82f9d"
      },
      "source": [
        "# K – Nearest Neighbor Classifier\n",
        "from sklearn.neighbors import KNeighborsClassifier\n",
        "knn_classifier = KNeighborsClassifier(n_neighbors = 5, metric = 'minkowski', p = 2)\n",
        "knn_classifier.fit(X_train, Y_train)\n",
        "y_pred_knn = knn_classifier.predict(X_test)\n",
        "accuracy_score(Y_test, y_pred_knn)"
      ],
      "execution_count": 51,
      "outputs": [
        {
          "output_type": "stream",
          "name": "stderr",
          "text": [
            "/usr/local/lib/python3.7/dist-packages/ipykernel_launcher.py:4: DataConversionWarning: A column-vector y was passed when a 1d array was expected. Please change the shape of y to (n_samples, ), for example using ravel().\n",
            "  after removing the cwd from sys.path.\n"
          ]
        },
        {
          "output_type": "execute_result",
          "data": {
            "text/plain": [
              "0.691304347826087"
            ]
          },
          "metadata": {},
          "execution_count": 51
        }
      ]
    },
    {
      "cell_type": "code",
      "metadata": {
        "colab": {
          "base_uri": "https://localhost:8080/"
        },
        "id": "UMXTJLwdKK8c",
        "outputId": "f47c9f99-dda5-40e6-e302-29e782286017"
      },
      "source": [
        "# decision tree classification problem\n",
        "from sklearn.tree import DecisionTreeClassifier\n",
        "from matplotlib import pyplot\n",
        "\n",
        "# define the model\n",
        "dt_clf = DecisionTreeClassifier()\n",
        "# fit the model\n",
        "dt_clf.fit(X_train, Y_train)\n",
        "dt_Testscore=dt_clf.score(X_train,Y_train)\n",
        "dt_Trainscore=dt_clf.score(X_test,Y_test)\n",
        "print('DT test score',dt_Trainscore)\n",
        "print('DT test score',dt_Testscore)"
      ],
      "execution_count": 52,
      "outputs": [
        {
          "output_type": "stream",
          "name": "stdout",
          "text": [
            "DT test score 0.7652173913043478\n",
            "DT test score 0.9951033732317737\n"
          ]
        }
      ]
    },
    {
      "cell_type": "code",
      "metadata": {
        "colab": {
          "base_uri": "https://localhost:8080/",
          "height": 516
        },
        "id": "zdffhUBsi1ZN",
        "outputId": "068b5dda-9e9c-4647-b5f1-14cdb3154819"
      },
      "source": [
        "\n",
        "\n",
        "# get importance\n",
        "importance = dt_clf.feature_importances_\n",
        "# summarize feature importance\n",
        "feature_importances = pd.Series(dt_clf.feature_importances_ , index=feature_names)\n",
        "feature_importances.nlargest(20).plot(kind='barh',title='Decision Tree Feature Importance',color='purple',figsize=(10, 8))"
      ],
      "execution_count": 56,
      "outputs": [
        {
          "output_type": "execute_result",
          "data": {
            "text/plain": [
              "<matplotlib.axes._subplots.AxesSubplot at 0x7f34aa5ce8d0>"
            ]
          },
          "metadata": {},
          "execution_count": 56
        },
        {
          "output_type": "display_data",
          "data": {
            "image/png": "[encoded data removed]",
            "text/plain": [
              "<Figure size 720x576 with 1 Axes>"
            ]
          },
          "metadata": {
            "needs_background": "light"
          }
        }
      ]
    },
    {
      "cell_type": "code",
      "metadata": {
        "colab": {
          "base_uri": "https://localhost:8080/"
        },
        "id": "NFOV2YdDA5ME",
        "outputId": "887a1c1d-8fb1-4b66-e4c9-542b0e1303bb"
      },
      "source": [
        "#!/usr/bin/env python\n",
        "# coding: utf-8\n",
        "\n",
        "# In[168]:\n",
        "\n",
        "\n",
        "import pandas as pd\n",
        "import numpy as np\n",
        "import numpy as np\n",
        "import statsmodels.api as sm\n",
        "\n",
        "# # Stepwise regression for MGUH\n",
        "\n",
        "\n",
        "\n",
        "#### set X and Y from the dataframe\n",
        "x2 = metaData_le.drop(columns=['target'])\n",
        "\n",
        "y2 = metaData_le[['target']]\n",
        "\n",
        "\n",
        "\n",
        "def get_stats():\n",
        "    results = sm.OLS(y2, x2).fit()\n",
        "    print(results.summary())\n",
        "get_stats()\n",
        "\n",
        "\n",
        "# # Stepwise regression Foraward and backward\n",
        "\n",
        "\n",
        "def forward_regression(X, Y,\n",
        "                       threshold_in\n",
        "                      ):\n",
        "    initial_list = []\n",
        "    included = list(initial_list)\n",
        "    while True:\n",
        "        changed=False\n",
        "        excluded = list(set(X.columns)-set(included))\n",
        "        new_pval = pd.Series(index=excluded,dtype='float64')\n",
        "        for new_column in excluded:\n",
        "            model = sm.OLS(Y, sm.add_constant(pd.DataFrame(X[included+[new_column]]))).fit()\n",
        "            new_pval[new_column] = model.pvalues[new_column]\n",
        "        best_pval = new_pval.min()\n",
        "    \n",
        "        if best_pval < threshold_in:\n",
        "            best_feature = new_pval.idxmin()\n",
        "            included.append(best_feature)\n",
        "            changed=True\n",
        "            \n",
        "            print('Included variables  {:30} with p-value {:.6}'.format(best_feature,format( best_pval,'.4f')))\n",
        "\n",
        "        if not changed:\n",
        "            break\n",
        "\n",
        "    return included\n",
        "\n",
        "\n",
        "forward_regression(X=x2,Y=y2,threshold_in=0.05)\n",
        "\n",
        "\n",
        "\n",
        "def backward_regression(X, Y,\n",
        "                           threshold_out\n",
        "                           ):\n",
        "    included=list(X.columns)\n",
        "    while True:\n",
        "        changed=False\n",
        "        model = sm.OLS(Y, sm.add_constant(pd.DataFrame(X[included]))).fit()\n",
        "        # use all coefs except intercept\n",
        "        pvalues = model.pvalues.iloc[1:]\n",
        "        worst_pval = pvalues.max() # null if pvalues is empty\n",
        "        \n",
        "        if worst_pval > threshold_out:\n",
        "            #print(worst_pval)\n",
        "            changed=True\n",
        "            worst_feature = pvalues.idxmax()\n",
        "            included.remove(worst_feature)\n",
        "            print('Removed variable {:30} with p-value {:.6}'.format(worst_feature, format(worst_pval, '.4f')))\n",
        "        if not changed:\n",
        "            break\n",
        "    return included\n",
        "\n",
        "backward_regression(X=x2,Y=y2,threshold_out=.05)\n",
        "\n",
        "\n",
        "\n",
        "\n",
        "\n",
        "\n"
      ],
      "execution_count": 57,
      "outputs": [
        {
          "output_type": "stream",
          "name": "stderr",
          "text": [
            "/usr/local/lib/python3.7/dist-packages/statsmodels/tools/_testing.py:19: FutureWarning: pandas.util.testing is deprecated. Use the functions in the public API at pandas.testing instead.\n",
            "  import pandas.util.testing as tm\n"
          ]
        },
        {
          "output_type": "stream",
          "name": "stdout",
          "text": [
            "                            OLS Regression Results                            \n",
            "==============================================================================\n",
            "Dep. Variable:                 target   R-squared:                       0.305\n",
            "Model:                            OLS   Adj. R-squared:                  0.287\n",
            "Method:                 Least Squares   F-statistic:                     16.38\n",
            "Date:                Fri, 15 Oct 2021   Prob (F-statistic):          5.83e-135\n",
            "Time:                        22:22:25   Log-Likelihood:                -4033.5\n",
            "No. Observations:                2298   AIC:                             8189.\n",
            "Df Residuals:                    2237   BIC:                             8539.\n",
            "Df Model:                          60                                         \n",
            "Covariance Type:            nonrobust                                         \n",
            "=================================================================================================\n",
            "                                    coef    std err          t      P>|t|      [0.025      0.975]\n",
            "-------------------------------------------------------------------------------------------------\n",
            "smoke_False                      -0.0215      0.065     -0.331      0.741      -0.149       0.106\n",
            "smoke_True                        0.1681      0.071      2.366      0.018       0.029       0.307\n",
            "drink_False                       0.1575      0.061      2.574      0.010       0.038       0.278\n",
            "drink_True                       -0.0110      0.060     -0.183      0.855      -0.129       0.107\n",
            "background_father_AUSTRIA         0.0599      1.334      0.045      0.964      -2.556       2.676\n",
            "background_father_BRASIL          0.1475      0.814      0.181      0.856      -1.449       1.744\n",
            "background_father_BRAZIL          0.6043      0.296      2.041      0.041       0.024       1.185\n",
            "background_father_CZECH          -0.9831      0.799     -1.231      0.219      -2.550       0.584\n",
            "background_father_GERMANY         0.0346      0.240      0.144      0.885      -0.435       0.504\n",
            "background_father_ISRAEL         -0.4462      1.348     -0.331      0.741      -3.090       2.197\n",
            "background_father_ITALY           0.0058      0.256      0.022      0.982      -0.497       0.508\n",
            "background_father_NETHERLANDS     1.0049      0.395      2.543      0.011       0.230       1.780\n",
            "background_father_POLAND         -0.6003      0.565     -1.062      0.288      -1.709       0.509\n",
            "background_father_POMERANIA       0.1041      0.301      0.345      0.730      -0.487       0.695\n",
            "background_father_PORTUGAL       -0.0908      0.447     -0.203      0.839      -0.968       0.787\n",
            "background_father_SPAIN           0.3514      1.347      0.261      0.794      -2.289       2.992\n",
            "background_father_UNK            -0.0454      0.294     -0.154      0.877      -0.622       0.532\n",
            "background_mother_BRAZIL          0.1325      0.262      0.505      0.613      -0.382       0.646\n",
            "background_mother_FRANCE         -1.0276      0.983     -1.045      0.296      -2.956       0.900\n",
            "background_mother_GERMANY         0.3780      0.186      2.027      0.043       0.012       0.744\n",
            "background_mother_ITALY           0.4043      0.206      1.958      0.050      -0.001       0.809\n",
            "background_mother_NETHERLANDS     0.2416      0.338      0.715      0.475      -0.421       0.904\n",
            "background_mother_NORWAY         -0.3771      0.565     -0.668      0.504      -1.484       0.730\n",
            "background_mother_POLAND          0.0381      0.482      0.079      0.937      -0.907       0.983\n",
            "background_mother_POMERANIA       0.4281      0.250      1.709      0.088      -0.063       0.919\n",
            "background_mother_PORTUGAL        0.0583      0.361      0.161      0.872      -0.651       0.767\n",
            "background_mother_SPAIN          -0.7311      0.960     -0.762      0.446      -2.613       1.151\n",
            "background_mother_UNK             0.6016      0.265      2.269      0.023       0.082       1.121\n",
            "pesticide_False                   0.1445      0.056      2.600      0.009       0.036       0.254\n",
            "pesticide_True                    0.0020      0.056      0.036      0.971      -0.107       0.111\n",
            "gender_FEMALE                     0.0711      0.056      1.261      0.207      -0.039       0.182\n",
            "gender_MALE                       0.0755      0.057      1.330      0.184      -0.036       0.187\n",
            "skin_cancer_history_False         0.0205      0.053      0.389      0.698      -0.083       0.124\n",
            "skin_cancer_history_True          0.1260      0.052      2.409      0.016       0.023       0.229\n",
            "cancer_history_False              0.0302      0.055      0.548      0.584      -0.078       0.138\n",
            "cancer_history_True               0.1163      0.050      2.348      0.019       0.019       0.213\n",
            "has_piped_water_False             0.0663      0.071      0.936      0.349      -0.073       0.205\n",
            "has_piped_water_True              0.0803      0.069      1.163      0.245      -0.055       0.216\n",
            "has_sewage_system_False           0.0349      0.068      0.514      0.607      -0.098       0.168\n",
            "has_sewage_system_True            0.1116      0.070      1.595      0.111      -0.026       0.249\n",
            "region_ABDOMEN                    0.7624      0.229      3.336      0.001       0.314       1.211\n",
            "region_ARM                       -0.1713      0.111     -1.548      0.122      -0.388       0.046\n",
            "region_BACK                       0.3611      0.100      3.610      0.000       0.165       0.557\n",
            "region_CHEST                     -0.1101      0.096     -1.150      0.250      -0.298       0.078\n",
            "region_EAR                        0.3802      0.166      2.292      0.022       0.055       0.705\n",
            "region_FACE                      -0.1284      0.077     -1.670      0.095      -0.279       0.022\n",
            "region_FOOT                       0.7500      0.339      2.213      0.027       0.085       1.415\n",
            "region_FOREARM                   -0.7181      0.089     -8.050      0.000      -0.893      -0.543\n",
            "region_HAND                      -0.6398      0.131     -4.880      0.000      -0.897      -0.383\n",
            "region_LIP                       -0.1049      0.286     -0.366      0.714      -0.666       0.456\n",
            "region_NECK                      -0.3438      0.149     -2.312      0.021      -0.635      -0.052\n",
            "region_NOSE                      -0.6509      0.123     -5.274      0.000      -0.893      -0.409\n",
            "region_SCALP                      0.4002      0.318      1.260      0.208      -0.223       1.023\n",
            "region_THIGH                      0.3599      0.166      2.164      0.031       0.034       0.686\n",
            "itch_False                        0.3527      0.211      1.668      0.095      -0.062       0.767\n",
            "itch_True                        -0.5799      0.211     -2.748      0.006      -0.994      -0.166\n",
            "itch_UNK                          0.3737      0.428      0.873      0.383      -0.466       1.213\n",
            "grew_False                       -0.2341      0.162     -1.444      0.149      -0.552       0.084\n",
            "grew_True                         0.4626      0.160      2.899      0.004       0.150       0.776\n",
            "grew_UNK                         -0.0820      0.307     -0.267      0.790      -0.685       0.521\n",
            "hurt_False                        0.0146      0.178      0.082      0.935      -0.335       0.364\n",
            "hurt_True                        -0.0002      0.184     -0.001      0.999      -0.361       0.360\n",
            "hurt_UNK                          0.1322      0.353      0.375      0.708      -0.559       0.824\n",
            "changed_False                    -0.2128      0.163     -1.305      0.192      -0.533       0.107\n",
            "changed_True                     -0.1785      0.169     -1.053      0.293      -0.511       0.154\n",
            "changed_UNK                       0.5378      0.309      1.739      0.082      -0.069       1.144\n",
            "bleed_False                       0.2268      0.210      1.079      0.281      -0.186       0.639\n",
            "bleed_True                        0.0018      0.214      0.008      0.993      -0.417       0.421\n",
            "bleed_UNK                        -0.0820      0.425     -0.193      0.847      -0.915       0.751\n",
            "elevation_False                  -0.6102      0.359     -1.700      0.089      -1.314       0.094\n",
            "elevation_True                    0.1880      0.358      0.526      0.599      -0.514       0.890\n",
            "elevation_UNK                     0.5687      0.749      0.759      0.448      -0.901       2.038\n",
            "biopsed_False                     0.3921      0.067      5.814      0.000       0.260       0.524\n",
            "biopsed_True                     -0.2455      0.061     -4.013      0.000      -0.366      -0.126\n",
            "age                               0.0098      0.002      4.689      0.000       0.006       0.014\n",
            "fitspatrick                       0.0800      0.055      1.465      0.143      -0.027       0.187\n",
            "diameter_1                       -0.0001      0.009     -0.013      0.990      -0.018       0.018\n",
            "diameter_2                        0.0052      0.013      0.391      0.696      -0.021       0.031\n",
            "==============================================================================\n",
            "Omnibus:                      197.417   Durbin-Watson:                   1.992\n",
            "Prob(Omnibus):                  0.000   Jarque-Bera (JB):              250.270\n",
            "Skew:                           0.806   Prob(JB):                     4.51e-55\n",
            "Kurtosis:                       3.129   Cond. No.                     1.93e+17\n",
            "==============================================================================\n",
            "\n",
            "Warnings:\n",
            "[1] Standard Errors assume that the covariance matrix of the errors is correctly specified.\n",
            "[2] The smallest eigenvalue is 2.56e-28. This might indicate that there are\n",
            "strong multicollinearity problems or that the design matrix is singular.\n",
            "Included variables  itch_True                      with p-value 0.0000\n",
            "Included variables  elevation_False                with p-value 0.0000\n",
            "Included variables  grew_False                     with p-value 0.0000\n",
            "Included variables  biopsed_True                   with p-value 0.0000\n",
            "Included variables  biopsed_False                  with p-value 0.0000\n",
            "Included variables  region_FOREARM                 with p-value 0.0000\n",
            "Included variables  region_NOSE                    with p-value 0.0000\n",
            "Included variables  region_HAND                    with p-value 0.0000\n",
            "Included variables  age                            with p-value 0.0000\n",
            "Included variables  region_BACK                    with p-value 0.0000\n",
            "Included variables  region_ABDOMEN                 with p-value 0.0006\n",
            "Included variables  bleed_False                    with p-value 0.0008\n",
            "Included variables  region_THIGH                   with p-value 0.0040\n",
            "Included variables  region_EAR                     with p-value 0.0063\n",
            "Included variables  region_FOOT                    with p-value 0.0094\n",
            "Included variables  pesticide_True                 with p-value 0.0236\n",
            "Included variables  pesticide_False                with p-value 0.0000\n",
            "Included variables  background_father_NETHERLANDS  with p-value 0.0224\n",
            "Included variables  changed_UNK                    with p-value 0.0476\n",
            "Included variables  background_father_BRAZIL       with p-value 0.0311\n",
            "Removed variable diameter_1                     with p-value 0.9900\n",
            "Removed variable background_father_ITALY        with p-value 0.9867\n",
            "Removed variable bleed_True                     with p-value 0.9829\n",
            "Removed variable hurt_True                      with p-value 0.9728\n",
            "Removed variable background_father_AUSTRIA      with p-value 0.9697\n",
            "Removed variable background_mother_POLAND       with p-value 0.9394\n",
            "Removed variable background_mother_PORTUGAL     with p-value 0.9752\n",
            "Removed variable pesticide_True                 with p-value 0.9407\n",
            "Removed variable bleed_UNK                      with p-value 0.8963\n",
            "Removed variable hurt_False                     with p-value 0.8825\n",
            "Removed variable background_father_GERMANY      with p-value 0.8795\n",
            "Removed variable background_father_BRASIL       with p-value 0.8841\n",
            "Removed variable background_father_SPAIN        with p-value 0.8236\n",
            "Removed variable hurt_UNK                       with p-value 0.8214\n",
            "Removed variable drink_True                     with p-value 0.8056\n",
            "Removed variable background_mother_BRAZIL       with p-value 0.8009\n",
            "Removed variable background_father_UNK          with p-value 0.7921\n",
            "Removed variable grew_UNK                       with p-value 0.7852\n",
            "Removed variable skin_cancer_history_False      with p-value 0.8456\n",
            "Removed variable background_father_ISRAEL       with p-value 0.7707\n",
            "Removed variable background_father_PORTUGAL     with p-value 0.7474\n",
            "Removed variable grew_False                     with p-value 0.7421\n",
            "Removed variable cancer_history_False           with p-value 0.8195\n",
            "Removed variable has_sewage_system_False        with p-value 0.7979\n",
            "Removed variable region_LIP                     with p-value 0.7101\n",
            "Removed variable region_CHEST                   with p-value 0.9760\n",
            "Removed variable region_FACE                    with p-value 0.8760\n",
            "Removed variable background_father_POMERANIA    with p-value 0.7012\n",
            "Removed variable region_ARM                     with p-value 0.6922\n",
            "Removed variable background_mother_NETHERLANDS  with p-value 0.6655\n",
            "Removed variable smoke_False                    with p-value 0.5920\n",
            "Removed variable has_piped_water_False          with p-value 0.6404\n",
            "Removed variable has_piped_water_True           with p-value 0.9492\n",
            "Removed variable gender_FEMALE                  with p-value 0.5922\n",
            "Removed variable gender_MALE                    with p-value 0.9637\n",
            "Removed variable elevation_True                 with p-value 0.5556\n",
            "Removed variable elevation_UNK                  with p-value 0.7332\n",
            "Removed variable diameter_2                     with p-value 0.4304\n",
            "Removed variable background_mother_NORWAY       with p-value 0.3667\n",
            "Removed variable background_mother_SPAIN        with p-value 0.3675\n",
            "Removed variable background_mother_FRANCE       with p-value 0.2821\n",
            "Removed variable has_sewage_system_True         with p-value 0.2908\n",
            "Removed variable itch_UNK                       with p-value 0.2732\n",
            "Removed variable itch_False                     with p-value 0.8454\n",
            "Removed variable background_father_POLAND       with p-value 0.2437\n",
            "Removed variable cancer_history_True            with p-value 0.2521\n",
            "Removed variable background_father_CZECH        with p-value 0.2504\n",
            "Removed variable skin_cancer_history_True       with p-value 0.2520\n",
            "Removed variable changed_True                   with p-value 0.2356\n",
            "Removed variable changed_False                  with p-value 0.7031\n",
            "Removed variable region_NECK                    with p-value 0.1752\n",
            "Removed variable smoke_True                     with p-value 0.1059\n",
            "Removed variable biopsed_True                   with p-value 0.1251\n",
            "Removed variable drink_False                    with p-value 0.1114\n",
            "Removed variable background_mother_ITALY        with p-value 0.1106\n",
            "Removed variable background_mother_GERMANY      with p-value 0.3086\n",
            "Removed variable background_mother_UNK          with p-value 0.2297\n",
            "Removed variable background_mother_POMERANIA    with p-value 0.1219\n",
            "Removed variable fitspatrick                    with p-value 0.1206\n",
            "Removed variable region_SCALP                   with p-value 0.0891\n"
          ]
        },
        {
          "output_type": "execute_result",
          "data": {
            "text/plain": [
              "['background_father_BRAZIL',\n",
              " 'background_father_NETHERLANDS',\n",
              " 'pesticide_False',\n",
              " 'region_ABDOMEN',\n",
              " 'region_BACK',\n",
              " 'region_EAR',\n",
              " 'region_FOOT',\n",
              " 'region_FOREARM',\n",
              " 'region_HAND',\n",
              " 'region_NOSE',\n",
              " 'region_THIGH',\n",
              " 'itch_True',\n",
              " 'grew_True',\n",
              " 'changed_UNK',\n",
              " 'bleed_False',\n",
              " 'elevation_False',\n",
              " 'biopsed_False',\n",
              " 'age']"
            ]
          },
          "metadata": {},
          "execution_count": 57
        }
      ]
    }
  ]
}